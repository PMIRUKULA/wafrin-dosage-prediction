{
  "cells": [
    {
      "cell_type": "code",
      "execution_count": null,
      "metadata": {
        "id": "Eelt517WvJLy",
        "colab": {
          "base_uri": "https://localhost:8080/"
        },
        "outputId": "258ad57c-3a4e-4a02-df6f-693380eab960"
      },
      "outputs": [
        {
          "output_type": "stream",
          "name": "stdout",
          "text": [
            "Mounted at /content/drive\n"
          ]
        }
      ],
      "source": [
        "from google.colab import drive\n",
        "drive.mount('/content/drive')"
      ]
    },
    {
      "cell_type": "code",
      "execution_count": null,
      "metadata": {
        "id": "6Wnut1bFvfMu",
        "colab": {
          "base_uri": "https://localhost:8080/"
        },
        "outputId": "55cf84b8-dcbb-4b23-d40c-f2b390a08410"
      },
      "outputs": [
        {
          "output_type": "stream",
          "name": "stdout",
          "text": [
            "/content/drive/MyDrive/Colab Notebooks\n"
          ]
        }
      ],
      "source": [
        "%cd '/content/drive/MyDrive/Colab Notebooks'"
      ]
    },
    {
      "cell_type": "code",
      "execution_count": null,
      "metadata": {
        "id": "gdvaq7HvwJgW"
      },
      "outputs": [],
      "source": [
        "import pandas as pd\n",
        "\n",
        "data = pd.read_csv('/content/drive/MyDrive/Colab Notebooks/Homework05/data5.csv', header=[0], sep=',')"
      ]
    },
    {
      "cell_type": "code",
      "execution_count": null,
      "metadata": {
        "id": "Ndw8EOjrwP6e",
        "colab": {
          "base_uri": "https://localhost:8080/",
          "height": 206
        },
        "outputId": "363164e6-1242-4e6f-8536-d22b96ba391c"
      },
      "outputs": [
        {
          "output_type": "execute_result",
          "data": {
            "text/plain": [
              "   Gender  Race       Age  Height  Weight   Diabetes  Simvastatin   \\\n",
              "0    male  White  60 - 69  193.04    115.7       NaN           0.0   \n",
              "1  female  White  50 - 59  176.53    144.2       NaN           0.0   \n",
              "2  female  White  40 - 49  162.56     77.1       NaN           0.0   \n",
              "3    male  White  60 - 69  182.24     90.7       NaN           0.0   \n",
              "4    male  White  50 - 59  167.64     72.6       NaN           0.0   \n",
              "\n",
              "   Amiodarone   INR on ReportedDose genotype  Therapeutic Dow  \n",
              "0          0.0                 2.60      A/G             49.0  \n",
              "1          0.0                 2.15      A/A             42.0  \n",
              "2          0.0                 1.90      G/G             53.0  \n",
              "3          0.0                 2.40      A/G             28.0  \n",
              "4          0.0                 1.90      A/G             42.0  "
            ],
            "text/html": [
              "\n",
              "  <div id=\"df-72a31c7d-fcb7-47fd-9560-ba183ba1abf2\">\n",
              "    <div class=\"colab-df-container\">\n",
              "      <div>\n",
              "<style scoped>\n",
              "    .dataframe tbody tr th:only-of-type {\n",
              "        vertical-align: middle;\n",
              "    }\n",
              "\n",
              "    .dataframe tbody tr th {\n",
              "        vertical-align: top;\n",
              "    }\n",
              "\n",
              "    .dataframe thead th {\n",
              "        text-align: right;\n",
              "    }\n",
              "</style>\n",
              "<table border=\"1\" class=\"dataframe\">\n",
              "  <thead>\n",
              "    <tr style=\"text-align: right;\">\n",
              "      <th></th>\n",
              "      <th>Gender</th>\n",
              "      <th>Race</th>\n",
              "      <th>Age</th>\n",
              "      <th>Height</th>\n",
              "      <th>Weight</th>\n",
              "      <th>Diabetes</th>\n",
              "      <th>Simvastatin</th>\n",
              "      <th>Amiodarone</th>\n",
              "      <th>INR on ReportedDose</th>\n",
              "      <th>genotype</th>\n",
              "      <th>Therapeutic Dow</th>\n",
              "    </tr>\n",
              "  </thead>\n",
              "  <tbody>\n",
              "    <tr>\n",
              "      <th>0</th>\n",
              "      <td>male</td>\n",
              "      <td>White</td>\n",
              "      <td>60 - 69</td>\n",
              "      <td>193.04</td>\n",
              "      <td>115.7</td>\n",
              "      <td>NaN</td>\n",
              "      <td>0.0</td>\n",
              "      <td>0.0</td>\n",
              "      <td>2.60</td>\n",
              "      <td>A/G</td>\n",
              "      <td>49.0</td>\n",
              "    </tr>\n",
              "    <tr>\n",
              "      <th>1</th>\n",
              "      <td>female</td>\n",
              "      <td>White</td>\n",
              "      <td>50 - 59</td>\n",
              "      <td>176.53</td>\n",
              "      <td>144.2</td>\n",
              "      <td>NaN</td>\n",
              "      <td>0.0</td>\n",
              "      <td>0.0</td>\n",
              "      <td>2.15</td>\n",
              "      <td>A/A</td>\n",
              "      <td>42.0</td>\n",
              "    </tr>\n",
              "    <tr>\n",
              "      <th>2</th>\n",
              "      <td>female</td>\n",
              "      <td>White</td>\n",
              "      <td>40 - 49</td>\n",
              "      <td>162.56</td>\n",
              "      <td>77.1</td>\n",
              "      <td>NaN</td>\n",
              "      <td>0.0</td>\n",
              "      <td>0.0</td>\n",
              "      <td>1.90</td>\n",
              "      <td>G/G</td>\n",
              "      <td>53.0</td>\n",
              "    </tr>\n",
              "    <tr>\n",
              "      <th>3</th>\n",
              "      <td>male</td>\n",
              "      <td>White</td>\n",
              "      <td>60 - 69</td>\n",
              "      <td>182.24</td>\n",
              "      <td>90.7</td>\n",
              "      <td>NaN</td>\n",
              "      <td>0.0</td>\n",
              "      <td>0.0</td>\n",
              "      <td>2.40</td>\n",
              "      <td>A/G</td>\n",
              "      <td>28.0</td>\n",
              "    </tr>\n",
              "    <tr>\n",
              "      <th>4</th>\n",
              "      <td>male</td>\n",
              "      <td>White</td>\n",
              "      <td>50 - 59</td>\n",
              "      <td>167.64</td>\n",
              "      <td>72.6</td>\n",
              "      <td>NaN</td>\n",
              "      <td>0.0</td>\n",
              "      <td>0.0</td>\n",
              "      <td>1.90</td>\n",
              "      <td>A/G</td>\n",
              "      <td>42.0</td>\n",
              "    </tr>\n",
              "  </tbody>\n",
              "</table>\n",
              "</div>\n",
              "      <button class=\"colab-df-convert\" onclick=\"convertToInteractive('df-72a31c7d-fcb7-47fd-9560-ba183ba1abf2')\"\n",
              "              title=\"Convert this dataframe to an interactive table.\"\n",
              "              style=\"display:none;\">\n",
              "        \n",
              "  <svg xmlns=\"http://www.w3.org/2000/svg\" height=\"24px\"viewBox=\"0 0 24 24\"\n",
              "       width=\"24px\">\n",
              "    <path d=\"M0 0h24v24H0V0z\" fill=\"none\"/>\n",
              "    <path d=\"M18.56 5.44l.94 2.06.94-2.06 2.06-.94-2.06-.94-.94-2.06-.94 2.06-2.06.94zm-11 1L8.5 8.5l.94-2.06 2.06-.94-2.06-.94L8.5 2.5l-.94 2.06-2.06.94zm10 10l.94 2.06.94-2.06 2.06-.94-2.06-.94-.94-2.06-.94 2.06-2.06.94z\"/><path d=\"M17.41 7.96l-1.37-1.37c-.4-.4-.92-.59-1.43-.59-.52 0-1.04.2-1.43.59L10.3 9.45l-7.72 7.72c-.78.78-.78 2.05 0 2.83L4 21.41c.39.39.9.59 1.41.59.51 0 1.02-.2 1.41-.59l7.78-7.78 2.81-2.81c.8-.78.8-2.07 0-2.86zM5.41 20L4 18.59l7.72-7.72 1.47 1.35L5.41 20z\"/>\n",
              "  </svg>\n",
              "      </button>\n",
              "      \n",
              "  <style>\n",
              "    .colab-df-container {\n",
              "      display:flex;\n",
              "      flex-wrap:wrap;\n",
              "      gap: 12px;\n",
              "    }\n",
              "\n",
              "    .colab-df-convert {\n",
              "      background-color: #E8F0FE;\n",
              "      border: none;\n",
              "      border-radius: 50%;\n",
              "      cursor: pointer;\n",
              "      display: none;\n",
              "      fill: #1967D2;\n",
              "      height: 32px;\n",
              "      padding: 0 0 0 0;\n",
              "      width: 32px;\n",
              "    }\n",
              "\n",
              "    .colab-df-convert:hover {\n",
              "      background-color: #E2EBFA;\n",
              "      box-shadow: 0px 1px 2px rgba(60, 64, 67, 0.3), 0px 1px 3px 1px rgba(60, 64, 67, 0.15);\n",
              "      fill: #174EA6;\n",
              "    }\n",
              "\n",
              "    [theme=dark] .colab-df-convert {\n",
              "      background-color: #3B4455;\n",
              "      fill: #D2E3FC;\n",
              "    }\n",
              "\n",
              "    [theme=dark] .colab-df-convert:hover {\n",
              "      background-color: #434B5C;\n",
              "      box-shadow: 0px 1px 3px 1px rgba(0, 0, 0, 0.15);\n",
              "      filter: drop-shadow(0px 1px 2px rgba(0, 0, 0, 0.3));\n",
              "      fill: #FFFFFF;\n",
              "    }\n",
              "  </style>\n",
              "\n",
              "      <script>\n",
              "        const buttonEl =\n",
              "          document.querySelector('#df-72a31c7d-fcb7-47fd-9560-ba183ba1abf2 button.colab-df-convert');\n",
              "        buttonEl.style.display =\n",
              "          google.colab.kernel.accessAllowed ? 'block' : 'none';\n",
              "\n",
              "        async function convertToInteractive(key) {\n",
              "          const element = document.querySelector('#df-72a31c7d-fcb7-47fd-9560-ba183ba1abf2');\n",
              "          const dataTable =\n",
              "            await google.colab.kernel.invokeFunction('convertToInteractive',\n",
              "                                                     [key], {});\n",
              "          if (!dataTable) return;\n",
              "\n",
              "          const docLinkHtml = 'Like what you see? Visit the ' +\n",
              "            '<a target=\"_blank\" href=https://colab.research.google.com/notebooks/data_table.ipynb>data table notebook</a>'\n",
              "            + ' to learn more about interactive tables.';\n",
              "          element.innerHTML = '';\n",
              "          dataTable['output_type'] = 'display_data';\n",
              "          await google.colab.output.renderOutput(dataTable, element);\n",
              "          const docLink = document.createElement('div');\n",
              "          docLink.innerHTML = docLinkHtml;\n",
              "          element.appendChild(docLink);\n",
              "        }\n",
              "      </script>\n",
              "    </div>\n",
              "  </div>\n",
              "  "
            ]
          },
          "metadata": {},
          "execution_count": 4
        }
      ],
      "source": [
        "data.head()"
      ]
    },
    {
      "cell_type": "code",
      "execution_count": null,
      "metadata": {
        "id": "-8sSsXDjwTGi",
        "colab": {
          "base_uri": "https://localhost:8080/"
        },
        "outputId": "1dc27ca4-446d-460c-bb6c-49f840a4f2fc"
      },
      "outputs": [
        {
          "output_type": "stream",
          "name": "stdout",
          "text": [
            "<class 'pandas.core.frame.DataFrame'>\n",
            "RangeIndex: 5700 entries, 0 to 5699\n",
            "Data columns (total 11 columns):\n",
            " #   Column               Non-Null Count  Dtype  \n",
            "---  ------               --------------  -----  \n",
            " 0   Gender               5696 non-null   object \n",
            " 1   Race                 5194 non-null   object \n",
            " 2   Age                  5658 non-null   object \n",
            " 3   Height               4554 non-null   float64\n",
            " 4   Weight               5413 non-null   float64\n",
            " 5   Diabetes             3283 non-null   float64\n",
            " 6   Simvastatin          3861 non-null   float64\n",
            " 7   Amiodarone           4182 non-null   float64\n",
            " 8   INR on ReportedDose  4968 non-null   float64\n",
            " 9   genotype             4046 non-null   object \n",
            " 10  Therapeutic Dow      5528 non-null   float64\n",
            "dtypes: float64(7), object(4)\n",
            "memory usage: 490.0+ KB\n"
          ]
        }
      ],
      "source": [
        "data.info()"
      ]
    },
    {
      "cell_type": "code",
      "execution_count": null,
      "metadata": {
        "id": "U966_0oYz328",
        "colab": {
          "base_uri": "https://localhost:8080/",
          "height": 300
        },
        "outputId": "8cf33f9f-6051-452d-b6a7-df3a51df7fb4"
      },
      "outputs": [
        {
          "output_type": "execute_result",
          "data": {
            "text/plain": [
              "            Height      Weight      Diabetes  Simvastatin   Amiodarone   \\\n",
              "count  4554.000000  5413.000000  3283.000000   3861.000000  4182.000000   \n",
              "mean    168.047811    77.853057     0.187024      0.146335     0.066236   \n",
              "std      10.846051    21.860018     0.389990      0.353488     0.248724   \n",
              "min     124.970000    30.000000     0.000000      0.000000     0.000000   \n",
              "25%     160.020000    62.000000     0.000000      0.000000     0.000000   \n",
              "50%     167.890000    75.000000     0.000000      0.000000     0.000000   \n",
              "75%     176.020000    90.000000     0.000000      0.000000     0.000000   \n",
              "max     202.000000   237.700000     1.000000      1.000000     1.000000   \n",
              "\n",
              "       INR on ReportedDose  Therapeutic Dow  \n",
              "count          4968.000000      5528.000000  \n",
              "mean              2.364436        30.977873  \n",
              "std               0.464645        16.801040  \n",
              "min               0.800000         2.100000  \n",
              "25%               2.100000        19.530000  \n",
              "50%               2.400000        28.000000  \n",
              "75%               2.610000        38.500000  \n",
              "max               6.100000       315.000000  "
            ],
            "text/html": [
              "\n",
              "  <div id=\"df-ca966eae-2be2-47c9-9410-d1860766019d\">\n",
              "    <div class=\"colab-df-container\">\n",
              "      <div>\n",
              "<style scoped>\n",
              "    .dataframe tbody tr th:only-of-type {\n",
              "        vertical-align: middle;\n",
              "    }\n",
              "\n",
              "    .dataframe tbody tr th {\n",
              "        vertical-align: top;\n",
              "    }\n",
              "\n",
              "    .dataframe thead th {\n",
              "        text-align: right;\n",
              "    }\n",
              "</style>\n",
              "<table border=\"1\" class=\"dataframe\">\n",
              "  <thead>\n",
              "    <tr style=\"text-align: right;\">\n",
              "      <th></th>\n",
              "      <th>Height</th>\n",
              "      <th>Weight</th>\n",
              "      <th>Diabetes</th>\n",
              "      <th>Simvastatin</th>\n",
              "      <th>Amiodarone</th>\n",
              "      <th>INR on ReportedDose</th>\n",
              "      <th>Therapeutic Dow</th>\n",
              "    </tr>\n",
              "  </thead>\n",
              "  <tbody>\n",
              "    <tr>\n",
              "      <th>count</th>\n",
              "      <td>4554.000000</td>\n",
              "      <td>5413.000000</td>\n",
              "      <td>3283.000000</td>\n",
              "      <td>3861.000000</td>\n",
              "      <td>4182.000000</td>\n",
              "      <td>4968.000000</td>\n",
              "      <td>5528.000000</td>\n",
              "    </tr>\n",
              "    <tr>\n",
              "      <th>mean</th>\n",
              "      <td>168.047811</td>\n",
              "      <td>77.853057</td>\n",
              "      <td>0.187024</td>\n",
              "      <td>0.146335</td>\n",
              "      <td>0.066236</td>\n",
              "      <td>2.364436</td>\n",
              "      <td>30.977873</td>\n",
              "    </tr>\n",
              "    <tr>\n",
              "      <th>std</th>\n",
              "      <td>10.846051</td>\n",
              "      <td>21.860018</td>\n",
              "      <td>0.389990</td>\n",
              "      <td>0.353488</td>\n",
              "      <td>0.248724</td>\n",
              "      <td>0.464645</td>\n",
              "      <td>16.801040</td>\n",
              "    </tr>\n",
              "    <tr>\n",
              "      <th>min</th>\n",
              "      <td>124.970000</td>\n",
              "      <td>30.000000</td>\n",
              "      <td>0.000000</td>\n",
              "      <td>0.000000</td>\n",
              "      <td>0.000000</td>\n",
              "      <td>0.800000</td>\n",
              "      <td>2.100000</td>\n",
              "    </tr>\n",
              "    <tr>\n",
              "      <th>25%</th>\n",
              "      <td>160.020000</td>\n",
              "      <td>62.000000</td>\n",
              "      <td>0.000000</td>\n",
              "      <td>0.000000</td>\n",
              "      <td>0.000000</td>\n",
              "      <td>2.100000</td>\n",
              "      <td>19.530000</td>\n",
              "    </tr>\n",
              "    <tr>\n",
              "      <th>50%</th>\n",
              "      <td>167.890000</td>\n",
              "      <td>75.000000</td>\n",
              "      <td>0.000000</td>\n",
              "      <td>0.000000</td>\n",
              "      <td>0.000000</td>\n",
              "      <td>2.400000</td>\n",
              "      <td>28.000000</td>\n",
              "    </tr>\n",
              "    <tr>\n",
              "      <th>75%</th>\n",
              "      <td>176.020000</td>\n",
              "      <td>90.000000</td>\n",
              "      <td>0.000000</td>\n",
              "      <td>0.000000</td>\n",
              "      <td>0.000000</td>\n",
              "      <td>2.610000</td>\n",
              "      <td>38.500000</td>\n",
              "    </tr>\n",
              "    <tr>\n",
              "      <th>max</th>\n",
              "      <td>202.000000</td>\n",
              "      <td>237.700000</td>\n",
              "      <td>1.000000</td>\n",
              "      <td>1.000000</td>\n",
              "      <td>1.000000</td>\n",
              "      <td>6.100000</td>\n",
              "      <td>315.000000</td>\n",
              "    </tr>\n",
              "  </tbody>\n",
              "</table>\n",
              "</div>\n",
              "      <button class=\"colab-df-convert\" onclick=\"convertToInteractive('df-ca966eae-2be2-47c9-9410-d1860766019d')\"\n",
              "              title=\"Convert this dataframe to an interactive table.\"\n",
              "              style=\"display:none;\">\n",
              "        \n",
              "  <svg xmlns=\"http://www.w3.org/2000/svg\" height=\"24px\"viewBox=\"0 0 24 24\"\n",
              "       width=\"24px\">\n",
              "    <path d=\"M0 0h24v24H0V0z\" fill=\"none\"/>\n",
              "    <path d=\"M18.56 5.44l.94 2.06.94-2.06 2.06-.94-2.06-.94-.94-2.06-.94 2.06-2.06.94zm-11 1L8.5 8.5l.94-2.06 2.06-.94-2.06-.94L8.5 2.5l-.94 2.06-2.06.94zm10 10l.94 2.06.94-2.06 2.06-.94-2.06-.94-.94-2.06-.94 2.06-2.06.94z\"/><path d=\"M17.41 7.96l-1.37-1.37c-.4-.4-.92-.59-1.43-.59-.52 0-1.04.2-1.43.59L10.3 9.45l-7.72 7.72c-.78.78-.78 2.05 0 2.83L4 21.41c.39.39.9.59 1.41.59.51 0 1.02-.2 1.41-.59l7.78-7.78 2.81-2.81c.8-.78.8-2.07 0-2.86zM5.41 20L4 18.59l7.72-7.72 1.47 1.35L5.41 20z\"/>\n",
              "  </svg>\n",
              "      </button>\n",
              "      \n",
              "  <style>\n",
              "    .colab-df-container {\n",
              "      display:flex;\n",
              "      flex-wrap:wrap;\n",
              "      gap: 12px;\n",
              "    }\n",
              "\n",
              "    .colab-df-convert {\n",
              "      background-color: #E8F0FE;\n",
              "      border: none;\n",
              "      border-radius: 50%;\n",
              "      cursor: pointer;\n",
              "      display: none;\n",
              "      fill: #1967D2;\n",
              "      height: 32px;\n",
              "      padding: 0 0 0 0;\n",
              "      width: 32px;\n",
              "    }\n",
              "\n",
              "    .colab-df-convert:hover {\n",
              "      background-color: #E2EBFA;\n",
              "      box-shadow: 0px 1px 2px rgba(60, 64, 67, 0.3), 0px 1px 3px 1px rgba(60, 64, 67, 0.15);\n",
              "      fill: #174EA6;\n",
              "    }\n",
              "\n",
              "    [theme=dark] .colab-df-convert {\n",
              "      background-color: #3B4455;\n",
              "      fill: #D2E3FC;\n",
              "    }\n",
              "\n",
              "    [theme=dark] .colab-df-convert:hover {\n",
              "      background-color: #434B5C;\n",
              "      box-shadow: 0px 1px 3px 1px rgba(0, 0, 0, 0.15);\n",
              "      filter: drop-shadow(0px 1px 2px rgba(0, 0, 0, 0.3));\n",
              "      fill: #FFFFFF;\n",
              "    }\n",
              "  </style>\n",
              "\n",
              "      <script>\n",
              "        const buttonEl =\n",
              "          document.querySelector('#df-ca966eae-2be2-47c9-9410-d1860766019d button.colab-df-convert');\n",
              "        buttonEl.style.display =\n",
              "          google.colab.kernel.accessAllowed ? 'block' : 'none';\n",
              "\n",
              "        async function convertToInteractive(key) {\n",
              "          const element = document.querySelector('#df-ca966eae-2be2-47c9-9410-d1860766019d');\n",
              "          const dataTable =\n",
              "            await google.colab.kernel.invokeFunction('convertToInteractive',\n",
              "                                                     [key], {});\n",
              "          if (!dataTable) return;\n",
              "\n",
              "          const docLinkHtml = 'Like what you see? Visit the ' +\n",
              "            '<a target=\"_blank\" href=https://colab.research.google.com/notebooks/data_table.ipynb>data table notebook</a>'\n",
              "            + ' to learn more about interactive tables.';\n",
              "          element.innerHTML = '';\n",
              "          dataTable['output_type'] = 'display_data';\n",
              "          await google.colab.output.renderOutput(dataTable, element);\n",
              "          const docLink = document.createElement('div');\n",
              "          docLink.innerHTML = docLinkHtml;\n",
              "          element.appendChild(docLink);\n",
              "        }\n",
              "      </script>\n",
              "    </div>\n",
              "  </div>\n",
              "  "
            ]
          },
          "metadata": {},
          "execution_count": 6
        }
      ],
      "source": [
        "data.describe()"
      ]
    },
    {
      "cell_type": "code",
      "execution_count": null,
      "metadata": {
        "id": "WufB8brm0gCN",
        "colab": {
          "base_uri": "https://localhost:8080/",
          "height": 424
        },
        "outputId": "81b0445e-04fb-470a-a7ed-f72c1667fc8f"
      },
      "outputs": [
        {
          "output_type": "execute_result",
          "data": {
            "text/plain": [
              "      Gender  Race       Age  Height  Weight   Diabetes  Simvastatin   \\\n",
              "0       male  White  60 - 69  193.04    115.7       NaN           0.0   \n",
              "1     female  White  50 - 59  176.53    144.2       NaN           0.0   \n",
              "2     female  White  40 - 49  162.56     77.1       NaN           0.0   \n",
              "3       male  White  60 - 69  182.24     90.7       NaN           0.0   \n",
              "4       male  White  50 - 59  167.64     72.6       NaN           0.0   \n",
              "...      ...    ...      ...     ...      ...       ...           ...   \n",
              "5695    male  White  20 - 29  185.42    113.6       0.0           0.0   \n",
              "5696  female  White  70 - 79  160.02     55.9       0.0           0.0   \n",
              "5697    male  White  60 - 69  187.96     97.7       0.0           0.0   \n",
              "5698    male  White  60 - 69  177.80     87.3       0.0           0.0   \n",
              "5699    male  White  70 - 79  190.50     79.6       0.0           0.0   \n",
              "\n",
              "      Amiodarone   INR on ReportedDose genotype  Therapeutic Dow  \n",
              "0             0.0                 2.60      A/G            49.00  \n",
              "1             0.0                 2.15      A/A            42.00  \n",
              "2             0.0                 1.90      G/G            53.00  \n",
              "3             0.0                 2.40      A/G            28.00  \n",
              "4             0.0                 1.90      A/G            42.00  \n",
              "...           ...                  ...      ...              ...  \n",
              "5695          0.0                 2.80      NaN            52.50  \n",
              "5696          0.0                 2.80      NaN            27.51  \n",
              "5697          0.0                 2.00      NaN            57.47  \n",
              "5698          0.0                 2.00      NaN            70.00  \n",
              "5699          0.0                 3.00      NaN            24.01  \n",
              "\n",
              "[5700 rows x 11 columns]"
            ],
            "text/html": [
              "\n",
              "  <div id=\"df-a2591586-12ca-45ea-b1e6-2263936b87ac\">\n",
              "    <div class=\"colab-df-container\">\n",
              "      <div>\n",
              "<style scoped>\n",
              "    .dataframe tbody tr th:only-of-type {\n",
              "        vertical-align: middle;\n",
              "    }\n",
              "\n",
              "    .dataframe tbody tr th {\n",
              "        vertical-align: top;\n",
              "    }\n",
              "\n",
              "    .dataframe thead th {\n",
              "        text-align: right;\n",
              "    }\n",
              "</style>\n",
              "<table border=\"1\" class=\"dataframe\">\n",
              "  <thead>\n",
              "    <tr style=\"text-align: right;\">\n",
              "      <th></th>\n",
              "      <th>Gender</th>\n",
              "      <th>Race</th>\n",
              "      <th>Age</th>\n",
              "      <th>Height</th>\n",
              "      <th>Weight</th>\n",
              "      <th>Diabetes</th>\n",
              "      <th>Simvastatin</th>\n",
              "      <th>Amiodarone</th>\n",
              "      <th>INR on ReportedDose</th>\n",
              "      <th>genotype</th>\n",
              "      <th>Therapeutic Dow</th>\n",
              "    </tr>\n",
              "  </thead>\n",
              "  <tbody>\n",
              "    <tr>\n",
              "      <th>0</th>\n",
              "      <td>male</td>\n",
              "      <td>White</td>\n",
              "      <td>60 - 69</td>\n",
              "      <td>193.04</td>\n",
              "      <td>115.7</td>\n",
              "      <td>NaN</td>\n",
              "      <td>0.0</td>\n",
              "      <td>0.0</td>\n",
              "      <td>2.60</td>\n",
              "      <td>A/G</td>\n",
              "      <td>49.00</td>\n",
              "    </tr>\n",
              "    <tr>\n",
              "      <th>1</th>\n",
              "      <td>female</td>\n",
              "      <td>White</td>\n",
              "      <td>50 - 59</td>\n",
              "      <td>176.53</td>\n",
              "      <td>144.2</td>\n",
              "      <td>NaN</td>\n",
              "      <td>0.0</td>\n",
              "      <td>0.0</td>\n",
              "      <td>2.15</td>\n",
              "      <td>A/A</td>\n",
              "      <td>42.00</td>\n",
              "    </tr>\n",
              "    <tr>\n",
              "      <th>2</th>\n",
              "      <td>female</td>\n",
              "      <td>White</td>\n",
              "      <td>40 - 49</td>\n",
              "      <td>162.56</td>\n",
              "      <td>77.1</td>\n",
              "      <td>NaN</td>\n",
              "      <td>0.0</td>\n",
              "      <td>0.0</td>\n",
              "      <td>1.90</td>\n",
              "      <td>G/G</td>\n",
              "      <td>53.00</td>\n",
              "    </tr>\n",
              "    <tr>\n",
              "      <th>3</th>\n",
              "      <td>male</td>\n",
              "      <td>White</td>\n",
              "      <td>60 - 69</td>\n",
              "      <td>182.24</td>\n",
              "      <td>90.7</td>\n",
              "      <td>NaN</td>\n",
              "      <td>0.0</td>\n",
              "      <td>0.0</td>\n",
              "      <td>2.40</td>\n",
              "      <td>A/G</td>\n",
              "      <td>28.00</td>\n",
              "    </tr>\n",
              "    <tr>\n",
              "      <th>4</th>\n",
              "      <td>male</td>\n",
              "      <td>White</td>\n",
              "      <td>50 - 59</td>\n",
              "      <td>167.64</td>\n",
              "      <td>72.6</td>\n",
              "      <td>NaN</td>\n",
              "      <td>0.0</td>\n",
              "      <td>0.0</td>\n",
              "      <td>1.90</td>\n",
              "      <td>A/G</td>\n",
              "      <td>42.00</td>\n",
              "    </tr>\n",
              "    <tr>\n",
              "      <th>...</th>\n",
              "      <td>...</td>\n",
              "      <td>...</td>\n",
              "      <td>...</td>\n",
              "      <td>...</td>\n",
              "      <td>...</td>\n",
              "      <td>...</td>\n",
              "      <td>...</td>\n",
              "      <td>...</td>\n",
              "      <td>...</td>\n",
              "      <td>...</td>\n",
              "      <td>...</td>\n",
              "    </tr>\n",
              "    <tr>\n",
              "      <th>5695</th>\n",
              "      <td>male</td>\n",
              "      <td>White</td>\n",
              "      <td>20 - 29</td>\n",
              "      <td>185.42</td>\n",
              "      <td>113.6</td>\n",
              "      <td>0.0</td>\n",
              "      <td>0.0</td>\n",
              "      <td>0.0</td>\n",
              "      <td>2.80</td>\n",
              "      <td>NaN</td>\n",
              "      <td>52.50</td>\n",
              "    </tr>\n",
              "    <tr>\n",
              "      <th>5696</th>\n",
              "      <td>female</td>\n",
              "      <td>White</td>\n",
              "      <td>70 - 79</td>\n",
              "      <td>160.02</td>\n",
              "      <td>55.9</td>\n",
              "      <td>0.0</td>\n",
              "      <td>0.0</td>\n",
              "      <td>0.0</td>\n",
              "      <td>2.80</td>\n",
              "      <td>NaN</td>\n",
              "      <td>27.51</td>\n",
              "    </tr>\n",
              "    <tr>\n",
              "      <th>5697</th>\n",
              "      <td>male</td>\n",
              "      <td>White</td>\n",
              "      <td>60 - 69</td>\n",
              "      <td>187.96</td>\n",
              "      <td>97.7</td>\n",
              "      <td>0.0</td>\n",
              "      <td>0.0</td>\n",
              "      <td>0.0</td>\n",
              "      <td>2.00</td>\n",
              "      <td>NaN</td>\n",
              "      <td>57.47</td>\n",
              "    </tr>\n",
              "    <tr>\n",
              "      <th>5698</th>\n",
              "      <td>male</td>\n",
              "      <td>White</td>\n",
              "      <td>60 - 69</td>\n",
              "      <td>177.80</td>\n",
              "      <td>87.3</td>\n",
              "      <td>0.0</td>\n",
              "      <td>0.0</td>\n",
              "      <td>0.0</td>\n",
              "      <td>2.00</td>\n",
              "      <td>NaN</td>\n",
              "      <td>70.00</td>\n",
              "    </tr>\n",
              "    <tr>\n",
              "      <th>5699</th>\n",
              "      <td>male</td>\n",
              "      <td>White</td>\n",
              "      <td>70 - 79</td>\n",
              "      <td>190.50</td>\n",
              "      <td>79.6</td>\n",
              "      <td>0.0</td>\n",
              "      <td>0.0</td>\n",
              "      <td>0.0</td>\n",
              "      <td>3.00</td>\n",
              "      <td>NaN</td>\n",
              "      <td>24.01</td>\n",
              "    </tr>\n",
              "  </tbody>\n",
              "</table>\n",
              "<p>5700 rows × 11 columns</p>\n",
              "</div>\n",
              "      <button class=\"colab-df-convert\" onclick=\"convertToInteractive('df-a2591586-12ca-45ea-b1e6-2263936b87ac')\"\n",
              "              title=\"Convert this dataframe to an interactive table.\"\n",
              "              style=\"display:none;\">\n",
              "        \n",
              "  <svg xmlns=\"http://www.w3.org/2000/svg\" height=\"24px\"viewBox=\"0 0 24 24\"\n",
              "       width=\"24px\">\n",
              "    <path d=\"M0 0h24v24H0V0z\" fill=\"none\"/>\n",
              "    <path d=\"M18.56 5.44l.94 2.06.94-2.06 2.06-.94-2.06-.94-.94-2.06-.94 2.06-2.06.94zm-11 1L8.5 8.5l.94-2.06 2.06-.94-2.06-.94L8.5 2.5l-.94 2.06-2.06.94zm10 10l.94 2.06.94-2.06 2.06-.94-2.06-.94-.94-2.06-.94 2.06-2.06.94z\"/><path d=\"M17.41 7.96l-1.37-1.37c-.4-.4-.92-.59-1.43-.59-.52 0-1.04.2-1.43.59L10.3 9.45l-7.72 7.72c-.78.78-.78 2.05 0 2.83L4 21.41c.39.39.9.59 1.41.59.51 0 1.02-.2 1.41-.59l7.78-7.78 2.81-2.81c.8-.78.8-2.07 0-2.86zM5.41 20L4 18.59l7.72-7.72 1.47 1.35L5.41 20z\"/>\n",
              "  </svg>\n",
              "      </button>\n",
              "      \n",
              "  <style>\n",
              "    .colab-df-container {\n",
              "      display:flex;\n",
              "      flex-wrap:wrap;\n",
              "      gap: 12px;\n",
              "    }\n",
              "\n",
              "    .colab-df-convert {\n",
              "      background-color: #E8F0FE;\n",
              "      border: none;\n",
              "      border-radius: 50%;\n",
              "      cursor: pointer;\n",
              "      display: none;\n",
              "      fill: #1967D2;\n",
              "      height: 32px;\n",
              "      padding: 0 0 0 0;\n",
              "      width: 32px;\n",
              "    }\n",
              "\n",
              "    .colab-df-convert:hover {\n",
              "      background-color: #E2EBFA;\n",
              "      box-shadow: 0px 1px 2px rgba(60, 64, 67, 0.3), 0px 1px 3px 1px rgba(60, 64, 67, 0.15);\n",
              "      fill: #174EA6;\n",
              "    }\n",
              "\n",
              "    [theme=dark] .colab-df-convert {\n",
              "      background-color: #3B4455;\n",
              "      fill: #D2E3FC;\n",
              "    }\n",
              "\n",
              "    [theme=dark] .colab-df-convert:hover {\n",
              "      background-color: #434B5C;\n",
              "      box-shadow: 0px 1px 3px 1px rgba(0, 0, 0, 0.15);\n",
              "      filter: drop-shadow(0px 1px 2px rgba(0, 0, 0, 0.3));\n",
              "      fill: #FFFFFF;\n",
              "    }\n",
              "  </style>\n",
              "\n",
              "      <script>\n",
              "        const buttonEl =\n",
              "          document.querySelector('#df-a2591586-12ca-45ea-b1e6-2263936b87ac button.colab-df-convert');\n",
              "        buttonEl.style.display =\n",
              "          google.colab.kernel.accessAllowed ? 'block' : 'none';\n",
              "\n",
              "        async function convertToInteractive(key) {\n",
              "          const element = document.querySelector('#df-a2591586-12ca-45ea-b1e6-2263936b87ac');\n",
              "          const dataTable =\n",
              "            await google.colab.kernel.invokeFunction('convertToInteractive',\n",
              "                                                     [key], {});\n",
              "          if (!dataTable) return;\n",
              "\n",
              "          const docLinkHtml = 'Like what you see? Visit the ' +\n",
              "            '<a target=\"_blank\" href=https://colab.research.google.com/notebooks/data_table.ipynb>data table notebook</a>'\n",
              "            + ' to learn more about interactive tables.';\n",
              "          element.innerHTML = '';\n",
              "          dataTable['output_type'] = 'display_data';\n",
              "          await google.colab.output.renderOutput(dataTable, element);\n",
              "          const docLink = document.createElement('div');\n",
              "          docLink.innerHTML = docLinkHtml;\n",
              "          element.appendChild(docLink);\n",
              "        }\n",
              "      </script>\n",
              "    </div>\n",
              "  </div>\n",
              "  "
            ]
          },
          "metadata": {},
          "execution_count": 7
        }
      ],
      "source": [
        "data"
      ]
    },
    {
      "cell_type": "code",
      "execution_count": null,
      "metadata": {
        "id": "-0lI188V0teK",
        "colab": {
          "base_uri": "https://localhost:8080/",
          "height": 1000
        },
        "outputId": "b17e6647-ed4a-4e21-e196-7a3d2e794850"
      },
      "outputs": [
        {
          "output_type": "display_data",
          "data": {
            "text/plain": [
              "<Figure size 2000x1500 with 9 Axes>"
            ],
            "image/png": "[encoded data removed]"
          },
          "metadata": {}
        }
      ],
      "source": [
        "import matplotlib.pyplot as plt\n",
        "data.hist(bins=50, figsize=(20,15))\n",
        "plt.show()"
      ]
    },
    {
      "cell_type": "code",
      "execution_count": null,
      "metadata": {
        "id": "kSE1AmrY2VUA",
        "colab": {
          "base_uri": "https://localhost:8080/",
          "height": 613
        },
        "outputId": "25328753-1e76-42b5-e5bd-c2aaae99e90f"
      },
      "outputs": [
        {
          "output_type": "execute_result",
          "data": {
            "text/plain": [
              "<Axes: >"
            ]
          },
          "metadata": {},
          "execution_count": 9
        },
        {
          "output_type": "display_data",
          "data": {
            "text/plain": [
              "<Figure size 640x480 with 1 Axes>"
            ],
            "image/png": "[encoded data removed]"
          },
          "metadata": {}
        }
      ],
      "source": [
        "category = data['Race ']\n",
        "counts = data['Race '].value_counts()\n",
        "# print(counts)\n",
        "data['Race '].value_counts().plot(kind= 'bar')"
      ]
    },
    {
      "cell_type": "code",
      "execution_count": null,
      "metadata": {
        "id": "5Pdgwxnw2anx",
        "colab": {
          "base_uri": "https://localhost:8080/",
          "height": 423
        },
        "outputId": "3805bc6b-8a23-44f7-8fda-28060602e653"
      },
      "outputs": [
        {
          "output_type": "execute_result",
          "data": {
            "text/plain": [
              "<Axes: ylabel='Gender'>"
            ]
          },
          "metadata": {},
          "execution_count": 10
        },
        {
          "output_type": "display_data",
          "data": {
            "text/plain": [
              "<Figure size 640x480 with 1 Axes>"
            ],
            "image/png": "[encoded data removed]"
          },
          "metadata": {}
        }
      ],
      "source": [
        "data['Gender'].value_counts().plot(kind= 'pie')"
      ]
    },
    {
      "cell_type": "code",
      "execution_count": null,
      "metadata": {
        "id": "7fM2KiSr2dBM",
        "colab": {
          "base_uri": "https://localhost:8080/",
          "height": 482
        },
        "outputId": "bd9920c8-dd11-4a74-dd8a-af812b3bde97"
      },
      "outputs": [
        {
          "output_type": "execute_result",
          "data": {
            "text/plain": [
              "<Axes: >"
            ]
          },
          "metadata": {},
          "execution_count": 11
        },
        {
          "output_type": "display_data",
          "data": {
            "text/plain": [
              "<Figure size 640x480 with 1 Axes>"
            ],
            "image/png": "[encoded data removed]"
          },
          "metadata": {}
        }
      ],
      "source": [
        "data['Age'].value_counts().plot(kind= 'bar')"
      ]
    },
    {
      "cell_type": "code",
      "execution_count": null,
      "metadata": {
        "id": "YbbwxPr72f3z",
        "colab": {
          "base_uri": "https://localhost:8080/",
          "height": 423
        },
        "outputId": "709a15ca-6e09-4a70-b977-02f08dee76b8"
      },
      "outputs": [
        {
          "output_type": "execute_result",
          "data": {
            "text/plain": [
              "<Axes: ylabel='genotype'>"
            ]
          },
          "metadata": {},
          "execution_count": 12
        },
        {
          "output_type": "display_data",
          "data": {
            "text/plain": [
              "<Figure size 640x480 with 1 Axes>"
            ],
            "image/png": "[encoded data removed]"
          },
          "metadata": {}
        }
      ],
      "source": [
        "data['genotype'].value_counts().plot(kind= 'pie')\n",
        "category = data['genotype']\n",
        "counts = data['genotype'].value_counts()\n",
        "# print(counts)\n",
        "data['genotype'].value_counts().plot(kind= 'pie')"
      ]
    },
    {
      "cell_type": "code",
      "execution_count": null,
      "metadata": {
        "id": "LFqyhaM72iQM",
        "colab": {
          "base_uri": "https://localhost:8080/"
        },
        "outputId": "bb9070d6-a2b3-4428-e3a0-0de810f594ef"
      },
      "outputs": [
        {
          "output_type": "stream",
          "name": "stdout",
          "text": [
            "   Gender  Race       Age  Height  Weight  Diabetes Simvastatin  Amiodarone   \\\n",
            "0    male  White  60 - 69  193.04    115.7      0.0          0.0         0.0   \n",
            "1  female  White  50 - 59  176.53    144.2      0.0          0.0         0.0   \n",
            "2  female  White  40 - 49  162.56     77.1      0.0          0.0         0.0   \n",
            "3    male  White  60 - 69  182.24     90.7      0.0          0.0         0.0   \n",
            "4    male  White  50 - 59  167.64     72.6      0.0          0.0         0.0   \n",
            "\n",
            "   INR on ReportedDose genotype  Therapeutic Dow  \n",
            "0                 2.60      A/G             49.0  \n",
            "1                 2.15      A/A             42.0  \n",
            "2                 1.90      G/G             53.0  \n",
            "3                 2.40      A/G             28.0  \n",
            "4                 1.90      A/G             42.0  \n"
          ]
        }
      ],
      "source": [
        "import pandas as pd\n",
        "from sklearn.impute import SimpleImputer\n",
        "cat_imputer = SimpleImputer(strategy='most_frequent')\n",
        "# Fit and transform the imputer on categorical columns\n",
        "data[['Gender', 'Race ', 'Age', 'Diabetes','Simvastatin ', 'Amiodarone ','genotype']] = cat_imputer.fit_transform(data[['Gender', 'Race ', 'Age', 'Diabetes', 'Simvastatin ', 'Amiodarone ','genotype']])\n",
        "\n",
        "# Initialize SimpleImputer with strategy='mean' for numerical columns\n",
        "num_imputer = SimpleImputer(strategy='mean')\n",
        "\n",
        "# Fit and transform the imputer on numerical columns\n",
        "data[['Height', 'Weight ','INR on ReportedDose','Therapeutic Dow' ]] = num_imputer.fit_transform(data[['Height', 'Weight ','INR on ReportedDose','Therapeutic Dow']])\n",
        "\n",
        "# Display the first 5 rows of the modified dataset\n",
        "print(data.head())\n"
      ]
    },
    {
      "cell_type": "code",
      "execution_count": null,
      "metadata": {
        "id": "bIgisUCxAdPm",
        "colab": {
          "base_uri": "https://localhost:8080/",
          "height": 459
        },
        "outputId": "8995f8b3-bb3e-49ff-9492-1cca132aaa1e"
      },
      "outputs": [
        {
          "output_type": "execute_result",
          "data": {
            "text/plain": [
              "<Axes: >"
            ]
          },
          "metadata": {},
          "execution_count": 14
        },
        {
          "output_type": "display_data",
          "data": {
            "text/plain": [
              "<Figure size 640x480 with 1 Axes>"
            ],
            "image/png": "[encoded data removed]"
          },
          "metadata": {}
        }
      ],
      "source": [
        "data['genotype'].value_counts().plot(kind= 'bar')\n",
        "category = data['genotype']\n",
        "counts = data['genotype'].value_counts()\n",
        "# print(counts)\n",
        "data['genotype'].value_counts().plot(kind= 'bar')"
      ]
    },
    {
      "cell_type": "code",
      "execution_count": null,
      "metadata": {
        "id": "kh_WWV2mAoEt",
        "colab": {
          "base_uri": "https://localhost:8080/",
          "height": 423
        },
        "outputId": "101c0a38-5a6e-46df-a64a-ffc0748ff223"
      },
      "outputs": [
        {
          "output_type": "execute_result",
          "data": {
            "text/plain": [
              "<Axes: ylabel='Gender'>"
            ]
          },
          "metadata": {},
          "execution_count": 15
        },
        {
          "output_type": "display_data",
          "data": {
            "text/plain": [
              "<Figure size 640x480 with 1 Axes>"
            ],
            "image/png": "[encoded data removed]"
          },
          "metadata": {}
        }
      ],
      "source": [
        "data['Gender'].value_counts().plot(kind= 'pie')"
      ]
    },
    {
      "cell_type": "code",
      "execution_count": null,
      "metadata": {
        "id": "PeZloW6D23dG"
      },
      "outputs": [],
      "source": [
        "from sklearn.preprocessing import LabelEncoder\n",
        "\n",
        "# # Select the categorical columns\n",
        "# cat_cols = ['Gender', 'Race ', 'genotype']\n",
        "\n",
        "# # Initialize LabelEncoder object for each categorical column\n",
        "# le = LabelEncoder()\n",
        "\n",
        "# # Iterate over each categorical column and encode it\n",
        "# for col in cat_cols:\n",
        "#     # Fit and transform the column\n",
        "    # data[col] = le.fit_transform(data[col])"
      ]
    },
    {
      "cell_type": "code",
      "execution_count": null,
      "metadata": {
        "id": "fB0rvp-aKnew"
      },
      "outputs": [],
      "source": [
        "label_encoder = LabelEncoder()\n",
        "# Assigning numerical values and storing in another column\n",
        "data['Age'] = label_encoder.fit_transform(data['Age'])\n",
        "# replacing values for Gender\n",
        "data['Gender'] = label_encoder.fit_transform(data['Gender'])\n",
        "# replacing values for Race\n",
        "data['Race '] = label_encoder.fit_transform(data['Race '])\n",
        "# replacing values for Genotype\n",
        "data['genotype'] = label_encoder.fit_transform(data['genotype'])"
      ]
    },
    {
      "cell_type": "code",
      "execution_count": null,
      "metadata": {
        "id": "5GPDGeFV3EQ1",
        "colab": {
          "base_uri": "https://localhost:8080/"
        },
        "outputId": "4306f9ff-2c84-4970-e288-dfcb7c4af983"
      },
      "outputs": [
        {
          "output_type": "stream",
          "name": "stdout",
          "text": [
            "Index(['Gender', 'Race ', 'Age', 'Height', 'Weight ', 'Diabetes',\n",
            "       'Simvastatin ', 'Amiodarone ', 'INR on ReportedDose', 'genotype',\n",
            "       'Therapeutic Dow'],\n",
            "      dtype='object')\n"
          ]
        }
      ],
      "source": [
        "# Check column names in your DataFrame\n",
        "print(data.columns)"
      ]
    },
    {
      "cell_type": "code",
      "execution_count": null,
      "metadata": {
        "id": "7Zz948TK3LRN",
        "colab": {
          "base_uri": "https://localhost:8080/"
        },
        "outputId": "cbbbbf14-3e9a-49f8-d6f2-6fbaa9565193"
      },
      "outputs": [
        {
          "output_type": "stream",
          "name": "stdout",
          "text": [
            "<class 'pandas.core.frame.DataFrame'>\n",
            "RangeIndex: 5700 entries, 0 to 5699\n",
            "Data columns (total 11 columns):\n",
            " #   Column               Non-Null Count  Dtype  \n",
            "---  ------               --------------  -----  \n",
            " 0   Gender               5700 non-null   int64  \n",
            " 1   Race                 5700 non-null   int64  \n",
            " 2   Age                  5700 non-null   int64  \n",
            " 3   Height               5700 non-null   float64\n",
            " 4   Weight               5700 non-null   float64\n",
            " 5   Diabetes             5700 non-null   object \n",
            " 6   Simvastatin          5700 non-null   object \n",
            " 7   Amiodarone           5700 non-null   object \n",
            " 8   INR on ReportedDose  5700 non-null   float64\n",
            " 9   genotype             5700 non-null   int64  \n",
            " 10  Therapeutic Dow      5700 non-null   float64\n",
            "dtypes: float64(4), int64(4), object(3)\n",
            "memory usage: 490.0+ KB\n"
          ]
        }
      ],
      "source": [
        "data.info()"
      ]
    },
    {
      "cell_type": "code",
      "execution_count": null,
      "metadata": {
        "id": "0R1ESvzQ98_F",
        "colab": {
          "base_uri": "https://localhost:8080/",
          "height": 424
        },
        "outputId": "feba2174-e990-40f9-864a-2f1d21e8a22b"
      },
      "outputs": [
        {
          "output_type": "execute_result",
          "data": {
            "text/plain": [
              "      Gender  Race   Age  Height  Weight   Diabetes  Simvastatin   \\\n",
              "0        1.0   20.0  5.0  193.04    115.7       0.0           0.0   \n",
              "1        0.0   20.0  4.0  176.53    144.2       0.0           0.0   \n",
              "2        0.0   20.0  2.0  162.56     77.1       0.0           0.0   \n",
              "3        1.0   20.0  5.0  182.24     90.7       0.0           0.0   \n",
              "4        1.0   20.0  4.0  167.64     72.6       0.0           0.0   \n",
              "...      ...    ...  ...     ...      ...       ...           ...   \n",
              "5695     1.0   20.0  0.0  185.42    113.6       0.0           0.0   \n",
              "5696     0.0   20.0  6.0  160.02     55.9       0.0           0.0   \n",
              "5697     1.0   20.0  5.0  187.96     97.7       0.0           0.0   \n",
              "5698     1.0   20.0  5.0  177.80     87.3       0.0           0.0   \n",
              "5699     1.0   20.0  6.0  190.50     79.6       0.0           0.0   \n",
              "\n",
              "      Amiodarone   INR on ReportedDose  genotype  Therapeutic Dow  \n",
              "0             0.0                 2.60       1.0            49.00  \n",
              "1             0.0                 2.15       0.0            42.00  \n",
              "2             0.0                 1.90       2.0            53.00  \n",
              "3             0.0                 2.40       1.0            28.00  \n",
              "4             0.0                 1.90       1.0            42.00  \n",
              "...           ...                  ...       ...              ...  \n",
              "5695          0.0                 2.80       0.0            52.50  \n",
              "5696          0.0                 2.80       0.0            27.51  \n",
              "5697          0.0                 2.00       0.0            57.47  \n",
              "5698          0.0                 2.00       0.0            70.00  \n",
              "5699          0.0                 3.00       0.0            24.01  \n",
              "\n",
              "[5700 rows x 11 columns]"
            ],
            "text/html": [
              "\n",
              "  <div id=\"df-a7d351ae-0f8d-4483-bf69-940a3c543104\">\n",
              "    <div class=\"colab-df-container\">\n",
              "      <div>\n",
              "<style scoped>\n",
              "    .dataframe tbody tr th:only-of-type {\n",
              "        vertical-align: middle;\n",
              "    }\n",
              "\n",
              "    .dataframe tbody tr th {\n",
              "        vertical-align: top;\n",
              "    }\n",
              "\n",
              "    .dataframe thead th {\n",
              "        text-align: right;\n",
              "    }\n",
              "</style>\n",
              "<table border=\"1\" class=\"dataframe\">\n",
              "  <thead>\n",
              "    <tr style=\"text-align: right;\">\n",
              "      <th></th>\n",
              "      <th>Gender</th>\n",
              "      <th>Race</th>\n",
              "      <th>Age</th>\n",
              "      <th>Height</th>\n",
              "      <th>Weight</th>\n",
              "      <th>Diabetes</th>\n",
              "      <th>Simvastatin</th>\n",
              "      <th>Amiodarone</th>\n",
              "      <th>INR on ReportedDose</th>\n",
              "      <th>genotype</th>\n",
              "      <th>Therapeutic Dow</th>\n",
              "    </tr>\n",
              "  </thead>\n",
              "  <tbody>\n",
              "    <tr>\n",
              "      <th>0</th>\n",
              "      <td>1.0</td>\n",
              "      <td>20.0</td>\n",
              "      <td>5.0</td>\n",
              "      <td>193.04</td>\n",
              "      <td>115.7</td>\n",
              "      <td>0.0</td>\n",
              "      <td>0.0</td>\n",
              "      <td>0.0</td>\n",
              "      <td>2.60</td>\n",
              "      <td>1.0</td>\n",
              "      <td>49.00</td>\n",
              "    </tr>\n",
              "    <tr>\n",
              "      <th>1</th>\n",
              "      <td>0.0</td>\n",
              "      <td>20.0</td>\n",
              "      <td>4.0</td>\n",
              "      <td>176.53</td>\n",
              "      <td>144.2</td>\n",
              "      <td>0.0</td>\n",
              "      <td>0.0</td>\n",
              "      <td>0.0</td>\n",
              "      <td>2.15</td>\n",
              "      <td>0.0</td>\n",
              "      <td>42.00</td>\n",
              "    </tr>\n",
              "    <tr>\n",
              "      <th>2</th>\n",
              "      <td>0.0</td>\n",
              "      <td>20.0</td>\n",
              "      <td>2.0</td>\n",
              "      <td>162.56</td>\n",
              "      <td>77.1</td>\n",
              "      <td>0.0</td>\n",
              "      <td>0.0</td>\n",
              "      <td>0.0</td>\n",
              "      <td>1.90</td>\n",
              "      <td>2.0</td>\n",
              "      <td>53.00</td>\n",
              "    </tr>\n",
              "    <tr>\n",
              "      <th>3</th>\n",
              "      <td>1.0</td>\n",
              "      <td>20.0</td>\n",
              "      <td>5.0</td>\n",
              "      <td>182.24</td>\n",
              "      <td>90.7</td>\n",
              "      <td>0.0</td>\n",
              "      <td>0.0</td>\n",
              "      <td>0.0</td>\n",
              "      <td>2.40</td>\n",
              "      <td>1.0</td>\n",
              "      <td>28.00</td>\n",
              "    </tr>\n",
              "    <tr>\n",
              "      <th>4</th>\n",
              "      <td>1.0</td>\n",
              "      <td>20.0</td>\n",
              "      <td>4.0</td>\n",
              "      <td>167.64</td>\n",
              "      <td>72.6</td>\n",
              "      <td>0.0</td>\n",
              "      <td>0.0</td>\n",
              "      <td>0.0</td>\n",
              "      <td>1.90</td>\n",
              "      <td>1.0</td>\n",
              "      <td>42.00</td>\n",
              "    </tr>\n",
              "    <tr>\n",
              "      <th>...</th>\n",
              "      <td>...</td>\n",
              "      <td>...</td>\n",
              "      <td>...</td>\n",
              "      <td>...</td>\n",
              "      <td>...</td>\n",
              "      <td>...</td>\n",
              "      <td>...</td>\n",
              "      <td>...</td>\n",
              "      <td>...</td>\n",
              "      <td>...</td>\n",
              "      <td>...</td>\n",
              "    </tr>\n",
              "    <tr>\n",
              "      <th>5695</th>\n",
              "      <td>1.0</td>\n",
              "      <td>20.0</td>\n",
              "      <td>0.0</td>\n",
              "      <td>185.42</td>\n",
              "      <td>113.6</td>\n",
              "      <td>0.0</td>\n",
              "      <td>0.0</td>\n",
              "      <td>0.0</td>\n",
              "      <td>2.80</td>\n",
              "      <td>0.0</td>\n",
              "      <td>52.50</td>\n",
              "    </tr>\n",
              "    <tr>\n",
              "      <th>5696</th>\n",
              "      <td>0.0</td>\n",
              "      <td>20.0</td>\n",
              "      <td>6.0</td>\n",
              "      <td>160.02</td>\n",
              "      <td>55.9</td>\n",
              "      <td>0.0</td>\n",
              "      <td>0.0</td>\n",
              "      <td>0.0</td>\n",
              "      <td>2.80</td>\n",
              "      <td>0.0</td>\n",
              "      <td>27.51</td>\n",
              "    </tr>\n",
              "    <tr>\n",
              "      <th>5697</th>\n",
              "      <td>1.0</td>\n",
              "      <td>20.0</td>\n",
              "      <td>5.0</td>\n",
              "      <td>187.96</td>\n",
              "      <td>97.7</td>\n",
              "      <td>0.0</td>\n",
              "      <td>0.0</td>\n",
              "      <td>0.0</td>\n",
              "      <td>2.00</td>\n",
              "      <td>0.0</td>\n",
              "      <td>57.47</td>\n",
              "    </tr>\n",
              "    <tr>\n",
              "      <th>5698</th>\n",
              "      <td>1.0</td>\n",
              "      <td>20.0</td>\n",
              "      <td>5.0</td>\n",
              "      <td>177.80</td>\n",
              "      <td>87.3</td>\n",
              "      <td>0.0</td>\n",
              "      <td>0.0</td>\n",
              "      <td>0.0</td>\n",
              "      <td>2.00</td>\n",
              "      <td>0.0</td>\n",
              "      <td>70.00</td>\n",
              "    </tr>\n",
              "    <tr>\n",
              "      <th>5699</th>\n",
              "      <td>1.0</td>\n",
              "      <td>20.0</td>\n",
              "      <td>6.0</td>\n",
              "      <td>190.50</td>\n",
              "      <td>79.6</td>\n",
              "      <td>0.0</td>\n",
              "      <td>0.0</td>\n",
              "      <td>0.0</td>\n",
              "      <td>3.00</td>\n",
              "      <td>0.0</td>\n",
              "      <td>24.01</td>\n",
              "    </tr>\n",
              "  </tbody>\n",
              "</table>\n",
              "<p>5700 rows × 11 columns</p>\n",
              "</div>\n",
              "      <button class=\"colab-df-convert\" onclick=\"convertToInteractive('df-a7d351ae-0f8d-4483-bf69-940a3c543104')\"\n",
              "              title=\"Convert this dataframe to an interactive table.\"\n",
              "              style=\"display:none;\">\n",
              "        \n",
              "  <svg xmlns=\"http://www.w3.org/2000/svg\" height=\"24px\"viewBox=\"0 0 24 24\"\n",
              "       width=\"24px\">\n",
              "    <path d=\"M0 0h24v24H0V0z\" fill=\"none\"/>\n",
              "    <path d=\"M18.56 5.44l.94 2.06.94-2.06 2.06-.94-2.06-.94-.94-2.06-.94 2.06-2.06.94zm-11 1L8.5 8.5l.94-2.06 2.06-.94-2.06-.94L8.5 2.5l-.94 2.06-2.06.94zm10 10l.94 2.06.94-2.06 2.06-.94-2.06-.94-.94-2.06-.94 2.06-2.06.94z\"/><path d=\"M17.41 7.96l-1.37-1.37c-.4-.4-.92-.59-1.43-.59-.52 0-1.04.2-1.43.59L10.3 9.45l-7.72 7.72c-.78.78-.78 2.05 0 2.83L4 21.41c.39.39.9.59 1.41.59.51 0 1.02-.2 1.41-.59l7.78-7.78 2.81-2.81c.8-.78.8-2.07 0-2.86zM5.41 20L4 18.59l7.72-7.72 1.47 1.35L5.41 20z\"/>\n",
              "  </svg>\n",
              "      </button>\n",
              "      \n",
              "  <style>\n",
              "    .colab-df-container {\n",
              "      display:flex;\n",
              "      flex-wrap:wrap;\n",
              "      gap: 12px;\n",
              "    }\n",
              "\n",
              "    .colab-df-convert {\n",
              "      background-color: #E8F0FE;\n",
              "      border: none;\n",
              "      border-radius: 50%;\n",
              "      cursor: pointer;\n",
              "      display: none;\n",
              "      fill: #1967D2;\n",
              "      height: 32px;\n",
              "      padding: 0 0 0 0;\n",
              "      width: 32px;\n",
              "    }\n",
              "\n",
              "    .colab-df-convert:hover {\n",
              "      background-color: #E2EBFA;\n",
              "      box-shadow: 0px 1px 2px rgba(60, 64, 67, 0.3), 0px 1px 3px 1px rgba(60, 64, 67, 0.15);\n",
              "      fill: #174EA6;\n",
              "    }\n",
              "\n",
              "    [theme=dark] .colab-df-convert {\n",
              "      background-color: #3B4455;\n",
              "      fill: #D2E3FC;\n",
              "    }\n",
              "\n",
              "    [theme=dark] .colab-df-convert:hover {\n",
              "      background-color: #434B5C;\n",
              "      box-shadow: 0px 1px 3px 1px rgba(0, 0, 0, 0.15);\n",
              "      filter: drop-shadow(0px 1px 2px rgba(0, 0, 0, 0.3));\n",
              "      fill: #FFFFFF;\n",
              "    }\n",
              "  </style>\n",
              "\n",
              "      <script>\n",
              "        const buttonEl =\n",
              "          document.querySelector('#df-a7d351ae-0f8d-4483-bf69-940a3c543104 button.colab-df-convert');\n",
              "        buttonEl.style.display =\n",
              "          google.colab.kernel.accessAllowed ? 'block' : 'none';\n",
              "\n",
              "        async function convertToInteractive(key) {\n",
              "          const element = document.querySelector('#df-a7d351ae-0f8d-4483-bf69-940a3c543104');\n",
              "          const dataTable =\n",
              "            await google.colab.kernel.invokeFunction('convertToInteractive',\n",
              "                                                     [key], {});\n",
              "          if (!dataTable) return;\n",
              "\n",
              "          const docLinkHtml = 'Like what you see? Visit the ' +\n",
              "            '<a target=\"_blank\" href=https://colab.research.google.com/notebooks/data_table.ipynb>data table notebook</a>'\n",
              "            + ' to learn more about interactive tables.';\n",
              "          element.innerHTML = '';\n",
              "          dataTable['output_type'] = 'display_data';\n",
              "          await google.colab.output.renderOutput(dataTable, element);\n",
              "          const docLink = document.createElement('div');\n",
              "          docLink.innerHTML = docLinkHtml;\n",
              "          element.appendChild(docLink);\n",
              "        }\n",
              "      </script>\n",
              "    </div>\n",
              "  </div>\n",
              "  "
            ]
          },
          "metadata": {},
          "execution_count": 20
        }
      ],
      "source": [
        "from sklearn.impute import KNNImputer\n",
        "# Step 1: Simple Imputation with KNN where K= 3\n",
        "knn_imputer = KNNImputer(n_neighbors=3)\n",
        "impute_knn = knn_imputer.fit_transform(data)\n",
        "data = pd.DataFrame(impute_knn, columns=data.columns)\n",
        "# Concatenate the original dataset and the imputed data\n",
        "# data = pd.concat([data, data], axis=1)\n",
        "data"
      ]
    },
    {
      "cell_type": "code",
      "execution_count": null,
      "metadata": {
        "id": "UCCxDq4pMofA",
        "colab": {
          "base_uri": "https://localhost:8080/"
        },
        "outputId": "d9c589ab-0829-4fea-86d6-fa9514eeb550"
      },
      "outputs": [
        {
          "output_type": "stream",
          "name": "stdout",
          "text": [
            "<class 'pandas.core.frame.DataFrame'>\n",
            "RangeIndex: 5700 entries, 0 to 5699\n",
            "Data columns (total 11 columns):\n",
            " #   Column               Non-Null Count  Dtype  \n",
            "---  ------               --------------  -----  \n",
            " 0   Gender               5700 non-null   float64\n",
            " 1   Race                 5700 non-null   float64\n",
            " 2   Age                  5700 non-null   float64\n",
            " 3   Height               5700 non-null   float64\n",
            " 4   Weight               5700 non-null   float64\n",
            " 5   Diabetes             5700 non-null   float64\n",
            " 6   Simvastatin          5700 non-null   float64\n",
            " 7   Amiodarone           5700 non-null   float64\n",
            " 8   INR on ReportedDose  5700 non-null   float64\n",
            " 9   genotype             5700 non-null   float64\n",
            " 10  Therapeutic Dow      5700 non-null   float64\n",
            "dtypes: float64(11)\n",
            "memory usage: 490.0 KB\n"
          ]
        }
      ],
      "source": [
        "data.info()"
      ]
    },
    {
      "cell_type": "code",
      "execution_count": null,
      "metadata": {
        "id": "ZPfrhmRBA0Rn",
        "colab": {
          "base_uri": "https://localhost:8080/",
          "height": 816
        },
        "outputId": "2ce6ff8c-2a22-4995-e473-e825a2ae8e0a"
      },
      "outputs": [
        {
          "output_type": "display_data",
          "data": {
            "text/plain": [
              "<Figure size 1000x800 with 2 Axes>"
            ],
            "image/png": "[encoded data removed]"
          },
          "metadata": {}
        }
      ],
      "source": [
        "import seaborn as sn\n",
        "fig, ax = plt.subplots(figsize=(10, 8))\n",
        "corr_mtx = data.corr()\n",
        "sn.heatmap(corr_mtx, annot=True)\n",
        "# plt.matshow(heart.corr())\n",
        "plt.show()"
      ]
    },
    {
      "cell_type": "code",
      "execution_count": null,
      "metadata": {
        "id": "oAPrmXXD_2BW"
      },
      "outputs": [],
      "source": [
        "from sklearn.model_selection import train_test_split\n",
        "\n",
        "# Drop 'Therapeutic Dose' column from the dataframe\n",
        "X = data.drop('Therapeutic Dow', axis=1)\n",
        "# Assign 'Therapeutic Dose' column as the target variable\n",
        "y = data['Therapeutic Dow']\n",
        "\n",
        "# Split the data into training and testing sets\n",
        "X_train, X_test, y_train, y_test = train_test_split(X, y, test_size=0.25, random_state=42)"
      ]
    },
    {
      "cell_type": "code",
      "execution_count": null,
      "metadata": {
        "id": "fiJ8FCchAEGt",
        "colab": {
          "base_uri": "https://localhost:8080/"
        },
        "outputId": "44e72ec4-1845-46d8-f886-d0b4b4f6be5a"
      },
      "outputs": [
        {
          "output_type": "stream",
          "name": "stdout",
          "text": [
            "training set: (4275, 10)\n",
            "testing set: (1425, 10)\n"
          ]
        }
      ],
      "source": [
        "#Feature scaling\n",
        "from sklearn.preprocessing import StandardScaler\n",
        "scaler = StandardScaler()\n",
        "scaler.fit(X_train)\n",
        "X_train_scaled = scaler.transform(X_train)\n",
        "X_test_scaled = scaler.transform(X_test)\n",
        "print(\"training set:\",X_train.shape)\n",
        "print(\"testing set:\",X_test.shape)"
      ]
    },
    {
      "cell_type": "code",
      "execution_count": null,
      "metadata": {
        "id": "xqc7hVgiASVz",
        "colab": {
          "base_uri": "https://localhost:8080/",
          "height": 118
        },
        "outputId": "a4465425-978a-47eb-9fad-408da2609759"
      },
      "outputs": [
        {
          "output_type": "execute_result",
          "data": {
            "text/plain": [
              "GridSearchCV(cv=10, estimator=DecisionTreeRegressor(),\n",
              "             param_grid={'max_depth': [1, 5, 7, 10, 20, 30, 40, 50, None],\n",
              "                         'min_samples_leaf': [1, 2, 4, 8, 10, 12, 16]})"
            ],
            "text/html": [
              "<style>#sk-container-id-1 {color: black;background-color: white;}#sk-container-id-1 pre{padding: 0;}#sk-container-id-1 div.sk-toggleable {background-color: white;}#sk-container-id-1 label.sk-toggleable__label {cursor: pointer;display: block;width: 100%;margin-bottom: 0;padding: 0.3em;box-sizing: border-box;text-align: center;}#sk-container-id-1 label.sk-toggleable__label-arrow:before {content: \"▸\";float: left;margin-right: 0.25em;color: #696969;}#sk-container-id-1 label.sk-toggleable__label-arrow:hover:before {color: black;}#sk-container-id-1 div.sk-estimator:hover label.sk-toggleable__label-arrow:before {color: black;}#sk-container-id-1 div.sk-toggleable__content {max-height: 0;max-width: 0;overflow: hidden;text-align: left;background-color: #f0f8ff;}#sk-container-id-1 div.sk-toggleable__content pre {margin: 0.2em;color: black;border-radius: 0.25em;background-color: #f0f8ff;}#sk-container-id-1 input.sk-toggleable__control:checked~div.sk-toggleable__content {max-height: 200px;max-width: 100%;overflow: auto;}#sk-container-id-1 input.sk-toggleable__control:checked~label.sk-toggleable__label-arrow:before {content: \"▾\";}#sk-container-id-1 div.sk-estimator input.sk-toggleable__control:checked~label.sk-toggleable__label {background-color: #d4ebff;}#sk-container-id-1 div.sk-label input.sk-toggleable__control:checked~label.sk-toggleable__label {background-color: #d4ebff;}#sk-container-id-1 input.sk-hidden--visually {border: 0;clip: rect(1px 1px 1px 1px);clip: rect(1px, 1px, 1px, 1px);height: 1px;margin: -1px;overflow: hidden;padding: 0;position: absolute;width: 1px;}#sk-container-id-1 div.sk-estimator {font-family: monospace;background-color: #f0f8ff;border: 1px dotted black;border-radius: 0.25em;box-sizing: border-box;margin-bottom: 0.5em;}#sk-container-id-1 div.sk-estimator:hover {background-color: #d4ebff;}#sk-container-id-1 div.sk-parallel-item::after {content: \"\";width: 100%;border-bottom: 1px solid gray;flex-grow: 1;}#sk-container-id-1 div.sk-label:hover label.sk-toggleable__label {background-color: #d4ebff;}#sk-container-id-1 div.sk-serial::before {content: \"\";position: absolute;border-left: 1px solid gray;box-sizing: border-box;top: 0;bottom: 0;left: 50%;z-index: 0;}#sk-container-id-1 div.sk-serial {display: flex;flex-direction: column;align-items: center;background-color: white;padding-right: 0.2em;padding-left: 0.2em;position: relative;}#sk-container-id-1 div.sk-item {position: relative;z-index: 1;}#sk-container-id-1 div.sk-parallel {display: flex;align-items: stretch;justify-content: center;background-color: white;position: relative;}#sk-container-id-1 div.sk-item::before, #sk-container-id-1 div.sk-parallel-item::before {content: \"\";position: absolute;border-left: 1px solid gray;box-sizing: border-box;top: 0;bottom: 0;left: 50%;z-index: -1;}#sk-container-id-1 div.sk-parallel-item {display: flex;flex-direction: column;z-index: 1;position: relative;background-color: white;}#sk-container-id-1 div.sk-parallel-item:first-child::after {align-self: flex-end;width: 50%;}#sk-container-id-1 div.sk-parallel-item:last-child::after {align-self: flex-start;width: 50%;}#sk-container-id-1 div.sk-parallel-item:only-child::after {width: 0;}#sk-container-id-1 div.sk-dashed-wrapped {border: 1px dashed gray;margin: 0 0.4em 0.5em 0.4em;box-sizing: border-box;padding-bottom: 0.4em;background-color: white;}#sk-container-id-1 div.sk-label label {font-family: monospace;font-weight: bold;display: inline-block;line-height: 1.2em;}#sk-container-id-1 div.sk-label-container {text-align: center;}#sk-container-id-1 div.sk-container {/* jupyter's `normalize.less` sets `[hidden] { display: none; }` but bootstrap.min.css set `[hidden] { display: none !important; }` so we also need the `!important` here to be able to override the default hidden behavior on the sphinx rendered scikit-learn.org. See: https://github.com/scikit-learn/scikit-learn/issues/21755 */display: inline-block !important;position: relative;}#sk-container-id-1 div.sk-text-repr-fallback {display: none;}</style><div id=\"sk-container-id-1\" class=\"sk-top-container\"><div class=\"sk-text-repr-fallback\"><pre>GridSearchCV(cv=10, estimator=DecisionTreeRegressor(),\n",
              "             param_grid={&#x27;max_depth&#x27;: [1, 5, 7, 10, 20, 30, 40, 50, None],\n",
              "                         &#x27;min_samples_leaf&#x27;: [1, 2, 4, 8, 10, 12, 16]})</pre><b>In a Jupyter environment, please rerun this cell to show the HTML representation or trust the notebook. <br />On GitHub, the HTML representation is unable to render, please try loading this page with nbviewer.org.</b></div><div class=\"sk-container\" hidden><div class=\"sk-item sk-dashed-wrapped\"><div class=\"sk-label-container\"><div class=\"sk-label sk-toggleable\"><input class=\"sk-toggleable__control sk-hidden--visually\" id=\"sk-estimator-id-1\" type=\"checkbox\" ><label for=\"sk-estimator-id-1\" class=\"sk-toggleable__label sk-toggleable__label-arrow\">GridSearchCV</label><div class=\"sk-toggleable__content\"><pre>GridSearchCV(cv=10, estimator=DecisionTreeRegressor(),\n",
              "             param_grid={&#x27;max_depth&#x27;: [1, 5, 7, 10, 20, 30, 40, 50, None],\n",
              "                         &#x27;min_samples_leaf&#x27;: [1, 2, 4, 8, 10, 12, 16]})</pre></div></div></div><div class=\"sk-parallel\"><div class=\"sk-parallel-item\"><div class=\"sk-item\"><div class=\"sk-label-container\"><div class=\"sk-label sk-toggleable\"><input class=\"sk-toggleable__control sk-hidden--visually\" id=\"sk-estimator-id-2\" type=\"checkbox\" ><label for=\"sk-estimator-id-2\" class=\"sk-toggleable__label sk-toggleable__label-arrow\">estimator: DecisionTreeRegressor</label><div class=\"sk-toggleable__content\"><pre>DecisionTreeRegressor()</pre></div></div></div><div class=\"sk-serial\"><div class=\"sk-item\"><div class=\"sk-estimator sk-toggleable\"><input class=\"sk-toggleable__control sk-hidden--visually\" id=\"sk-estimator-id-3\" type=\"checkbox\" ><label for=\"sk-estimator-id-3\" class=\"sk-toggleable__label sk-toggleable__label-arrow\">DecisionTreeRegressor</label><div class=\"sk-toggleable__content\"><pre>DecisionTreeRegressor()</pre></div></div></div></div></div></div></div></div></div></div>"
            ]
          },
          "metadata": {},
          "execution_count": 25
        }
      ],
      "source": [
        "## Decision trees - Method 1\n",
        "from sklearn.model_selection import GridSearchCV\n",
        "from sklearn.tree import DecisionTreeRegressor\n",
        "from sklearn.model_selection import cross_val_score\n",
        "\n",
        "param_grid = {\n",
        "    'max_depth': [1, 5, 7, 10, 20, 30, 40 ,50, None],\n",
        "    'min_samples_leaf': [1, 2, 4, 8, 10, 12, 16],\n",
        "}\n",
        "\n",
        "# Create a decision tree classifier object\n",
        "clf = DecisionTreeRegressor()\n",
        "\n",
        "# Create a GridSearchCV object\n",
        "grid_search = GridSearchCV(clf, param_grid, cv=10)\n",
        "\n",
        "# Fit the GridSearchCV object on the training data\n",
        "grid_search.fit(X_train_scaled, y_train)"
      ]
    },
    {
      "cell_type": "code",
      "execution_count": null,
      "metadata": {
        "id": "X-1qS2p4W1To",
        "colab": {
          "base_uri": "https://localhost:8080/",
          "height": 109
        },
        "outputId": "7c01a5d2-83fa-4ac3-bbc5-bd6c260433b5"
      },
      "outputs": [
        {
          "output_type": "stream",
          "name": "stdout",
          "text": [
            "DecisionTreeRegressor(max_depth=5, min_samples_leaf=12)\n",
            "{'max_depth': 5, 'min_samples_leaf': 12}\n"
          ]
        },
        {
          "output_type": "execute_result",
          "data": {
            "text/plain": [
              "DecisionTreeRegressor(max_depth=5, min_samples_leaf=12)"
            ],
            "text/html": [
              "<style>#sk-container-id-2 {color: black;background-color: white;}#sk-container-id-2 pre{padding: 0;}#sk-container-id-2 div.sk-toggleable {background-color: white;}#sk-container-id-2 label.sk-toggleable__label {cursor: pointer;display: block;width: 100%;margin-bottom: 0;padding: 0.3em;box-sizing: border-box;text-align: center;}#sk-container-id-2 label.sk-toggleable__label-arrow:before {content: \"▸\";float: left;margin-right: 0.25em;color: #696969;}#sk-container-id-2 label.sk-toggleable__label-arrow:hover:before {color: black;}#sk-container-id-2 div.sk-estimator:hover label.sk-toggleable__label-arrow:before {color: black;}#sk-container-id-2 div.sk-toggleable__content {max-height: 0;max-width: 0;overflow: hidden;text-align: left;background-color: #f0f8ff;}#sk-container-id-2 div.sk-toggleable__content pre {margin: 0.2em;color: black;border-radius: 0.25em;background-color: #f0f8ff;}#sk-container-id-2 input.sk-toggleable__control:checked~div.sk-toggleable__content {max-height: 200px;max-width: 100%;overflow: auto;}#sk-container-id-2 input.sk-toggleable__control:checked~label.sk-toggleable__label-arrow:before {content: \"▾\";}#sk-container-id-2 div.sk-estimator input.sk-toggleable__control:checked~label.sk-toggleable__label {background-color: #d4ebff;}#sk-container-id-2 div.sk-label input.sk-toggleable__control:checked~label.sk-toggleable__label {background-color: #d4ebff;}#sk-container-id-2 input.sk-hidden--visually {border: 0;clip: rect(1px 1px 1px 1px);clip: rect(1px, 1px, 1px, 1px);height: 1px;margin: -1px;overflow: hidden;padding: 0;position: absolute;width: 1px;}#sk-container-id-2 div.sk-estimator {font-family: monospace;background-color: #f0f8ff;border: 1px dotted black;border-radius: 0.25em;box-sizing: border-box;margin-bottom: 0.5em;}#sk-container-id-2 div.sk-estimator:hover {background-color: #d4ebff;}#sk-container-id-2 div.sk-parallel-item::after {content: \"\";width: 100%;border-bottom: 1px solid gray;flex-grow: 1;}#sk-container-id-2 div.sk-label:hover label.sk-toggleable__label {background-color: #d4ebff;}#sk-container-id-2 div.sk-serial::before {content: \"\";position: absolute;border-left: 1px solid gray;box-sizing: border-box;top: 0;bottom: 0;left: 50%;z-index: 0;}#sk-container-id-2 div.sk-serial {display: flex;flex-direction: column;align-items: center;background-color: white;padding-right: 0.2em;padding-left: 0.2em;position: relative;}#sk-container-id-2 div.sk-item {position: relative;z-index: 1;}#sk-container-id-2 div.sk-parallel {display: flex;align-items: stretch;justify-content: center;background-color: white;position: relative;}#sk-container-id-2 div.sk-item::before, #sk-container-id-2 div.sk-parallel-item::before {content: \"\";position: absolute;border-left: 1px solid gray;box-sizing: border-box;top: 0;bottom: 0;left: 50%;z-index: -1;}#sk-container-id-2 div.sk-parallel-item {display: flex;flex-direction: column;z-index: 1;position: relative;background-color: white;}#sk-container-id-2 div.sk-parallel-item:first-child::after {align-self: flex-end;width: 50%;}#sk-container-id-2 div.sk-parallel-item:last-child::after {align-self: flex-start;width: 50%;}#sk-container-id-2 div.sk-parallel-item:only-child::after {width: 0;}#sk-container-id-2 div.sk-dashed-wrapped {border: 1px dashed gray;margin: 0 0.4em 0.5em 0.4em;box-sizing: border-box;padding-bottom: 0.4em;background-color: white;}#sk-container-id-2 div.sk-label label {font-family: monospace;font-weight: bold;display: inline-block;line-height: 1.2em;}#sk-container-id-2 div.sk-label-container {text-align: center;}#sk-container-id-2 div.sk-container {/* jupyter's `normalize.less` sets `[hidden] { display: none; }` but bootstrap.min.css set `[hidden] { display: none !important; }` so we also need the `!important` here to be able to override the default hidden behavior on the sphinx rendered scikit-learn.org. See: https://github.com/scikit-learn/scikit-learn/issues/21755 */display: inline-block !important;position: relative;}#sk-container-id-2 div.sk-text-repr-fallback {display: none;}</style><div id=\"sk-container-id-2\" class=\"sk-top-container\"><div class=\"sk-text-repr-fallback\"><pre>DecisionTreeRegressor(max_depth=5, min_samples_leaf=12)</pre><b>In a Jupyter environment, please rerun this cell to show the HTML representation or trust the notebook. <br />On GitHub, the HTML representation is unable to render, please try loading this page with nbviewer.org.</b></div><div class=\"sk-container\" hidden><div class=\"sk-item\"><div class=\"sk-estimator sk-toggleable\"><input class=\"sk-toggleable__control sk-hidden--visually\" id=\"sk-estimator-id-4\" type=\"checkbox\" checked><label for=\"sk-estimator-id-4\" class=\"sk-toggleable__label sk-toggleable__label-arrow\">DecisionTreeRegressor</label><div class=\"sk-toggleable__content\"><pre>DecisionTreeRegressor(max_depth=5, min_samples_leaf=12)</pre></div></div></div></div></div>"
            ]
          },
          "metadata": {},
          "execution_count": 26
        }
      ],
      "source": [
        "best_dt_model = grid_search.best_estimator_\n",
        "print(grid_search.best_estimator_)\n",
        "print(grid_search.best_params_)\n",
        "best_dt_model.fit(X_train_scaled, y_train)"
      ]
    },
    {
      "cell_type": "code",
      "execution_count": null,
      "metadata": {
        "id": "7oO2q1RlXARH",
        "colab": {
          "base_uri": "https://localhost:8080/"
        },
        "outputId": "d2bf2cfc-014a-4080-dbb8-08a515eddd45"
      },
      "outputs": [
        {
          "output_type": "stream",
          "name": "stdout",
          "text": [
            "0.3130449976555585 0.23017284644705616 182.76320813220306\n"
          ]
        }
      ],
      "source": [
        "from sklearn.metrics import r2_score\n",
        "from sklearn import metrics\n",
        "\n",
        "y_dt_train_pred = best_dt_model.predict(X_train_scaled)\n",
        "y_dt_test_pred = best_dt_model.predict(X_test_scaled)\n",
        "\n",
        "train_dt_r2 = metrics.r2_score(y_train, y_dt_train_pred)\n",
        "test_dt_r2 = metrics.r2_score(y_test, y_dt_test_pred)\n",
        "train_mse = metrics.mean_squared_error(y_train, y_dt_train_pred)\n",
        "\n",
        "print(train_dt_r2, test_dt_r2, train_mse)"
      ]
    },
    {
      "cell_type": "code",
      "execution_count": null,
      "metadata": {
        "id": "hBsFNHy2n3qG"
      },
      "outputs": [],
      "source": [
        "# Save the trained model to disk\n",
        "import pickle\n",
        "with open('decision_tree_model_best.pkl', 'wb') as file:\n",
        "    pickle.dump(best_dt_model, file)"
      ]
    },
    {
      "cell_type": "code",
      "execution_count": null,
      "metadata": {
        "id": "5Hd7trPq0vb3"
      },
      "outputs": [],
      "source": [
        "import pickle\n",
        "# Load the saved model from disk\n",
        "with open('decision_tree_model_best.pkl', 'rb') as file:\n",
        "    best_dt_model = pickle.load(file)"
      ]
    },
    {
      "cell_type": "code",
      "execution_count": null,
      "metadata": {
        "id": "GdJZXjsYldvQ",
        "colab": {
          "base_uri": "https://localhost:8080/",
          "height": 118
        },
        "outputId": "5cca496d-5ebd-4dfa-fc74-6a160e2bce6c"
      },
      "outputs": [
        {
          "output_type": "execute_result",
          "data": {
            "text/plain": [
              "GridSearchCV(cv=10, estimator=RandomForestRegressor(random_state=0),\n",
              "             param_grid={'max_depth': [3, 5, 7, 10, 15],\n",
              "                         'min_samples_split': [2, 4, 6],\n",
              "                         'n_estimators': [50, 100, 150]})"
            ],
            "text/html": [
              "<style>#sk-container-id-3 {color: black;background-color: white;}#sk-container-id-3 pre{padding: 0;}#sk-container-id-3 div.sk-toggleable {background-color: white;}#sk-container-id-3 label.sk-toggleable__label {cursor: pointer;display: block;width: 100%;margin-bottom: 0;padding: 0.3em;box-sizing: border-box;text-align: center;}#sk-container-id-3 label.sk-toggleable__label-arrow:before {content: \"▸\";float: left;margin-right: 0.25em;color: #696969;}#sk-container-id-3 label.sk-toggleable__label-arrow:hover:before {color: black;}#sk-container-id-3 div.sk-estimator:hover label.sk-toggleable__label-arrow:before {color: black;}#sk-container-id-3 div.sk-toggleable__content {max-height: 0;max-width: 0;overflow: hidden;text-align: left;background-color: #f0f8ff;}#sk-container-id-3 div.sk-toggleable__content pre {margin: 0.2em;color: black;border-radius: 0.25em;background-color: #f0f8ff;}#sk-container-id-3 input.sk-toggleable__control:checked~div.sk-toggleable__content {max-height: 200px;max-width: 100%;overflow: auto;}#sk-container-id-3 input.sk-toggleable__control:checked~label.sk-toggleable__label-arrow:before {content: \"▾\";}#sk-container-id-3 div.sk-estimator input.sk-toggleable__control:checked~label.sk-toggleable__label {background-color: #d4ebff;}#sk-container-id-3 div.sk-label input.sk-toggleable__control:checked~label.sk-toggleable__label {background-color: #d4ebff;}#sk-container-id-3 input.sk-hidden--visually {border: 0;clip: rect(1px 1px 1px 1px);clip: rect(1px, 1px, 1px, 1px);height: 1px;margin: -1px;overflow: hidden;padding: 0;position: absolute;width: 1px;}#sk-container-id-3 div.sk-estimator {font-family: monospace;background-color: #f0f8ff;border: 1px dotted black;border-radius: 0.25em;box-sizing: border-box;margin-bottom: 0.5em;}#sk-container-id-3 div.sk-estimator:hover {background-color: #d4ebff;}#sk-container-id-3 div.sk-parallel-item::after {content: \"\";width: 100%;border-bottom: 1px solid gray;flex-grow: 1;}#sk-container-id-3 div.sk-label:hover label.sk-toggleable__label {background-color: #d4ebff;}#sk-container-id-3 div.sk-serial::before {content: \"\";position: absolute;border-left: 1px solid gray;box-sizing: border-box;top: 0;bottom: 0;left: 50%;z-index: 0;}#sk-container-id-3 div.sk-serial {display: flex;flex-direction: column;align-items: center;background-color: white;padding-right: 0.2em;padding-left: 0.2em;position: relative;}#sk-container-id-3 div.sk-item {position: relative;z-index: 1;}#sk-container-id-3 div.sk-parallel {display: flex;align-items: stretch;justify-content: center;background-color: white;position: relative;}#sk-container-id-3 div.sk-item::before, #sk-container-id-3 div.sk-parallel-item::before {content: \"\";position: absolute;border-left: 1px solid gray;box-sizing: border-box;top: 0;bottom: 0;left: 50%;z-index: -1;}#sk-container-id-3 div.sk-parallel-item {display: flex;flex-direction: column;z-index: 1;position: relative;background-color: white;}#sk-container-id-3 div.sk-parallel-item:first-child::after {align-self: flex-end;width: 50%;}#sk-container-id-3 div.sk-parallel-item:last-child::after {align-self: flex-start;width: 50%;}#sk-container-id-3 div.sk-parallel-item:only-child::after {width: 0;}#sk-container-id-3 div.sk-dashed-wrapped {border: 1px dashed gray;margin: 0 0.4em 0.5em 0.4em;box-sizing: border-box;padding-bottom: 0.4em;background-color: white;}#sk-container-id-3 div.sk-label label {font-family: monospace;font-weight: bold;display: inline-block;line-height: 1.2em;}#sk-container-id-3 div.sk-label-container {text-align: center;}#sk-container-id-3 div.sk-container {/* jupyter's `normalize.less` sets `[hidden] { display: none; }` but bootstrap.min.css set `[hidden] { display: none !important; }` so we also need the `!important` here to be able to override the default hidden behavior on the sphinx rendered scikit-learn.org. See: https://github.com/scikit-learn/scikit-learn/issues/21755 */display: inline-block !important;position: relative;}#sk-container-id-3 div.sk-text-repr-fallback {display: none;}</style><div id=\"sk-container-id-3\" class=\"sk-top-container\"><div class=\"sk-text-repr-fallback\"><pre>GridSearchCV(cv=10, estimator=RandomForestRegressor(random_state=0),\n",
              "             param_grid={&#x27;max_depth&#x27;: [3, 5, 7, 10, 15],\n",
              "                         &#x27;min_samples_split&#x27;: [2, 4, 6],\n",
              "                         &#x27;n_estimators&#x27;: [50, 100, 150]})</pre><b>In a Jupyter environment, please rerun this cell to show the HTML representation or trust the notebook. <br />On GitHub, the HTML representation is unable to render, please try loading this page with nbviewer.org.</b></div><div class=\"sk-container\" hidden><div class=\"sk-item sk-dashed-wrapped\"><div class=\"sk-label-container\"><div class=\"sk-label sk-toggleable\"><input class=\"sk-toggleable__control sk-hidden--visually\" id=\"sk-estimator-id-5\" type=\"checkbox\" ><label for=\"sk-estimator-id-5\" class=\"sk-toggleable__label sk-toggleable__label-arrow\">GridSearchCV</label><div class=\"sk-toggleable__content\"><pre>GridSearchCV(cv=10, estimator=RandomForestRegressor(random_state=0),\n",
              "             param_grid={&#x27;max_depth&#x27;: [3, 5, 7, 10, 15],\n",
              "                         &#x27;min_samples_split&#x27;: [2, 4, 6],\n",
              "                         &#x27;n_estimators&#x27;: [50, 100, 150]})</pre></div></div></div><div class=\"sk-parallel\"><div class=\"sk-parallel-item\"><div class=\"sk-item\"><div class=\"sk-label-container\"><div class=\"sk-label sk-toggleable\"><input class=\"sk-toggleable__control sk-hidden--visually\" id=\"sk-estimator-id-6\" type=\"checkbox\" ><label for=\"sk-estimator-id-6\" class=\"sk-toggleable__label sk-toggleable__label-arrow\">estimator: RandomForestRegressor</label><div class=\"sk-toggleable__content\"><pre>RandomForestRegressor(random_state=0)</pre></div></div></div><div class=\"sk-serial\"><div class=\"sk-item\"><div class=\"sk-estimator sk-toggleable\"><input class=\"sk-toggleable__control sk-hidden--visually\" id=\"sk-estimator-id-7\" type=\"checkbox\" ><label for=\"sk-estimator-id-7\" class=\"sk-toggleable__label sk-toggleable__label-arrow\">RandomForestRegressor</label><div class=\"sk-toggleable__content\"><pre>RandomForestRegressor(random_state=0)</pre></div></div></div></div></div></div></div></div></div></div>"
            ]
          },
          "metadata": {},
          "execution_count": 30
        }
      ],
      "source": [
        "## Random Forest - Method 2\n",
        "from sklearn.ensemble import RandomForestRegressor\n",
        "from sklearn.model_selection import GridSearchCV\n",
        "\n",
        "param_grid = {\n",
        "    'n_estimators': [50, 100, 150],\n",
        "    'max_depth': [3, 5, 7, 10, 15],\n",
        "    'min_samples_split': [2, 4, 6]\n",
        "}\n",
        "\n",
        "rf = RandomForestRegressor(random_state=0)\n",
        "\n",
        "# Create a GridSearchCV object\n",
        "grid_search = GridSearchCV(rf, param_grid, cv=10)\n",
        "\n",
        "# Fit the GridSearchCV object on the training data\n",
        "grid_search.fit(X_train_scaled, y_train)"
      ]
    },
    {
      "cell_type": "code",
      "execution_count": null,
      "metadata": {
        "id": "rlerYa3hluu2",
        "colab": {
          "base_uri": "https://localhost:8080/",
          "height": 144
        },
        "outputId": "a9f72da9-cce8-4a2f-cbae-1a29f2a0ea5c"
      },
      "outputs": [
        {
          "output_type": "stream",
          "name": "stdout",
          "text": [
            "RandomForestRegressor(max_depth=7, min_samples_split=6, n_estimators=150,\n",
            "                      random_state=0)\n",
            "{'max_depth': 7, 'min_samples_split': 6, 'n_estimators': 150}\n"
          ]
        },
        {
          "output_type": "execute_result",
          "data": {
            "text/plain": [
              "RandomForestRegressor(max_depth=7, min_samples_split=6, n_estimators=150,\n",
              "                      random_state=0)"
            ],
            "text/html": [
              "<style>#sk-container-id-4 {color: black;background-color: white;}#sk-container-id-4 pre{padding: 0;}#sk-container-id-4 div.sk-toggleable {background-color: white;}#sk-container-id-4 label.sk-toggleable__label {cursor: pointer;display: block;width: 100%;margin-bottom: 0;padding: 0.3em;box-sizing: border-box;text-align: center;}#sk-container-id-4 label.sk-toggleable__label-arrow:before {content: \"▸\";float: left;margin-right: 0.25em;color: #696969;}#sk-container-id-4 label.sk-toggleable__label-arrow:hover:before {color: black;}#sk-container-id-4 div.sk-estimator:hover label.sk-toggleable__label-arrow:before {color: black;}#sk-container-id-4 div.sk-toggleable__content {max-height: 0;max-width: 0;overflow: hidden;text-align: left;background-color: #f0f8ff;}#sk-container-id-4 div.sk-toggleable__content pre {margin: 0.2em;color: black;border-radius: 0.25em;background-color: #f0f8ff;}#sk-container-id-4 input.sk-toggleable__control:checked~div.sk-toggleable__content {max-height: 200px;max-width: 100%;overflow: auto;}#sk-container-id-4 input.sk-toggleable__control:checked~label.sk-toggleable__label-arrow:before {content: \"▾\";}#sk-container-id-4 div.sk-estimator input.sk-toggleable__control:checked~label.sk-toggleable__label {background-color: #d4ebff;}#sk-container-id-4 div.sk-label input.sk-toggleable__control:checked~label.sk-toggleable__label {background-color: #d4ebff;}#sk-container-id-4 input.sk-hidden--visually {border: 0;clip: rect(1px 1px 1px 1px);clip: rect(1px, 1px, 1px, 1px);height: 1px;margin: -1px;overflow: hidden;padding: 0;position: absolute;width: 1px;}#sk-container-id-4 div.sk-estimator {font-family: monospace;background-color: #f0f8ff;border: 1px dotted black;border-radius: 0.25em;box-sizing: border-box;margin-bottom: 0.5em;}#sk-container-id-4 div.sk-estimator:hover {background-color: #d4ebff;}#sk-container-id-4 div.sk-parallel-item::after {content: \"\";width: 100%;border-bottom: 1px solid gray;flex-grow: 1;}#sk-container-id-4 div.sk-label:hover label.sk-toggleable__label {background-color: #d4ebff;}#sk-container-id-4 div.sk-serial::before {content: \"\";position: absolute;border-left: 1px solid gray;box-sizing: border-box;top: 0;bottom: 0;left: 50%;z-index: 0;}#sk-container-id-4 div.sk-serial {display: flex;flex-direction: column;align-items: center;background-color: white;padding-right: 0.2em;padding-left: 0.2em;position: relative;}#sk-container-id-4 div.sk-item {position: relative;z-index: 1;}#sk-container-id-4 div.sk-parallel {display: flex;align-items: stretch;justify-content: center;background-color: white;position: relative;}#sk-container-id-4 div.sk-item::before, #sk-container-id-4 div.sk-parallel-item::before {content: \"\";position: absolute;border-left: 1px solid gray;box-sizing: border-box;top: 0;bottom: 0;left: 50%;z-index: -1;}#sk-container-id-4 div.sk-parallel-item {display: flex;flex-direction: column;z-index: 1;position: relative;background-color: white;}#sk-container-id-4 div.sk-parallel-item:first-child::after {align-self: flex-end;width: 50%;}#sk-container-id-4 div.sk-parallel-item:last-child::after {align-self: flex-start;width: 50%;}#sk-container-id-4 div.sk-parallel-item:only-child::after {width: 0;}#sk-container-id-4 div.sk-dashed-wrapped {border: 1px dashed gray;margin: 0 0.4em 0.5em 0.4em;box-sizing: border-box;padding-bottom: 0.4em;background-color: white;}#sk-container-id-4 div.sk-label label {font-family: monospace;font-weight: bold;display: inline-block;line-height: 1.2em;}#sk-container-id-4 div.sk-label-container {text-align: center;}#sk-container-id-4 div.sk-container {/* jupyter's `normalize.less` sets `[hidden] { display: none; }` but bootstrap.min.css set `[hidden] { display: none !important; }` so we also need the `!important` here to be able to override the default hidden behavior on the sphinx rendered scikit-learn.org. See: https://github.com/scikit-learn/scikit-learn/issues/21755 */display: inline-block !important;position: relative;}#sk-container-id-4 div.sk-text-repr-fallback {display: none;}</style><div id=\"sk-container-id-4\" class=\"sk-top-container\"><div class=\"sk-text-repr-fallback\"><pre>RandomForestRegressor(max_depth=7, min_samples_split=6, n_estimators=150,\n",
              "                      random_state=0)</pre><b>In a Jupyter environment, please rerun this cell to show the HTML representation or trust the notebook. <br />On GitHub, the HTML representation is unable to render, please try loading this page with nbviewer.org.</b></div><div class=\"sk-container\" hidden><div class=\"sk-item\"><div class=\"sk-estimator sk-toggleable\"><input class=\"sk-toggleable__control sk-hidden--visually\" id=\"sk-estimator-id-8\" type=\"checkbox\" checked><label for=\"sk-estimator-id-8\" class=\"sk-toggleable__label sk-toggleable__label-arrow\">RandomForestRegressor</label><div class=\"sk-toggleable__content\"><pre>RandomForestRegressor(max_depth=7, min_samples_split=6, n_estimators=150,\n",
              "                      random_state=0)</pre></div></div></div></div></div>"
            ]
          },
          "metadata": {},
          "execution_count": 31
        }
      ],
      "source": [
        "best_rf_model = grid_search.best_estimator_\n",
        "print(grid_search.best_estimator_)\n",
        "print(grid_search.best_params_)\n",
        "best_rf_model.fit(X_train_scaled, y_train)"
      ]
    },
    {
      "cell_type": "code",
      "execution_count": null,
      "metadata": {
        "id": "Oq-wxJi-0IWS"
      },
      "outputs": [],
      "source": [
        "# Save the trained model to disk\n",
        "import pickle\n",
        "with open('rf_model_best.pkl', 'wb') as file:\n",
        "    pickle.dump(best_rf_model, file)"
      ]
    },
    {
      "cell_type": "code",
      "execution_count": null,
      "metadata": {
        "id": "gQJdXNtV0hQ6"
      },
      "outputs": [],
      "source": [
        "import pickle\n",
        "# Load the saved model from disk\n",
        "with open('rf_model_best.pkl', 'rb') as file:\n",
        "    best_rf_model = pickle.load(file)"
      ]
    },
    {
      "cell_type": "code",
      "execution_count": null,
      "metadata": {
        "id": "fh6xMSgInBbW",
        "colab": {
          "base_uri": "https://localhost:8080/"
        },
        "outputId": "62f17b89-9408-4449-c7a2-3b9979a38c1b"
      },
      "outputs": [
        {
          "output_type": "stream",
          "name": "stdout",
          "text": [
            "0.4626800189339736 0.2756871111076371 142.95306562732125\n"
          ]
        }
      ],
      "source": [
        "from sklearn.metrics import r2_score\n",
        "\n",
        "from sklearn import metrics\n",
        "\n",
        "y_rf_train_pred = best_rf_model.predict(X_train_scaled)\n",
        "y_rf_test_pred = best_rf_model.predict(X_test_scaled)\n",
        "\n",
        "train_rf_r2 = metrics.r2_score(y_train, y_rf_train_pred)\n",
        "test_rf_r2 = metrics.r2_score(y_test, y_rf_test_pred)\n",
        "train_rf_mse = metrics.mean_squared_error(y_train, y_rf_train_pred)\n",
        "\n",
        "print(train_rf_r2, test_rf_r2, train_rf_mse)"
      ]
    },
    {
      "cell_type": "code",
      "execution_count": null,
      "metadata": {
        "id": "tFTddeievCxl",
        "colab": {
          "base_uri": "https://localhost:8080/",
          "height": 118
        },
        "outputId": "4560420f-3570-40a3-ceca-dd6fa2063f82"
      },
      "outputs": [
        {
          "output_type": "execute_result",
          "data": {
            "text/plain": [
              "GridSearchCV(cv=10, estimator=KNeighborsRegressor(),\n",
              "             param_grid={'algorithm': ['auto', 'ball_tree', 'kd_tree'],\n",
              "                         'n_neighbors': [3, 5, 7, 9, 11],\n",
              "                         'weights': ['uniform', 'distance']})"
            ],
            "text/html": [
              "<style>#sk-container-id-5 {color: black;background-color: white;}#sk-container-id-5 pre{padding: 0;}#sk-container-id-5 div.sk-toggleable {background-color: white;}#sk-container-id-5 label.sk-toggleable__label {cursor: pointer;display: block;width: 100%;margin-bottom: 0;padding: 0.3em;box-sizing: border-box;text-align: center;}#sk-container-id-5 label.sk-toggleable__label-arrow:before {content: \"▸\";float: left;margin-right: 0.25em;color: #696969;}#sk-container-id-5 label.sk-toggleable__label-arrow:hover:before {color: black;}#sk-container-id-5 div.sk-estimator:hover label.sk-toggleable__label-arrow:before {color: black;}#sk-container-id-5 div.sk-toggleable__content {max-height: 0;max-width: 0;overflow: hidden;text-align: left;background-color: #f0f8ff;}#sk-container-id-5 div.sk-toggleable__content pre {margin: 0.2em;color: black;border-radius: 0.25em;background-color: #f0f8ff;}#sk-container-id-5 input.sk-toggleable__control:checked~div.sk-toggleable__content {max-height: 200px;max-width: 100%;overflow: auto;}#sk-container-id-5 input.sk-toggleable__control:checked~label.sk-toggleable__label-arrow:before {content: \"▾\";}#sk-container-id-5 div.sk-estimator input.sk-toggleable__control:checked~label.sk-toggleable__label {background-color: #d4ebff;}#sk-container-id-5 div.sk-label input.sk-toggleable__control:checked~label.sk-toggleable__label {background-color: #d4ebff;}#sk-container-id-5 input.sk-hidden--visually {border: 0;clip: rect(1px 1px 1px 1px);clip: rect(1px, 1px, 1px, 1px);height: 1px;margin: -1px;overflow: hidden;padding: 0;position: absolute;width: 1px;}#sk-container-id-5 div.sk-estimator {font-family: monospace;background-color: #f0f8ff;border: 1px dotted black;border-radius: 0.25em;box-sizing: border-box;margin-bottom: 0.5em;}#sk-container-id-5 div.sk-estimator:hover {background-color: #d4ebff;}#sk-container-id-5 div.sk-parallel-item::after {content: \"\";width: 100%;border-bottom: 1px solid gray;flex-grow: 1;}#sk-container-id-5 div.sk-label:hover label.sk-toggleable__label {background-color: #d4ebff;}#sk-container-id-5 div.sk-serial::before {content: \"\";position: absolute;border-left: 1px solid gray;box-sizing: border-box;top: 0;bottom: 0;left: 50%;z-index: 0;}#sk-container-id-5 div.sk-serial {display: flex;flex-direction: column;align-items: center;background-color: white;padding-right: 0.2em;padding-left: 0.2em;position: relative;}#sk-container-id-5 div.sk-item {position: relative;z-index: 1;}#sk-container-id-5 div.sk-parallel {display: flex;align-items: stretch;justify-content: center;background-color: white;position: relative;}#sk-container-id-5 div.sk-item::before, #sk-container-id-5 div.sk-parallel-item::before {content: \"\";position: absolute;border-left: 1px solid gray;box-sizing: border-box;top: 0;bottom: 0;left: 50%;z-index: -1;}#sk-container-id-5 div.sk-parallel-item {display: flex;flex-direction: column;z-index: 1;position: relative;background-color: white;}#sk-container-id-5 div.sk-parallel-item:first-child::after {align-self: flex-end;width: 50%;}#sk-container-id-5 div.sk-parallel-item:last-child::after {align-self: flex-start;width: 50%;}#sk-container-id-5 div.sk-parallel-item:only-child::after {width: 0;}#sk-container-id-5 div.sk-dashed-wrapped {border: 1px dashed gray;margin: 0 0.4em 0.5em 0.4em;box-sizing: border-box;padding-bottom: 0.4em;background-color: white;}#sk-container-id-5 div.sk-label label {font-family: monospace;font-weight: bold;display: inline-block;line-height: 1.2em;}#sk-container-id-5 div.sk-label-container {text-align: center;}#sk-container-id-5 div.sk-container {/* jupyter's `normalize.less` sets `[hidden] { display: none; }` but bootstrap.min.css set `[hidden] { display: none !important; }` so we also need the `!important` here to be able to override the default hidden behavior on the sphinx rendered scikit-learn.org. See: https://github.com/scikit-learn/scikit-learn/issues/21755 */display: inline-block !important;position: relative;}#sk-container-id-5 div.sk-text-repr-fallback {display: none;}</style><div id=\"sk-container-id-5\" class=\"sk-top-container\"><div class=\"sk-text-repr-fallback\"><pre>GridSearchCV(cv=10, estimator=KNeighborsRegressor(),\n",
              "             param_grid={&#x27;algorithm&#x27;: [&#x27;auto&#x27;, &#x27;ball_tree&#x27;, &#x27;kd_tree&#x27;],\n",
              "                         &#x27;n_neighbors&#x27;: [3, 5, 7, 9, 11],\n",
              "                         &#x27;weights&#x27;: [&#x27;uniform&#x27;, &#x27;distance&#x27;]})</pre><b>In a Jupyter environment, please rerun this cell to show the HTML representation or trust the notebook. <br />On GitHub, the HTML representation is unable to render, please try loading this page with nbviewer.org.</b></div><div class=\"sk-container\" hidden><div class=\"sk-item sk-dashed-wrapped\"><div class=\"sk-label-container\"><div class=\"sk-label sk-toggleable\"><input class=\"sk-toggleable__control sk-hidden--visually\" id=\"sk-estimator-id-9\" type=\"checkbox\" ><label for=\"sk-estimator-id-9\" class=\"sk-toggleable__label sk-toggleable__label-arrow\">GridSearchCV</label><div class=\"sk-toggleable__content\"><pre>GridSearchCV(cv=10, estimator=KNeighborsRegressor(),\n",
              "             param_grid={&#x27;algorithm&#x27;: [&#x27;auto&#x27;, &#x27;ball_tree&#x27;, &#x27;kd_tree&#x27;],\n",
              "                         &#x27;n_neighbors&#x27;: [3, 5, 7, 9, 11],\n",
              "                         &#x27;weights&#x27;: [&#x27;uniform&#x27;, &#x27;distance&#x27;]})</pre></div></div></div><div class=\"sk-parallel\"><div class=\"sk-parallel-item\"><div class=\"sk-item\"><div class=\"sk-label-container\"><div class=\"sk-label sk-toggleable\"><input class=\"sk-toggleable__control sk-hidden--visually\" id=\"sk-estimator-id-10\" type=\"checkbox\" ><label for=\"sk-estimator-id-10\" class=\"sk-toggleable__label sk-toggleable__label-arrow\">estimator: KNeighborsRegressor</label><div class=\"sk-toggleable__content\"><pre>KNeighborsRegressor()</pre></div></div></div><div class=\"sk-serial\"><div class=\"sk-item\"><div class=\"sk-estimator sk-toggleable\"><input class=\"sk-toggleable__control sk-hidden--visually\" id=\"sk-estimator-id-11\" type=\"checkbox\" ><label for=\"sk-estimator-id-11\" class=\"sk-toggleable__label sk-toggleable__label-arrow\">KNeighborsRegressor</label><div class=\"sk-toggleable__content\"><pre>KNeighborsRegressor()</pre></div></div></div></div></div></div></div></div></div></div>"
            ]
          },
          "metadata": {},
          "execution_count": 35
        }
      ],
      "source": [
        "#KNN - Method 3\n",
        "from sklearn.neighbors import KNeighborsRegressor\n",
        "from sklearn.model_selection import GridSearchCV\n",
        "\n",
        "knn = KNeighborsRegressor()\n",
        "\n",
        "parameters = {'n_neighbors': [3, 5, 7, 9, 11],\n",
        "              'weights': ['uniform', 'distance'],\n",
        "              'algorithm' : ['auto', 'ball_tree', 'kd_tree']\n",
        "              }\n",
        "# Create a GridSearchCV object\n",
        "grid_search = GridSearchCV(knn, parameters, cv=10)\n",
        "\n",
        "# Fit the GridSearchCV object on the training data\n",
        "grid_search.fit(X_train_scaled, y_train)"
      ]
    },
    {
      "cell_type": "code",
      "execution_count": null,
      "metadata": {
        "id": "KJTxMzB_wgJp",
        "colab": {
          "base_uri": "https://localhost:8080/",
          "height": 109
        },
        "outputId": "737beae6-cd49-41d0-c21a-c94c43aeb055"
      },
      "outputs": [
        {
          "metadata": {
            "tags": null
          },
          "name": "stdout",
          "output_type": "stream",
          "text": [
            "KNeighborsRegressor(n_neighbors=11, weights='distance')\n",
            "{'algorithm': 'auto', 'n_neighbors': 11, 'weights': 'distance'}\n"
          ]
        },
        {
          "data": {
            "text/html": [
              "<style>#sk-container-id-6 {color: black;background-color: white;}#sk-container-id-6 pre{padding: 0;}#sk-container-id-6 div.sk-toggleable {background-color: white;}#sk-container-id-6 label.sk-toggleable__label {cursor: pointer;display: block;width: 100%;margin-bottom: 0;padding: 0.3em;box-sizing: border-box;text-align: center;}#sk-container-id-6 label.sk-toggleable__label-arrow:before {content: \"▸\";float: left;margin-right: 0.25em;color: #696969;}#sk-container-id-6 label.sk-toggleable__label-arrow:hover:before {color: black;}#sk-container-id-6 div.sk-estimator:hover label.sk-toggleable__label-arrow:before {color: black;}#sk-container-id-6 div.sk-toggleable__content {max-height: 0;max-width: 0;overflow: hidden;text-align: left;background-color: #f0f8ff;}#sk-container-id-6 div.sk-toggleable__content pre {margin: 0.2em;color: black;border-radius: 0.25em;background-color: #f0f8ff;}#sk-container-id-6 input.sk-toggleable__control:checked~div.sk-toggleable__content {max-height: 200px;max-width: 100%;overflow: auto;}#sk-container-id-6 input.sk-toggleable__control:checked~label.sk-toggleable__label-arrow:before {content: \"▾\";}#sk-container-id-6 div.sk-estimator input.sk-toggleable__control:checked~label.sk-toggleable__label {background-color: #d4ebff;}#sk-container-id-6 div.sk-label input.sk-toggleable__control:checked~label.sk-toggleable__label {background-color: #d4ebff;}#sk-container-id-6 input.sk-hidden--visually {border: 0;clip: rect(1px 1px 1px 1px);clip: rect(1px, 1px, 1px, 1px);height: 1px;margin: -1px;overflow: hidden;padding: 0;position: absolute;width: 1px;}#sk-container-id-6 div.sk-estimator {font-family: monospace;background-color: #f0f8ff;border: 1px dotted black;border-radius: 0.25em;box-sizing: border-box;margin-bottom: 0.5em;}#sk-container-id-6 div.sk-estimator:hover {background-color: #d4ebff;}#sk-container-id-6 div.sk-parallel-item::after {content: \"\";width: 100%;border-bottom: 1px solid gray;flex-grow: 1;}#sk-container-id-6 div.sk-label:hover label.sk-toggleable__label {background-color: #d4ebff;}#sk-container-id-6 div.sk-serial::before {content: \"\";position: absolute;border-left: 1px solid gray;box-sizing: border-box;top: 0;bottom: 0;left: 50%;z-index: 0;}#sk-container-id-6 div.sk-serial {display: flex;flex-direction: column;align-items: center;background-color: white;padding-right: 0.2em;padding-left: 0.2em;position: relative;}#sk-container-id-6 div.sk-item {position: relative;z-index: 1;}#sk-container-id-6 div.sk-parallel {display: flex;align-items: stretch;justify-content: center;background-color: white;position: relative;}#sk-container-id-6 div.sk-item::before, #sk-container-id-6 div.sk-parallel-item::before {content: \"\";position: absolute;border-left: 1px solid gray;box-sizing: border-box;top: 0;bottom: 0;left: 50%;z-index: -1;}#sk-container-id-6 div.sk-parallel-item {display: flex;flex-direction: column;z-index: 1;position: relative;background-color: white;}#sk-container-id-6 div.sk-parallel-item:first-child::after {align-self: flex-end;width: 50%;}#sk-container-id-6 div.sk-parallel-item:last-child::after {align-self: flex-start;width: 50%;}#sk-container-id-6 div.sk-parallel-item:only-child::after {width: 0;}#sk-container-id-6 div.sk-dashed-wrapped {border: 1px dashed gray;margin: 0 0.4em 0.5em 0.4em;box-sizing: border-box;padding-bottom: 0.4em;background-color: white;}#sk-container-id-6 div.sk-label label {font-family: monospace;font-weight: bold;display: inline-block;line-height: 1.2em;}#sk-container-id-6 div.sk-label-container {text-align: center;}#sk-container-id-6 div.sk-container {/* jupyter's `normalize.less` sets `[hidden] { display: none; }` but bootstrap.min.css set `[hidden] { display: none !important; }` so we also need the `!important` here to be able to override the default hidden behavior on the sphinx rendered scikit-learn.org. See: https://github.com/scikit-learn/scikit-learn/issues/21755 */display: inline-block !important;position: relative;}#sk-container-id-6 div.sk-text-repr-fallback {display: none;}</style><div id=\"sk-container-id-6\" class=\"sk-top-container\"><div class=\"sk-text-repr-fallback\"><pre>KNeighborsRegressor(n_neighbors=11, weights=&#x27;distance&#x27;)</pre><b>In a Jupyter environment, please rerun this cell to show the HTML representation or trust the notebook. <br />On GitHub, the HTML representation is unable to render, please try loading this page with nbviewer.org.</b></div><div class=\"sk-container\" hidden><div class=\"sk-item\"><div class=\"sk-estimator sk-toggleable\"><input class=\"sk-toggleable__control sk-hidden--visually\" id=\"sk-estimator-id-12\" type=\"checkbox\" checked><label for=\"sk-estimator-id-12\" class=\"sk-toggleable__label sk-toggleable__label-arrow\">KNeighborsRegressor</label><div class=\"sk-toggleable__content\"><pre>KNeighborsRegressor(n_neighbors=11, weights=&#x27;distance&#x27;)</pre></div></div></div></div></div>"
            ],
            "text/plain": [
              "KNeighborsRegressor(n_neighbors=11, weights='distance')"
            ]
          },
          "execution_count": 36,
          "metadata": {},
          "output_type": "execute_result"
        }
      ],
      "source": [
        "best_knn_model = grid_search.best_estimator_\n",
        "print(grid_search.best_estimator_)\n",
        "print(grid_search.best_params_)\n",
        "best_knn_model.fit(X_train_scaled, y_train)"
      ]
    },
    {
      "cell_type": "code",
      "execution_count": null,
      "metadata": {
        "id": "YtXQzlAqwpET"
      },
      "outputs": [],
      "source": [
        "# Save the trained model to disk\n",
        "import pickle\n",
        "with open('knn_model_best.pkl', 'wb') as file:\n",
        "    pickle.dump(best_knn_model, file)"
      ]
    },
    {
      "cell_type": "code",
      "execution_count": null,
      "metadata": {
        "id": "fehz0V8XwtdX"
      },
      "outputs": [],
      "source": [
        "import pickle\n",
        "# Load the saved model from disk\n",
        "with open('knn_model_best.pkl', 'rb') as file:\n",
        "    best_knn_model = pickle.load(file)"
      ]
    },
    {
      "cell_type": "code",
      "execution_count": null,
      "metadata": {
        "id": "qLtDPeHdwz3C",
        "colab": {
          "base_uri": "https://localhost:8080/"
        },
        "outputId": "6715cdc7-ed78-4a32-954f-7a82c2fa7471"
      },
      "outputs": [
        {
          "output_type": "stream",
          "name": "stdout",
          "text": [
            "0.994998151510528 0.21248386846252154 1.3307332698754661\n"
          ]
        }
      ],
      "source": [
        "from sklearn import metrics\n",
        "y_knn_train_pred = best_knn_model.predict(X_train_scaled)\n",
        "y_knn_test_pred = best_knn_model.predict(X_test_scaled)\n",
        "\n",
        "\n",
        "train_knn_r2 = metrics.r2_score(y_train, y_knn_train_pred)\n",
        "test_knn_r2 = metrics.r2_score(y_test, y_knn_test_pred)\n",
        "train_knn_mse = metrics.mean_squared_error(y_train, y_knn_train_pred)\n",
        "\n",
        "print(train_knn_r2, test_knn_r2, train_knn_mse)"
      ]
    },
    {
      "cell_type": "code",
      "execution_count": null,
      "metadata": {
        "id": "NscQ7Cui9M7F",
        "colab": {
          "base_uri": "https://localhost:8080/",
          "height": 118
        },
        "outputId": "985a8bca-b03d-4b58-9caa-4d4250e33507"
      },
      "outputs": [
        {
          "output_type": "execute_result",
          "data": {
            "text/plain": [
              "GridSearchCV(cv=10, estimator=GradientBoostingRegressor(),\n",
              "             param_grid={'learning_rate': [0.001, 1], 'max_depth': [1, 7, 9],\n",
              "                         'n_estimators': [100, 500, 2000]})"
            ],
            "text/html": [
              "<style>#sk-container-id-9 {color: black;background-color: white;}#sk-container-id-9 pre{padding: 0;}#sk-container-id-9 div.sk-toggleable {background-color: white;}#sk-container-id-9 label.sk-toggleable__label {cursor: pointer;display: block;width: 100%;margin-bottom: 0;padding: 0.3em;box-sizing: border-box;text-align: center;}#sk-container-id-9 label.sk-toggleable__label-arrow:before {content: \"▸\";float: left;margin-right: 0.25em;color: #696969;}#sk-container-id-9 label.sk-toggleable__label-arrow:hover:before {color: black;}#sk-container-id-9 div.sk-estimator:hover label.sk-toggleable__label-arrow:before {color: black;}#sk-container-id-9 div.sk-toggleable__content {max-height: 0;max-width: 0;overflow: hidden;text-align: left;background-color: #f0f8ff;}#sk-container-id-9 div.sk-toggleable__content pre {margin: 0.2em;color: black;border-radius: 0.25em;background-color: #f0f8ff;}#sk-container-id-9 input.sk-toggleable__control:checked~div.sk-toggleable__content {max-height: 200px;max-width: 100%;overflow: auto;}#sk-container-id-9 input.sk-toggleable__control:checked~label.sk-toggleable__label-arrow:before {content: \"▾\";}#sk-container-id-9 div.sk-estimator input.sk-toggleable__control:checked~label.sk-toggleable__label {background-color: #d4ebff;}#sk-container-id-9 div.sk-label input.sk-toggleable__control:checked~label.sk-toggleable__label {background-color: #d4ebff;}#sk-container-id-9 input.sk-hidden--visually {border: 0;clip: rect(1px 1px 1px 1px);clip: rect(1px, 1px, 1px, 1px);height: 1px;margin: -1px;overflow: hidden;padding: 0;position: absolute;width: 1px;}#sk-container-id-9 div.sk-estimator {font-family: monospace;background-color: #f0f8ff;border: 1px dotted black;border-radius: 0.25em;box-sizing: border-box;margin-bottom: 0.5em;}#sk-container-id-9 div.sk-estimator:hover {background-color: #d4ebff;}#sk-container-id-9 div.sk-parallel-item::after {content: \"\";width: 100%;border-bottom: 1px solid gray;flex-grow: 1;}#sk-container-id-9 div.sk-label:hover label.sk-toggleable__label {background-color: #d4ebff;}#sk-container-id-9 div.sk-serial::before {content: \"\";position: absolute;border-left: 1px solid gray;box-sizing: border-box;top: 0;bottom: 0;left: 50%;z-index: 0;}#sk-container-id-9 div.sk-serial {display: flex;flex-direction: column;align-items: center;background-color: white;padding-right: 0.2em;padding-left: 0.2em;position: relative;}#sk-container-id-9 div.sk-item {position: relative;z-index: 1;}#sk-container-id-9 div.sk-parallel {display: flex;align-items: stretch;justify-content: center;background-color: white;position: relative;}#sk-container-id-9 div.sk-item::before, #sk-container-id-9 div.sk-parallel-item::before {content: \"\";position: absolute;border-left: 1px solid gray;box-sizing: border-box;top: 0;bottom: 0;left: 50%;z-index: -1;}#sk-container-id-9 div.sk-parallel-item {display: flex;flex-direction: column;z-index: 1;position: relative;background-color: white;}#sk-container-id-9 div.sk-parallel-item:first-child::after {align-self: flex-end;width: 50%;}#sk-container-id-9 div.sk-parallel-item:last-child::after {align-self: flex-start;width: 50%;}#sk-container-id-9 div.sk-parallel-item:only-child::after {width: 0;}#sk-container-id-9 div.sk-dashed-wrapped {border: 1px dashed gray;margin: 0 0.4em 0.5em 0.4em;box-sizing: border-box;padding-bottom: 0.4em;background-color: white;}#sk-container-id-9 div.sk-label label {font-family: monospace;font-weight: bold;display: inline-block;line-height: 1.2em;}#sk-container-id-9 div.sk-label-container {text-align: center;}#sk-container-id-9 div.sk-container {/* jupyter's `normalize.less` sets `[hidden] { display: none; }` but bootstrap.min.css set `[hidden] { display: none !important; }` so we also need the `!important` here to be able to override the default hidden behavior on the sphinx rendered scikit-learn.org. See: https://github.com/scikit-learn/scikit-learn/issues/21755 */display: inline-block !important;position: relative;}#sk-container-id-9 div.sk-text-repr-fallback {display: none;}</style><div id=\"sk-container-id-9\" class=\"sk-top-container\"><div class=\"sk-text-repr-fallback\"><pre>GridSearchCV(cv=10, estimator=GradientBoostingRegressor(),\n",
              "             param_grid={&#x27;learning_rate&#x27;: [0.001, 1], &#x27;max_depth&#x27;: [1, 7, 9],\n",
              "                         &#x27;n_estimators&#x27;: [100, 500, 2000]})</pre><b>In a Jupyter environment, please rerun this cell to show the HTML representation or trust the notebook. <br />On GitHub, the HTML representation is unable to render, please try loading this page with nbviewer.org.</b></div><div class=\"sk-container\" hidden><div class=\"sk-item sk-dashed-wrapped\"><div class=\"sk-label-container\"><div class=\"sk-label sk-toggleable\"><input class=\"sk-toggleable__control sk-hidden--visually\" id=\"sk-estimator-id-17\" type=\"checkbox\" ><label for=\"sk-estimator-id-17\" class=\"sk-toggleable__label sk-toggleable__label-arrow\">GridSearchCV</label><div class=\"sk-toggleable__content\"><pre>GridSearchCV(cv=10, estimator=GradientBoostingRegressor(),\n",
              "             param_grid={&#x27;learning_rate&#x27;: [0.001, 1], &#x27;max_depth&#x27;: [1, 7, 9],\n",
              "                         &#x27;n_estimators&#x27;: [100, 500, 2000]})</pre></div></div></div><div class=\"sk-parallel\"><div class=\"sk-parallel-item\"><div class=\"sk-item\"><div class=\"sk-label-container\"><div class=\"sk-label sk-toggleable\"><input class=\"sk-toggleable__control sk-hidden--visually\" id=\"sk-estimator-id-18\" type=\"checkbox\" ><label for=\"sk-estimator-id-18\" class=\"sk-toggleable__label sk-toggleable__label-arrow\">estimator: GradientBoostingRegressor</label><div class=\"sk-toggleable__content\"><pre>GradientBoostingRegressor()</pre></div></div></div><div class=\"sk-serial\"><div class=\"sk-item\"><div class=\"sk-estimator sk-toggleable\"><input class=\"sk-toggleable__control sk-hidden--visually\" id=\"sk-estimator-id-19\" type=\"checkbox\" ><label for=\"sk-estimator-id-19\" class=\"sk-toggleable__label sk-toggleable__label-arrow\">GradientBoostingRegressor</label><div class=\"sk-toggleable__content\"><pre>GradientBoostingRegressor()</pre></div></div></div></div></div></div></div></div></div></div>"
            ]
          },
          "metadata": {},
          "execution_count": 49
        }
      ],
      "source": [
        "from sklearn.model_selection import GridSearchCV\n",
        "from sklearn.ensemble import GradientBoostingRegressor\n",
        "from sklearn.model_selection import cross_val_score\n",
        "\n",
        "param_grid = {\n",
        "   'n_estimators': [100,500, 2000],\n",
        "    'max_depth': [1, 7, 9],\n",
        "    'learning_rate': [0.001, 1]\n",
        "}\n",
        "\n",
        "# Create a Gradient Boosting Regression object\n",
        "gbr = GradientBoostingRegressor()\n",
        "\n",
        "# Create a GridSearchCV object\n",
        "grid_search = GridSearchCV(gbr, param_grid, cv=10)\n",
        "\n",
        "# Fit the GridSearchCV object on the training data\n",
        "grid_search.fit(X_train_scaled, y_train)\n"
      ]
    },
    {
      "cell_type": "code",
      "execution_count": null,
      "metadata": {
        "id": "rdrtpZ7nEWzu",
        "colab": {
          "base_uri": "https://localhost:8080/",
          "height": 109
        },
        "outputId": "7ad32aa8-8201-4409-b846-84db1d09b5c0"
      },
      "outputs": [
        {
          "output_type": "stream",
          "name": "stdout",
          "text": [
            "GradientBoostingRegressor(learning_rate=1, max_depth=1)\n",
            "{'learning_rate': 1, 'max_depth': 1, 'n_estimators': 100}\n"
          ]
        },
        {
          "output_type": "execute_result",
          "data": {
            "text/plain": [
              "GradientBoostingRegressor(learning_rate=1, max_depth=1)"
            ],
            "text/html": [
              "<style>#sk-container-id-10 {color: black;background-color: white;}#sk-container-id-10 pre{padding: 0;}#sk-container-id-10 div.sk-toggleable {background-color: white;}#sk-container-id-10 label.sk-toggleable__label {cursor: pointer;display: block;width: 100%;margin-bottom: 0;padding: 0.3em;box-sizing: border-box;text-align: center;}#sk-container-id-10 label.sk-toggleable__label-arrow:before {content: \"▸\";float: left;margin-right: 0.25em;color: #696969;}#sk-container-id-10 label.sk-toggleable__label-arrow:hover:before {color: black;}#sk-container-id-10 div.sk-estimator:hover label.sk-toggleable__label-arrow:before {color: black;}#sk-container-id-10 div.sk-toggleable__content {max-height: 0;max-width: 0;overflow: hidden;text-align: left;background-color: #f0f8ff;}#sk-container-id-10 div.sk-toggleable__content pre {margin: 0.2em;color: black;border-radius: 0.25em;background-color: #f0f8ff;}#sk-container-id-10 input.sk-toggleable__control:checked~div.sk-toggleable__content {max-height: 200px;max-width: 100%;overflow: auto;}#sk-container-id-10 input.sk-toggleable__control:checked~label.sk-toggleable__label-arrow:before {content: \"▾\";}#sk-container-id-10 div.sk-estimator input.sk-toggleable__control:checked~label.sk-toggleable__label {background-color: #d4ebff;}#sk-container-id-10 div.sk-label input.sk-toggleable__control:checked~label.sk-toggleable__label {background-color: #d4ebff;}#sk-container-id-10 input.sk-hidden--visually {border: 0;clip: rect(1px 1px 1px 1px);clip: rect(1px, 1px, 1px, 1px);height: 1px;margin: -1px;overflow: hidden;padding: 0;position: absolute;width: 1px;}#sk-container-id-10 div.sk-estimator {font-family: monospace;background-color: #f0f8ff;border: 1px dotted black;border-radius: 0.25em;box-sizing: border-box;margin-bottom: 0.5em;}#sk-container-id-10 div.sk-estimator:hover {background-color: #d4ebff;}#sk-container-id-10 div.sk-parallel-item::after {content: \"\";width: 100%;border-bottom: 1px solid gray;flex-grow: 1;}#sk-container-id-10 div.sk-label:hover label.sk-toggleable__label {background-color: #d4ebff;}#sk-container-id-10 div.sk-serial::before {content: \"\";position: absolute;border-left: 1px solid gray;box-sizing: border-box;top: 0;bottom: 0;left: 50%;z-index: 0;}#sk-container-id-10 div.sk-serial {display: flex;flex-direction: column;align-items: center;background-color: white;padding-right: 0.2em;padding-left: 0.2em;position: relative;}#sk-container-id-10 div.sk-item {position: relative;z-index: 1;}#sk-container-id-10 div.sk-parallel {display: flex;align-items: stretch;justify-content: center;background-color: white;position: relative;}#sk-container-id-10 div.sk-item::before, #sk-container-id-10 div.sk-parallel-item::before {content: \"\";position: absolute;border-left: 1px solid gray;box-sizing: border-box;top: 0;bottom: 0;left: 50%;z-index: -1;}#sk-container-id-10 div.sk-parallel-item {display: flex;flex-direction: column;z-index: 1;position: relative;background-color: white;}#sk-container-id-10 div.sk-parallel-item:first-child::after {align-self: flex-end;width: 50%;}#sk-container-id-10 div.sk-parallel-item:last-child::after {align-self: flex-start;width: 50%;}#sk-container-id-10 div.sk-parallel-item:only-child::after {width: 0;}#sk-container-id-10 div.sk-dashed-wrapped {border: 1px dashed gray;margin: 0 0.4em 0.5em 0.4em;box-sizing: border-box;padding-bottom: 0.4em;background-color: white;}#sk-container-id-10 div.sk-label label {font-family: monospace;font-weight: bold;display: inline-block;line-height: 1.2em;}#sk-container-id-10 div.sk-label-container {text-align: center;}#sk-container-id-10 div.sk-container {/* jupyter's `normalize.less` sets `[hidden] { display: none; }` but bootstrap.min.css set `[hidden] { display: none !important; }` so we also need the `!important` here to be able to override the default hidden behavior on the sphinx rendered scikit-learn.org. See: https://github.com/scikit-learn/scikit-learn/issues/21755 */display: inline-block !important;position: relative;}#sk-container-id-10 div.sk-text-repr-fallback {display: none;}</style><div id=\"sk-container-id-10\" class=\"sk-top-container\"><div class=\"sk-text-repr-fallback\"><pre>GradientBoostingRegressor(learning_rate=1, max_depth=1)</pre><b>In a Jupyter environment, please rerun this cell to show the HTML representation or trust the notebook. <br />On GitHub, the HTML representation is unable to render, please try loading this page with nbviewer.org.</b></div><div class=\"sk-container\" hidden><div class=\"sk-item\"><div class=\"sk-estimator sk-toggleable\"><input class=\"sk-toggleable__control sk-hidden--visually\" id=\"sk-estimator-id-20\" type=\"checkbox\" checked><label for=\"sk-estimator-id-20\" class=\"sk-toggleable__label sk-toggleable__label-arrow\">GradientBoostingRegressor</label><div class=\"sk-toggleable__content\"><pre>GradientBoostingRegressor(learning_rate=1, max_depth=1)</pre></div></div></div></div></div>"
            ]
          },
          "metadata": {},
          "execution_count": 50
        }
      ],
      "source": [
        "best_gbr_model = grid_search.best_estimator_\n",
        "print(grid_search.best_estimator_)\n",
        "print(grid_search.best_params_)\n",
        "best_gbr_model.fit(X_train_scaled, y_train)"
      ]
    },
    {
      "cell_type": "code",
      "execution_count": null,
      "metadata": {
        "id": "5DvvLfAIkS0t"
      },
      "outputs": [],
      "source": [
        "# Save the trained model to disk\n",
        "import pickle\n",
        "with open('gbr_model_best.pkl', 'wb') as file:\n",
        "    pickle.dump(best_gbr_model, file)"
      ]
    },
    {
      "cell_type": "code",
      "execution_count": null,
      "metadata": {
        "id": "K8VAI60mkrY9",
        "colab": {
          "base_uri": "https://localhost:8080/"
        },
        "outputId": "1d3e60c9-d793-4455-ed57-f38bd9fd2c41"
      },
      "outputs": [
        {
          "output_type": "stream",
          "name": "stdout",
          "text": [
            "0.35035423041638547 0.27707696341893984 172.83715031320648\n"
          ]
        }
      ],
      "source": [
        "from sklearn import metrics\n",
        "y_gbr_train_pred = best_gbr_model.predict(X_train_scaled)\n",
        "y_gbr_test_pred = best_gbr_model.predict(X_test_scaled)\n",
        "\n",
        "\n",
        "train_gbr_r2 = metrics.r2_score(y_train, y_gbr_train_pred)\n",
        "test_gbr_r2 = metrics.r2_score(y_test, y_gbr_test_pred)\n",
        "train_gbr_mse = metrics.mean_squared_error(y_train, y_gbr_train_pred)\n",
        "\n",
        "print(train_gbr_r2, test_gbr_r2, train_gbr_mse)"
      ]
    },
    {
      "cell_type": "code",
      "execution_count": null,
      "metadata": {
        "id": "DKp9p5wnv0Ax",
        "colab": {
          "base_uri": "https://localhost:8080/",
          "height": 118
        },
        "outputId": "e4610a7f-2144-498f-fbf2-ecf1259028fb"
      },
      "outputs": [
        {
          "output_type": "execute_result",
          "data": {
            "text/plain": [
              "GridSearchCV(cv=10, estimator=AdaBoostRegressor(),\n",
              "             param_grid={'learning_rate': [0.001, 0.01, 0.1, 1],\n",
              "                         'n_estimators': [50, 100, 200, 500]})"
            ],
            "text/html": [
              "<style>#sk-container-id-11 {color: black;background-color: white;}#sk-container-id-11 pre{padding: 0;}#sk-container-id-11 div.sk-toggleable {background-color: white;}#sk-container-id-11 label.sk-toggleable__label {cursor: pointer;display: block;width: 100%;margin-bottom: 0;padding: 0.3em;box-sizing: border-box;text-align: center;}#sk-container-id-11 label.sk-toggleable__label-arrow:before {content: \"▸\";float: left;margin-right: 0.25em;color: #696969;}#sk-container-id-11 label.sk-toggleable__label-arrow:hover:before {color: black;}#sk-container-id-11 div.sk-estimator:hover label.sk-toggleable__label-arrow:before {color: black;}#sk-container-id-11 div.sk-toggleable__content {max-height: 0;max-width: 0;overflow: hidden;text-align: left;background-color: #f0f8ff;}#sk-container-id-11 div.sk-toggleable__content pre {margin: 0.2em;color: black;border-radius: 0.25em;background-color: #f0f8ff;}#sk-container-id-11 input.sk-toggleable__control:checked~div.sk-toggleable__content {max-height: 200px;max-width: 100%;overflow: auto;}#sk-container-id-11 input.sk-toggleable__control:checked~label.sk-toggleable__label-arrow:before {content: \"▾\";}#sk-container-id-11 div.sk-estimator input.sk-toggleable__control:checked~label.sk-toggleable__label {background-color: #d4ebff;}#sk-container-id-11 div.sk-label input.sk-toggleable__control:checked~label.sk-toggleable__label {background-color: #d4ebff;}#sk-container-id-11 input.sk-hidden--visually {border: 0;clip: rect(1px 1px 1px 1px);clip: rect(1px, 1px, 1px, 1px);height: 1px;margin: -1px;overflow: hidden;padding: 0;position: absolute;width: 1px;}#sk-container-id-11 div.sk-estimator {font-family: monospace;background-color: #f0f8ff;border: 1px dotted black;border-radius: 0.25em;box-sizing: border-box;margin-bottom: 0.5em;}#sk-container-id-11 div.sk-estimator:hover {background-color: #d4ebff;}#sk-container-id-11 div.sk-parallel-item::after {content: \"\";width: 100%;border-bottom: 1px solid gray;flex-grow: 1;}#sk-container-id-11 div.sk-label:hover label.sk-toggleable__label {background-color: #d4ebff;}#sk-container-id-11 div.sk-serial::before {content: \"\";position: absolute;border-left: 1px solid gray;box-sizing: border-box;top: 0;bottom: 0;left: 50%;z-index: 0;}#sk-container-id-11 div.sk-serial {display: flex;flex-direction: column;align-items: center;background-color: white;padding-right: 0.2em;padding-left: 0.2em;position: relative;}#sk-container-id-11 div.sk-item {position: relative;z-index: 1;}#sk-container-id-11 div.sk-parallel {display: flex;align-items: stretch;justify-content: center;background-color: white;position: relative;}#sk-container-id-11 div.sk-item::before, #sk-container-id-11 div.sk-parallel-item::before {content: \"\";position: absolute;border-left: 1px solid gray;box-sizing: border-box;top: 0;bottom: 0;left: 50%;z-index: -1;}#sk-container-id-11 div.sk-parallel-item {display: flex;flex-direction: column;z-index: 1;position: relative;background-color: white;}#sk-container-id-11 div.sk-parallel-item:first-child::after {align-self: flex-end;width: 50%;}#sk-container-id-11 div.sk-parallel-item:last-child::after {align-self: flex-start;width: 50%;}#sk-container-id-11 div.sk-parallel-item:only-child::after {width: 0;}#sk-container-id-11 div.sk-dashed-wrapped {border: 1px dashed gray;margin: 0 0.4em 0.5em 0.4em;box-sizing: border-box;padding-bottom: 0.4em;background-color: white;}#sk-container-id-11 div.sk-label label {font-family: monospace;font-weight: bold;display: inline-block;line-height: 1.2em;}#sk-container-id-11 div.sk-label-container {text-align: center;}#sk-container-id-11 div.sk-container {/* jupyter's `normalize.less` sets `[hidden] { display: none; }` but bootstrap.min.css set `[hidden] { display: none !important; }` so we also need the `!important` here to be able to override the default hidden behavior on the sphinx rendered scikit-learn.org. See: https://github.com/scikit-learn/scikit-learn/issues/21755 */display: inline-block !important;position: relative;}#sk-container-id-11 div.sk-text-repr-fallback {display: none;}</style><div id=\"sk-container-id-11\" class=\"sk-top-container\"><div class=\"sk-text-repr-fallback\"><pre>GridSearchCV(cv=10, estimator=AdaBoostRegressor(),\n",
              "             param_grid={&#x27;learning_rate&#x27;: [0.001, 0.01, 0.1, 1],\n",
              "                         &#x27;n_estimators&#x27;: [50, 100, 200, 500]})</pre><b>In a Jupyter environment, please rerun this cell to show the HTML representation or trust the notebook. <br />On GitHub, the HTML representation is unable to render, please try loading this page with nbviewer.org.</b></div><div class=\"sk-container\" hidden><div class=\"sk-item sk-dashed-wrapped\"><div class=\"sk-label-container\"><div class=\"sk-label sk-toggleable\"><input class=\"sk-toggleable__control sk-hidden--visually\" id=\"sk-estimator-id-21\" type=\"checkbox\" ><label for=\"sk-estimator-id-21\" class=\"sk-toggleable__label sk-toggleable__label-arrow\">GridSearchCV</label><div class=\"sk-toggleable__content\"><pre>GridSearchCV(cv=10, estimator=AdaBoostRegressor(),\n",
              "             param_grid={&#x27;learning_rate&#x27;: [0.001, 0.01, 0.1, 1],\n",
              "                         &#x27;n_estimators&#x27;: [50, 100, 200, 500]})</pre></div></div></div><div class=\"sk-parallel\"><div class=\"sk-parallel-item\"><div class=\"sk-item\"><div class=\"sk-label-container\"><div class=\"sk-label sk-toggleable\"><input class=\"sk-toggleable__control sk-hidden--visually\" id=\"sk-estimator-id-22\" type=\"checkbox\" ><label for=\"sk-estimator-id-22\" class=\"sk-toggleable__label sk-toggleable__label-arrow\">estimator: AdaBoostRegressor</label><div class=\"sk-toggleable__content\"><pre>AdaBoostRegressor()</pre></div></div></div><div class=\"sk-serial\"><div class=\"sk-item\"><div class=\"sk-estimator sk-toggleable\"><input class=\"sk-toggleable__control sk-hidden--visually\" id=\"sk-estimator-id-23\" type=\"checkbox\" ><label for=\"sk-estimator-id-23\" class=\"sk-toggleable__label sk-toggleable__label-arrow\">AdaBoostRegressor</label><div class=\"sk-toggleable__content\"><pre>AdaBoostRegressor()</pre></div></div></div></div></div></div></div></div></div></div>"
            ]
          },
          "metadata": {},
          "execution_count": 53
        }
      ],
      "source": [
        "from sklearn.model_selection import GridSearchCV\n",
        "from sklearn.ensemble import AdaBoostRegressor\n",
        "from sklearn.model_selection import cross_val_score\n",
        "\n",
        "param_grid = {\n",
        "    'n_estimators': [50, 100, 200, 500],\n",
        "    'learning_rate': [0.001, 0.01, 0.1, 1],\n",
        "}\n",
        "\n",
        "# Create an AdaBoost Regression object\n",
        "abr = AdaBoostRegressor()\n",
        "\n",
        "# Create a GridSearchCV object\n",
        "grid_search = GridSearchCV(abr, param_grid, cv=10)\n",
        "\n",
        "# Fit the GridSearchCV object on the training data\n",
        "grid_search.fit(X_train_scaled, y_train)\n"
      ]
    },
    {
      "cell_type": "code",
      "execution_count": null,
      "metadata": {
        "id": "Kp4CN-ulmcTg",
        "colab": {
          "base_uri": "https://localhost:8080/",
          "height": 109
        },
        "outputId": "8c68a649-4d78-432a-f046-4b2c89fd00dc"
      },
      "outputs": [
        {
          "output_type": "stream",
          "name": "stdout",
          "text": [
            "AdaBoostRegressor(learning_rate=0.001, n_estimators=500)\n",
            "{'learning_rate': 0.001, 'n_estimators': 500}\n"
          ]
        },
        {
          "output_type": "execute_result",
          "data": {
            "text/plain": [
              "AdaBoostRegressor(learning_rate=0.001, n_estimators=500)"
            ],
            "text/html": [
              "<style>#sk-container-id-12 {color: black;background-color: white;}#sk-container-id-12 pre{padding: 0;}#sk-container-id-12 div.sk-toggleable {background-color: white;}#sk-container-id-12 label.sk-toggleable__label {cursor: pointer;display: block;width: 100%;margin-bottom: 0;padding: 0.3em;box-sizing: border-box;text-align: center;}#sk-container-id-12 label.sk-toggleable__label-arrow:before {content: \"▸\";float: left;margin-right: 0.25em;color: #696969;}#sk-container-id-12 label.sk-toggleable__label-arrow:hover:before {color: black;}#sk-container-id-12 div.sk-estimator:hover label.sk-toggleable__label-arrow:before {color: black;}#sk-container-id-12 div.sk-toggleable__content {max-height: 0;max-width: 0;overflow: hidden;text-align: left;background-color: #f0f8ff;}#sk-container-id-12 div.sk-toggleable__content pre {margin: 0.2em;color: black;border-radius: 0.25em;background-color: #f0f8ff;}#sk-container-id-12 input.sk-toggleable__control:checked~div.sk-toggleable__content {max-height: 200px;max-width: 100%;overflow: auto;}#sk-container-id-12 input.sk-toggleable__control:checked~label.sk-toggleable__label-arrow:before {content: \"▾\";}#sk-container-id-12 div.sk-estimator input.sk-toggleable__control:checked~label.sk-toggleable__label {background-color: #d4ebff;}#sk-container-id-12 div.sk-label input.sk-toggleable__control:checked~label.sk-toggleable__label {background-color: #d4ebff;}#sk-container-id-12 input.sk-hidden--visually {border: 0;clip: rect(1px 1px 1px 1px);clip: rect(1px, 1px, 1px, 1px);height: 1px;margin: -1px;overflow: hidden;padding: 0;position: absolute;width: 1px;}#sk-container-id-12 div.sk-estimator {font-family: monospace;background-color: #f0f8ff;border: 1px dotted black;border-radius: 0.25em;box-sizing: border-box;margin-bottom: 0.5em;}#sk-container-id-12 div.sk-estimator:hover {background-color: #d4ebff;}#sk-container-id-12 div.sk-parallel-item::after {content: \"\";width: 100%;border-bottom: 1px solid gray;flex-grow: 1;}#sk-container-id-12 div.sk-label:hover label.sk-toggleable__label {background-color: #d4ebff;}#sk-container-id-12 div.sk-serial::before {content: \"\";position: absolute;border-left: 1px solid gray;box-sizing: border-box;top: 0;bottom: 0;left: 50%;z-index: 0;}#sk-container-id-12 div.sk-serial {display: flex;flex-direction: column;align-items: center;background-color: white;padding-right: 0.2em;padding-left: 0.2em;position: relative;}#sk-container-id-12 div.sk-item {position: relative;z-index: 1;}#sk-container-id-12 div.sk-parallel {display: flex;align-items: stretch;justify-content: center;background-color: white;position: relative;}#sk-container-id-12 div.sk-item::before, #sk-container-id-12 div.sk-parallel-item::before {content: \"\";position: absolute;border-left: 1px solid gray;box-sizing: border-box;top: 0;bottom: 0;left: 50%;z-index: -1;}#sk-container-id-12 div.sk-parallel-item {display: flex;flex-direction: column;z-index: 1;position: relative;background-color: white;}#sk-container-id-12 div.sk-parallel-item:first-child::after {align-self: flex-end;width: 50%;}#sk-container-id-12 div.sk-parallel-item:last-child::after {align-self: flex-start;width: 50%;}#sk-container-id-12 div.sk-parallel-item:only-child::after {width: 0;}#sk-container-id-12 div.sk-dashed-wrapped {border: 1px dashed gray;margin: 0 0.4em 0.5em 0.4em;box-sizing: border-box;padding-bottom: 0.4em;background-color: white;}#sk-container-id-12 div.sk-label label {font-family: monospace;font-weight: bold;display: inline-block;line-height: 1.2em;}#sk-container-id-12 div.sk-label-container {text-align: center;}#sk-container-id-12 div.sk-container {/* jupyter's `normalize.less` sets `[hidden] { display: none; }` but bootstrap.min.css set `[hidden] { display: none !important; }` so we also need the `!important` here to be able to override the default hidden behavior on the sphinx rendered scikit-learn.org. See: https://github.com/scikit-learn/scikit-learn/issues/21755 */display: inline-block !important;position: relative;}#sk-container-id-12 div.sk-text-repr-fallback {display: none;}</style><div id=\"sk-container-id-12\" class=\"sk-top-container\"><div class=\"sk-text-repr-fallback\"><pre>AdaBoostRegressor(learning_rate=0.001, n_estimators=500)</pre><b>In a Jupyter environment, please rerun this cell to show the HTML representation or trust the notebook. <br />On GitHub, the HTML representation is unable to render, please try loading this page with nbviewer.org.</b></div><div class=\"sk-container\" hidden><div class=\"sk-item\"><div class=\"sk-estimator sk-toggleable\"><input class=\"sk-toggleable__control sk-hidden--visually\" id=\"sk-estimator-id-24\" type=\"checkbox\" checked><label for=\"sk-estimator-id-24\" class=\"sk-toggleable__label sk-toggleable__label-arrow\">AdaBoostRegressor</label><div class=\"sk-toggleable__content\"><pre>AdaBoostRegressor(learning_rate=0.001, n_estimators=500)</pre></div></div></div></div></div>"
            ]
          },
          "metadata": {},
          "execution_count": 54
        }
      ],
      "source": [
        "best_abr_model = grid_search.best_estimator_\n",
        "print(grid_search.best_estimator_)\n",
        "print(grid_search.best_params_)\n",
        "best_abr_model.fit(X_train_scaled, y_train)"
      ]
    },
    {
      "cell_type": "code",
      "execution_count": null,
      "metadata": {
        "id": "lYZ9_GIemoUf"
      },
      "outputs": [],
      "source": [
        "# Save the trained model to disk\n",
        "import pickle\n",
        "with open('abr_model_best.pkl', 'wb') as file:\n",
        "    pickle.dump(best_abr_model, file)"
      ]
    },
    {
      "cell_type": "code",
      "execution_count": null,
      "metadata": {
        "id": "NaUEwLzVmyGZ",
        "colab": {
          "base_uri": "https://localhost:8080/"
        },
        "outputId": "19d785cf-17a6-4557-cf16-97b6262c8712"
      },
      "outputs": [
        {
          "output_type": "stream",
          "name": "stdout",
          "text": [
            "0.261829050098519 0.22587798871400178 196.38912373236616\n"
          ]
        }
      ],
      "source": [
        "from sklearn import metrics\n",
        "y_abr_train_pred = best_abr_model.predict(X_train_scaled)\n",
        "y_abr_test_pred = best_abr_model.predict(X_test_scaled)\n",
        "\n",
        "\n",
        "train_abr_r2 = metrics.r2_score(y_train, y_abr_train_pred)\n",
        "test_abr_r2 = metrics.r2_score(y_test, y_abr_test_pred)\n",
        "train_abr_mse = metrics.mean_squared_error(y_train, y_abr_train_pred)\n",
        "\n",
        "print(train_abr_r2, test_abr_r2, train_abr_mse)\n"
      ]
    },
    {
      "cell_type": "code",
      "execution_count": null,
      "metadata": {
        "id": "xarEn9hMh9nn",
        "colab": {
          "base_uri": "https://localhost:8080/"
        },
        "outputId": "2aed68ca-98a5-4129-90d6-8cbb139eacfe"
      },
      "outputs": [
        {
          "output_type": "stream",
          "name": "stdout",
          "text": [
            "Epoch 1/50\n",
            "107/107 [==============================] - 6s 6ms/step - loss: 974.9667 - mse: 974.9667 - mae: 26.5377 - val_loss: 510.6787 - val_mse: 510.6787 - val_mae: 17.9945\n",
            "Epoch 2/50\n",
            "107/107 [==============================] - 0s 4ms/step - loss: 286.2032 - mse: 286.2032 - mae: 12.0673 - val_loss: 189.7747 - val_mse: 189.7747 - val_mae: 10.3052\n",
            "Epoch 3/50\n",
            "107/107 [==============================] - 0s 4ms/step - loss: 207.6351 - mse: 207.6351 - mae: 10.2698 - val_loss: 182.9643 - val_mse: 182.9643 - val_mae: 10.1687\n",
            "Epoch 4/50\n",
            "107/107 [==============================] - 0s 4ms/step - loss: 201.0362 - mse: 201.0362 - mae: 10.1208 - val_loss: 178.8526 - val_mse: 178.8526 - val_mae: 9.9993\n",
            "Epoch 5/50\n",
            "107/107 [==============================] - 0s 4ms/step - loss: 197.0766 - mse: 197.0766 - mae: 9.9912 - val_loss: 176.6517 - val_mse: 176.6517 - val_mae: 9.9997\n",
            "Epoch 6/50\n",
            "107/107 [==============================] - 1s 6ms/step - loss: 195.0496 - mse: 195.0496 - mae: 9.9863 - val_loss: 175.9803 - val_mse: 175.9803 - val_mae: 9.9236\n",
            "Epoch 7/50\n",
            "107/107 [==============================] - 1s 6ms/step - loss: 192.8488 - mse: 192.8488 - mae: 9.8780 - val_loss: 174.4103 - val_mse: 174.4103 - val_mae: 9.9389\n",
            "Epoch 8/50\n",
            "107/107 [==============================] - 1s 6ms/step - loss: 191.3826 - mse: 191.3826 - mae: 9.8481 - val_loss: 174.8504 - val_mse: 174.8504 - val_mae: 10.0120\n",
            "Epoch 9/50\n",
            "107/107 [==============================] - 1s 6ms/step - loss: 190.9777 - mse: 190.9777 - mae: 9.8702 - val_loss: 173.5268 - val_mse: 173.5268 - val_mae: 9.9251\n",
            "Epoch 10/50\n",
            "107/107 [==============================] - 1s 6ms/step - loss: 189.7651 - mse: 189.7651 - mae: 9.8172 - val_loss: 174.5179 - val_mse: 174.5179 - val_mae: 10.0505\n",
            "Epoch 11/50\n",
            "107/107 [==============================] - 1s 5ms/step - loss: 188.5837 - mse: 188.5837 - mae: 9.7691 - val_loss: 174.7533 - val_mse: 174.7533 - val_mae: 10.0344\n",
            "Epoch 12/50\n",
            "107/107 [==============================] - 0s 4ms/step - loss: 187.9656 - mse: 187.9656 - mae: 9.7656 - val_loss: 172.2968 - val_mse: 172.2968 - val_mae: 9.9399\n",
            "Epoch 13/50\n",
            "107/107 [==============================] - 0s 4ms/step - loss: 187.8580 - mse: 187.8580 - mae: 9.7730 - val_loss: 171.8578 - val_mse: 171.8578 - val_mae: 9.8710\n",
            "Epoch 14/50\n",
            "107/107 [==============================] - 0s 4ms/step - loss: 186.7468 - mse: 186.7468 - mae: 9.7391 - val_loss: 171.3880 - val_mse: 171.3880 - val_mae: 9.8786\n",
            "Epoch 15/50\n",
            "107/107 [==============================] - 0s 4ms/step - loss: 186.5867 - mse: 186.5867 - mae: 9.7435 - val_loss: 171.7200 - val_mse: 171.7200 - val_mae: 9.8908\n",
            "Epoch 16/50\n",
            "107/107 [==============================] - 0s 4ms/step - loss: 186.1741 - mse: 186.1741 - mae: 9.7065 - val_loss: 172.0038 - val_mse: 172.0038 - val_mae: 9.9278\n",
            "Epoch 17/50\n",
            "107/107 [==============================] - 0s 4ms/step - loss: 186.1577 - mse: 186.1577 - mae: 9.7330 - val_loss: 171.6463 - val_mse: 171.6463 - val_mae: 9.9341\n",
            "Epoch 18/50\n",
            "107/107 [==============================] - 0s 4ms/step - loss: 185.2207 - mse: 185.2207 - mae: 9.7168 - val_loss: 170.9021 - val_mse: 170.9021 - val_mae: 9.8106\n",
            "Epoch 19/50\n",
            "107/107 [==============================] - 0s 4ms/step - loss: 185.4281 - mse: 185.4281 - mae: 9.6917 - val_loss: 170.5932 - val_mse: 170.5932 - val_mae: 9.8151\n",
            "Epoch 20/50\n",
            "107/107 [==============================] - 0s 4ms/step - loss: 184.5580 - mse: 184.5580 - mae: 9.6724 - val_loss: 171.4131 - val_mse: 171.4131 - val_mae: 9.9208\n",
            "Epoch 21/50\n",
            "107/107 [==============================] - 0s 4ms/step - loss: 184.2099 - mse: 184.2099 - mae: 9.6774 - val_loss: 170.1972 - val_mse: 170.1972 - val_mae: 9.7687\n",
            "Epoch 22/50\n",
            "107/107 [==============================] - 0s 4ms/step - loss: 184.1514 - mse: 184.1514 - mae: 9.6714 - val_loss: 171.3118 - val_mse: 171.3118 - val_mae: 9.9286\n",
            "Epoch 23/50\n",
            "107/107 [==============================] - 0s 4ms/step - loss: 183.1612 - mse: 183.1612 - mae: 9.6623 - val_loss: 170.6321 - val_mse: 170.6321 - val_mae: 9.7697\n",
            "Epoch 24/50\n",
            "107/107 [==============================] - 0s 4ms/step - loss: 183.1896 - mse: 183.1896 - mae: 9.6592 - val_loss: 170.6998 - val_mse: 170.6998 - val_mae: 9.7704\n",
            "Epoch 25/50\n",
            "107/107 [==============================] - 0s 4ms/step - loss: 182.4516 - mse: 182.4516 - mae: 9.6382 - val_loss: 171.5659 - val_mse: 171.5659 - val_mae: 9.9120\n",
            "Epoch 26/50\n",
            "107/107 [==============================] - 0s 4ms/step - loss: 182.4653 - mse: 182.4653 - mae: 9.6480 - val_loss: 170.4426 - val_mse: 170.4426 - val_mae: 9.8277\n",
            "Epoch 27/50\n",
            "107/107 [==============================] - 0s 4ms/step - loss: 182.4108 - mse: 182.4108 - mae: 9.6159 - val_loss: 171.7427 - val_mse: 171.7427 - val_mae: 9.9855\n",
            "Epoch 28/50\n",
            "107/107 [==============================] - 0s 4ms/step - loss: 181.7676 - mse: 181.7676 - mae: 9.6179 - val_loss: 172.3517 - val_mse: 172.3517 - val_mae: 10.0072\n",
            "Epoch 29/50\n",
            "107/107 [==============================] - 0s 4ms/step - loss: 181.8057 - mse: 181.8057 - mae: 9.6392 - val_loss: 174.7782 - val_mse: 174.7782 - val_mae: 10.1219\n",
            "Epoch 30/50\n",
            "107/107 [==============================] - 0s 4ms/step - loss: 182.7336 - mse: 182.7336 - mae: 9.6692 - val_loss: 171.9461 - val_mse: 171.9461 - val_mae: 9.9361\n",
            "Epoch 31/50\n",
            "107/107 [==============================] - 0s 4ms/step - loss: 181.3523 - mse: 181.3523 - mae: 9.6009 - val_loss: 169.5386 - val_mse: 169.5386 - val_mae: 9.7711\n",
            "Epoch 32/50\n",
            "107/107 [==============================] - 0s 4ms/step - loss: 181.0621 - mse: 181.0621 - mae: 9.5899 - val_loss: 170.7454 - val_mse: 170.7454 - val_mae: 9.8782\n",
            "Epoch 33/50\n",
            "107/107 [==============================] - 0s 4ms/step - loss: 180.6644 - mse: 180.6644 - mae: 9.5899 - val_loss: 170.3651 - val_mse: 170.3651 - val_mae: 9.8707\n",
            "Epoch 34/50\n",
            "107/107 [==============================] - 1s 5ms/step - loss: 180.6455 - mse: 180.6455 - mae: 9.5979 - val_loss: 169.3353 - val_mse: 169.3353 - val_mae: 9.7993\n",
            "Epoch 35/50\n",
            "107/107 [==============================] - 1s 6ms/step - loss: 180.0682 - mse: 180.0682 - mae: 9.5804 - val_loss: 169.8103 - val_mse: 169.8103 - val_mae: 9.8060\n",
            "Epoch 36/50\n",
            "107/107 [==============================] - 1s 5ms/step - loss: 179.6459 - mse: 179.6459 - mae: 9.5482 - val_loss: 169.6645 - val_mse: 169.6645 - val_mae: 9.7993\n",
            "Epoch 37/50\n",
            "107/107 [==============================] - 1s 6ms/step - loss: 179.0057 - mse: 179.0057 - mae: 9.5628 - val_loss: 169.3153 - val_mse: 169.3153 - val_mae: 9.7412\n",
            "Epoch 38/50\n",
            "107/107 [==============================] - 1s 6ms/step - loss: 178.7367 - mse: 178.7367 - mae: 9.5022 - val_loss: 172.7877 - val_mse: 172.7877 - val_mae: 10.0205\n",
            "Epoch 39/50\n",
            "107/107 [==============================] - 1s 6ms/step - loss: 178.4431 - mse: 178.4431 - mae: 9.5809 - val_loss: 170.1741 - val_mse: 170.1741 - val_mae: 9.7874\n",
            "Epoch 40/50\n",
            "107/107 [==============================] - 1s 5ms/step - loss: 178.6546 - mse: 178.6546 - mae: 9.5292 - val_loss: 172.1174 - val_mse: 172.1174 - val_mae: 10.0006\n",
            "Epoch 41/50\n",
            "107/107 [==============================] - 0s 4ms/step - loss: 177.9371 - mse: 177.9371 - mae: 9.5281 - val_loss: 170.0168 - val_mse: 170.0168 - val_mae: 9.8123\n",
            "Epoch 42/50\n",
            "107/107 [==============================] - 0s 4ms/step - loss: 177.9893 - mse: 177.9893 - mae: 9.5270 - val_loss: 170.0421 - val_mse: 170.0421 - val_mae: 9.8413\n",
            "Epoch 43/50\n",
            "107/107 [==============================] - 1s 5ms/step - loss: 177.6586 - mse: 177.6586 - mae: 9.5087 - val_loss: 170.0939 - val_mse: 170.0939 - val_mae: 9.8376\n",
            "Epoch 44/50\n",
            "107/107 [==============================] - 0s 4ms/step - loss: 177.3116 - mse: 177.3116 - mae: 9.5009 - val_loss: 170.1986 - val_mse: 170.1986 - val_mae: 9.8143\n",
            "Epoch 45/50\n",
            "107/107 [==============================] - 0s 4ms/step - loss: 177.3286 - mse: 177.3286 - mae: 9.5115 - val_loss: 171.2016 - val_mse: 171.2016 - val_mae: 9.7521\n",
            "Epoch 46/50\n",
            "107/107 [==============================] - 0s 4ms/step - loss: 176.7443 - mse: 176.7443 - mae: 9.5128 - val_loss: 171.3338 - val_mse: 171.3338 - val_mae: 9.8063\n",
            "Epoch 47/50\n",
            "107/107 [==============================] - 0s 4ms/step - loss: 176.5376 - mse: 176.5376 - mae: 9.5066 - val_loss: 171.9097 - val_mse: 171.9097 - val_mae: 9.9345\n",
            "Epoch 48/50\n",
            "107/107 [==============================] - 0s 4ms/step - loss: 176.3383 - mse: 176.3383 - mae: 9.4953 - val_loss: 170.3098 - val_mse: 170.3098 - val_mae: 9.8694\n",
            "Epoch 49/50\n",
            "107/107 [==============================] - 0s 4ms/step - loss: 175.9185 - mse: 175.9185 - mae: 9.4831 - val_loss: 170.0115 - val_mse: 170.0115 - val_mae: 9.8080\n",
            "Epoch 50/50\n",
            "107/107 [==============================] - 0s 4ms/step - loss: 175.5052 - mse: 175.5052 - mae: 9.4728 - val_loss: 169.9883 - val_mse: 169.9883 - val_mae: 9.8227\n",
            "134/134 [==============================] - 0s 1ms/step\n",
            "R^2 score (training set): 0.351\n"
          ]
        }
      ],
      "source": [
        "# import necessary libraries\n",
        "import pandas as pd\n",
        "import numpy as np\n",
        "from sklearn.model_selection import train_test_split\n",
        "from sklearn.preprocessing import StandardScaler\n",
        "from sklearn.metrics import r2_score\n",
        "from keras.models import Sequential\n",
        "from keras.layers import Dense\n",
        "# define the model architecture\n",
        "model = Sequential()\n",
        "model.add(Dense(64, activation='relu', input_shape=(X_train_scaled.shape[1],)))\n",
        "model.add(Dense(32, activation='relu'))\n",
        "model.add(Dense(1, activation='linear'))\n",
        "\n",
        "# compile the model\n",
        "model.compile(loss='mse', optimizer='adam', metrics=['mse'])\n",
        "\n",
        "# train the model\n",
        "history = model.fit(X_train_scaled, y_train, validation_split=0.2, epochs=50, batch_size=32)\n",
        "# generate predictions for the training set\n",
        "y_train_pred = model.predict(X_train_scaled)\n",
        "\n",
        "# calculate the R^2 score for the training set\n",
        "r2_train = r2_score(y_train, y_train_pred)\n",
        "\n",
        "# print the R^2 score for the training set\n",
        "print('R^2 score (training set): {:.3f}'.format(r2_train))\n",
        "\n"
      ]
    },
    {
      "cell_type": "code",
      "execution_count": null,
      "metadata": {
        "id": "vjL-LGUriLDs",
        "colab": {
          "base_uri": "https://localhost:8080/"
        },
        "outputId": "392e3bbc-227d-4449-f867-8a393649b4fa"
      },
      "outputs": [
        {
          "output_type": "stream",
          "name": "stdout",
          "text": [
            "R^2 score (training): 0.40847236290352074\n",
            "R^2 score (testing): 0.2640561164536731\n"
          ]
        },
        {
          "output_type": "stream",
          "name": "stderr",
          "text": [
            "/usr/local/lib/python3.10/dist-packages/sklearn/neural_network/_multilayer_perceptron.py:686: ConvergenceWarning: Stochastic Optimizer: Maximum iterations (1000) reached and the optimization hasn't converged yet.\n",
            "  warnings.warn(\n"
          ]
        }
      ],
      "source": [
        "from sklearn.neural_network import MLPRegressor\n",
        "from sklearn.metrics import r2_score\n",
        "\n",
        "# create the MLPRegressor model\n",
        "model = MLPRegressor(hidden_layer_sizes=(100,), max_iter=1000)\n",
        "\n",
        "# train the model on the training data\n",
        "model.fit(X_train_scaled, y_train)\n",
        "\n",
        "# evaluate the model on the training data\n",
        "y_pred_train = model.predict(X_train_scaled)\n",
        "r2_train = r2_score(y_train, y_pred_train)\n",
        "print('R^2 score (training):', r2_train)\n",
        "\n",
        "# evaluate the model on the testing data\n",
        "y_pred_test = model.predict(X_test_scaled)\n",
        "r2_test = r2_score(y_test, y_pred_test)\n",
        "print('R^2 score (testing):', r2_test)\n"
      ]
    },
    {
      "cell_type": "code",
      "execution_count": null,
      "metadata": {
        "id": "vybnzCsKHqNu",
        "colab": {
          "base_uri": "https://localhost:8080/"
        },
        "outputId": "42fc3adf-cf86-406d-c1b4-738dc1bd8a12"
      },
      "outputs": [
        {
          "output_type": "stream",
          "name": "stdout",
          "text": [
            "learning rate: 0.001, hidden layers: (10,), R^2 score (training): 0.34085390191729625\n",
            "learning rate: 0.001, hidden layers: (10,), R^2 score (testing): 0.2837972985067704\n",
            "learning rate: 0.001, hidden layers: (20,), R^2 score (training): 0.3510075453861783\n",
            "learning rate: 0.001, hidden layers: (20,), R^2 score (testing): 0.2819475810718558\n",
            "learning rate: 0.001, hidden layers: (30,), R^2 score (training): 0.3565509289372495\n",
            "learning rate: 0.001, hidden layers: (30,), R^2 score (testing): 0.2776901154449367\n",
            "learning rate: 0.001, hidden layers: (40,), R^2 score (training): 0.361026975355224\n",
            "learning rate: 0.001, hidden layers: (40,), R^2 score (testing): 0.28103938198748735\n"
          ]
        },
        {
          "output_type": "stream",
          "name": "stderr",
          "text": [
            "/usr/local/lib/python3.10/dist-packages/sklearn/neural_network/_multilayer_perceptron.py:686: ConvergenceWarning: Stochastic Optimizer: Maximum iterations (1000) reached and the optimization hasn't converged yet.\n",
            "  warnings.warn(\n"
          ]
        },
        {
          "output_type": "stream",
          "name": "stdout",
          "text": [
            "learning rate: 0.001, hidden layers: (50,), R^2 score (training): 0.3816931060248301\n",
            "learning rate: 0.001, hidden layers: (50,), R^2 score (testing): 0.2759561779258438\n",
            "learning rate: 0.01, hidden layers: (10,), R^2 score (training): 0.33932652905846183\n",
            "learning rate: 0.01, hidden layers: (10,), R^2 score (testing): 0.29180878791016873\n",
            "learning rate: 0.01, hidden layers: (20,), R^2 score (training): 0.3572509165404537\n",
            "learning rate: 0.01, hidden layers: (20,), R^2 score (testing): 0.27757350400201986\n",
            "learning rate: 0.01, hidden layers: (30,), R^2 score (training): 0.35736050448971357\n",
            "learning rate: 0.01, hidden layers: (30,), R^2 score (testing): 0.2866794631816494\n",
            "learning rate: 0.01, hidden layers: (40,), R^2 score (training): 0.3557229047593594\n",
            "learning rate: 0.01, hidden layers: (40,), R^2 score (testing): 0.2810715560300766\n",
            "learning rate: 0.01, hidden layers: (50,), R^2 score (training): 0.39385920701501986\n",
            "learning rate: 0.01, hidden layers: (50,), R^2 score (testing): 0.2750228380660851\n",
            "learning rate: 0.1, hidden layers: (10,), R^2 score (training): 0.3282851786406217\n",
            "learning rate: 0.1, hidden layers: (10,), R^2 score (testing): 0.28439897018617666\n",
            "learning rate: 0.1, hidden layers: (20,), R^2 score (training): 0.34262012192571045\n",
            "learning rate: 0.1, hidden layers: (20,), R^2 score (testing): 0.2721246444470907\n",
            "learning rate: 0.1, hidden layers: (30,), R^2 score (training): 0.3446831291739525\n",
            "learning rate: 0.1, hidden layers: (30,), R^2 score (testing): 0.28220783777522485\n",
            "learning rate: 0.1, hidden layers: (40,), R^2 score (training): 0.36588722857764966\n",
            "learning rate: 0.1, hidden layers: (40,), R^2 score (testing): 0.2772944356774899\n",
            "learning rate: 0.1, hidden layers: (50,), R^2 score (training): 0.32679644408559005\n",
            "learning rate: 0.1, hidden layers: (50,), R^2 score (testing): 0.24204916372664254\n",
            "learning rate: 1, hidden layers: (10,), R^2 score (training): 0.29385209833215\n",
            "learning rate: 1, hidden layers: (10,), R^2 score (testing): 0.2622206466617476\n",
            "learning rate: 1, hidden layers: (20,), R^2 score (training): 0.2666412252493121\n",
            "learning rate: 1, hidden layers: (20,), R^2 score (testing): 0.25254548137790445\n",
            "learning rate: 1, hidden layers: (30,), R^2 score (training): 0.285720209742217\n",
            "learning rate: 1, hidden layers: (30,), R^2 score (testing): 0.26140292384862196\n",
            "learning rate: 1, hidden layers: (40,), R^2 score (training): 0.2157148655332024\n",
            "learning rate: 1, hidden layers: (40,), R^2 score (testing): 0.1800831059137631\n",
            "learning rate: 1, hidden layers: (50,), R^2 score (training): 0.2607616536530579\n",
            "learning rate: 1, hidden layers: (50,), R^2 score (testing): 0.23688920704982863\n"
          ]
        }
      ],
      "source": [
        "#Parameter tuning\n",
        "from sklearn.neural_network import MLPRegressor\n",
        "from sklearn.metrics import r2_score\n",
        "\n",
        "learning_rates = [0.001, 0.01, 0.1, 1]\n",
        "hidden_layers = [(10,), (20,), (30,), (40,), (50,)]\n",
        "\n",
        "for lr in learning_rates:\n",
        "    for hl in hidden_layers:\n",
        "        # create the MLPRegressor model with current hyperparameters\n",
        "        model = MLPRegressor(hidden_layer_sizes=hl, max_iter=1000, learning_rate_init=lr)\n",
        "        \n",
        "        # train the model on the training data\n",
        "        model.fit(X_train_scaled, y_train)\n",
        "        \n",
        "        # evaluate the model on the training data\n",
        "        y_pred_train = model.predict(X_train_scaled)\n",
        "        r2_train = r2_score(y_train, y_pred_train)\n",
        "        print(f'learning rate: {lr}, hidden layers: {hl}, R^2 score (training): {r2_train}')\n",
        "        \n",
        "        # evaluate the model on the testing data\n",
        "        y_pred_test = model.predict(X_test_scaled)\n",
        "        r2_test = r2_score(y_test, y_pred_test)\n",
        "        print(f'learning rate: {lr}, hidden layers: {hl}, R^2 score (testing): {r2_test}')\n"
      ]
    },
    {
      "cell_type": "code",
      "execution_count": null,
      "metadata": {
        "id": "0IdftvgdV6kT",
        "colab": {
          "base_uri": "https://localhost:8080/"
        },
        "outputId": "2cc554e0-10a5-4472-c42f-2168ef6f233d"
      },
      "outputs": [
        {
          "output_type": "stream",
          "name": "stdout",
          "text": [
            "learning rate: 0.001, hidden layers: (50,), R^2 score (training): 0.37258904622795164\n",
            "learning rate: 0.001, hidden layers: (50,), R^2 score (testing): 0.28160917925646956\n",
            "learning rate: 0.001, hidden layers: (100,), R^2 score (training): 0.42436374041969305\n",
            "learning rate: 0.001, hidden layers: (100,), R^2 score (testing): 0.26585125118563513\n",
            "learning rate: 0.001, hidden layers: (150,), R^2 score (training): 0.42718882700028027\n",
            "learning rate: 0.001, hidden layers: (150,), R^2 score (testing): 0.257449336297494\n",
            "learning rate: 0.001, hidden layers: (200,), R^2 score (training): 0.41637047672147265\n",
            "learning rate: 0.001, hidden layers: (200,), R^2 score (testing): 0.2698877515336314\n",
            "learning rate: 0.001, hidden layers: (250,), R^2 score (training): 0.4810142345036892\n",
            "learning rate: 0.001, hidden layers: (250,), R^2 score (testing): 0.23642317805711854\n",
            "learning rate: 0.001, hidden layers: (300,), R^2 score (training): 0.4482848701108535\n",
            "learning rate: 0.001, hidden layers: (300,), R^2 score (testing): 0.2598080273555544\n",
            "learning rate: 0.01, hidden layers: (50,), R^2 score (training): 0.38091558864331865\n",
            "learning rate: 0.01, hidden layers: (50,), R^2 score (testing): 0.27331247234071276\n",
            "learning rate: 0.01, hidden layers: (100,), R^2 score (training): 0.4297713432619724\n",
            "learning rate: 0.01, hidden layers: (100,), R^2 score (testing): 0.2472406490529252\n",
            "learning rate: 0.01, hidden layers: (150,), R^2 score (training): 0.46789225525591327\n",
            "learning rate: 0.01, hidden layers: (150,), R^2 score (testing): 0.23289475861779874\n",
            "learning rate: 0.01, hidden layers: (200,), R^2 score (training): 0.4671313171132975\n",
            "learning rate: 0.01, hidden layers: (200,), R^2 score (testing): 0.24801160362235586\n",
            "learning rate: 0.01, hidden layers: (250,), R^2 score (training): 0.45089814931449035\n",
            "learning rate: 0.01, hidden layers: (250,), R^2 score (testing): 0.2559094588236246\n",
            "learning rate: 0.01, hidden layers: (300,), R^2 score (training): 0.5271454853865782\n",
            "learning rate: 0.01, hidden layers: (300,), R^2 score (testing): 0.16835004576624357\n",
            "learning rate: 0.1, hidden layers: (50,), R^2 score (training): 0.35459830081898236\n",
            "learning rate: 0.1, hidden layers: (50,), R^2 score (testing): 0.23884686476329475\n",
            "learning rate: 0.1, hidden layers: (100,), R^2 score (training): 0.37609188778923763\n",
            "learning rate: 0.1, hidden layers: (100,), R^2 score (testing): 0.2553715445396292\n",
            "learning rate: 0.1, hidden layers: (150,), R^2 score (training): 0.3460725516412345\n",
            "learning rate: 0.1, hidden layers: (150,), R^2 score (testing): 0.24958931584593136\n",
            "learning rate: 0.1, hidden layers: (200,), R^2 score (training): 0.3600299894513329\n",
            "learning rate: 0.1, hidden layers: (200,), R^2 score (testing): 0.2434659404331352\n",
            "learning rate: 0.1, hidden layers: (250,), R^2 score (training): 0.3622614501125353\n",
            "learning rate: 0.1, hidden layers: (250,), R^2 score (testing): 0.2442591452443894\n",
            "learning rate: 0.1, hidden layers: (300,), R^2 score (training): 0.3718945479118718\n",
            "learning rate: 0.1, hidden layers: (300,), R^2 score (testing): 0.25412599619379495\n",
            "learning rate: 1, hidden layers: (50,), R^2 score (training): 0.27363460859181177\n",
            "learning rate: 1, hidden layers: (50,), R^2 score (testing): 0.22902782772580943\n",
            "learning rate: 1, hidden layers: (100,), R^2 score (training): 0.3415547077335326\n",
            "learning rate: 1, hidden layers: (100,), R^2 score (testing): 0.24072956937200063\n",
            "learning rate: 1, hidden layers: (150,), R^2 score (training): 0.3553141222644559\n",
            "learning rate: 1, hidden layers: (150,), R^2 score (testing): 0.248689434038612\n",
            "learning rate: 1, hidden layers: (200,), R^2 score (training): 0.31406252666607404\n",
            "learning rate: 1, hidden layers: (200,), R^2 score (testing): 0.22269636608903498\n",
            "learning rate: 1, hidden layers: (250,), R^2 score (training): 0.3531189455018158\n",
            "learning rate: 1, hidden layers: (250,), R^2 score (testing): 0.23671790884011001\n",
            "learning rate: 1, hidden layers: (300,), R^2 score (training): 0.3305118872868624\n",
            "learning rate: 1, hidden layers: (300,), R^2 score (testing): 0.20160799664732965\n"
          ]
        }
      ],
      "source": [
        "#Parameter tuning(increasing itarations)\n",
        "from sklearn.neural_network import MLPRegressor\n",
        "from sklearn.metrics import r2_score\n",
        "\n",
        "learning_rates = [0.001, 0.01, 0.1, 1]\n",
        "hidden_layers = [(50,), (100,), (150,), (200,), (250,), (300,)]\n",
        "\n",
        "for lr in learning_rates:\n",
        "    for hl in hidden_layers:\n",
        "        # create the MLPRegressor model with current hyperparameters\n",
        "        model = MLPRegressor(hidden_layer_sizes=hl, max_iter=2000, learning_rate_init=lr, activation='relu')\n",
        "        \n",
        "        # train the model on the training data\n",
        "        model.fit(X_train_scaled, y_train)\n",
        "        \n",
        "        # evaluate the model on the training data\n",
        "        y_pred_train = model.predict(X_train_scaled)\n",
        "        r2_train = r2_score(y_train, y_pred_train)\n",
        "        print(f'learning rate: {lr}, hidden layers: {hl}, R^2 score (training): {r2_train}')\n",
        "        \n",
        "        # evaluate the model on the testing data\n",
        "        y_pred_test = model.predict(X_test_scaled)\n",
        "        r2_test = r2_score(y_test, y_pred_test)\n",
        "        print(f'learning rate: {lr}, hidden layers: {hl}, R^2 score (testing): {r2_test}')\n"
      ]
    },
    {
      "cell_type": "code",
      "execution_count": null,
      "metadata": {
        "id": "nv0XtPU_bUNu",
        "colab": {
          "base_uri": "https://localhost:8080/"
        },
        "outputId": "94a9603f-9011-46a3-80f3-41515d8f3e5f"
      },
      "outputs": [
        {
          "output_type": "stream",
          "name": "stdout",
          "text": [
            "R^2 score (training): 0.38272589964310777\n",
            "R^2 score (testing): 0.2753447350145911\n"
          ]
        }
      ],
      "source": [
        "from sklearn.neural_network import MLPRegressor\n",
        "from sklearn.metrics import r2_score\n",
        "from sklearn.model_selection import GridSearchCV\n",
        "\n",
        "parameters = {\n",
        "    'hidden_layer_sizes': [(50,), (100,), (150,), (200,), (250,), (300,)],\n",
        "    'max_iter': [2000],\n",
        "    'learning_rate_init': [0.001, 0.01, 0.1, 1],\n",
        "    'activation': ['relu']\n",
        "}\n",
        "\n",
        "mlp = MLPRegressor()\n",
        "clf = GridSearchCV(mlp, parameters, scoring='r2')\n",
        "clf.fit(X_train_scaled, y_train)\n",
        "\n",
        "# get the best model\n",
        "best_model = clf.best_estimator_\n",
        "\n",
        "# evaluate the best model on the training data\n",
        "y_pred_train = best_model.predict(X_train_scaled)\n",
        "r2_train = r2_score(y_train, y_pred_train)\n",
        "print(f'R^2 score (training): {r2_train}')\n",
        "\n",
        "# evaluate the best model on the testing data\n",
        "y_pred_test = best_model.predict(X_test_scaled)\n",
        "r2_test = r2_score(y_test, y_pred_test)\n",
        "print(f'R^2 score (testing): {r2_test}')\n"
      ]
    },
    {
      "cell_type": "code",
      "execution_count": null,
      "metadata": {
        "id": "4xx2G-hOe5QN",
        "colab": {
          "base_uri": "https://localhost:8080/",
          "height": 75
        },
        "outputId": "8a4097ba-c1c2-4d52-b707-31f267eaae5e"
      },
      "outputs": [
        {
          "output_type": "execute_result",
          "data": {
            "text/plain": [
              "MLPRegressor(hidden_layer_sizes=(50,), max_iter=2000)"
            ],
            "text/html": [
              "<style>#sk-container-id-13 {color: black;background-color: white;}#sk-container-id-13 pre{padding: 0;}#sk-container-id-13 div.sk-toggleable {background-color: white;}#sk-container-id-13 label.sk-toggleable__label {cursor: pointer;display: block;width: 100%;margin-bottom: 0;padding: 0.3em;box-sizing: border-box;text-align: center;}#sk-container-id-13 label.sk-toggleable__label-arrow:before {content: \"▸\";float: left;margin-right: 0.25em;color: #696969;}#sk-container-id-13 label.sk-toggleable__label-arrow:hover:before {color: black;}#sk-container-id-13 div.sk-estimator:hover label.sk-toggleable__label-arrow:before {color: black;}#sk-container-id-13 div.sk-toggleable__content {max-height: 0;max-width: 0;overflow: hidden;text-align: left;background-color: #f0f8ff;}#sk-container-id-13 div.sk-toggleable__content pre {margin: 0.2em;color: black;border-radius: 0.25em;background-color: #f0f8ff;}#sk-container-id-13 input.sk-toggleable__control:checked~div.sk-toggleable__content {max-height: 200px;max-width: 100%;overflow: auto;}#sk-container-id-13 input.sk-toggleable__control:checked~label.sk-toggleable__label-arrow:before {content: \"▾\";}#sk-container-id-13 div.sk-estimator input.sk-toggleable__control:checked~label.sk-toggleable__label {background-color: #d4ebff;}#sk-container-id-13 div.sk-label input.sk-toggleable__control:checked~label.sk-toggleable__label {background-color: #d4ebff;}#sk-container-id-13 input.sk-hidden--visually {border: 0;clip: rect(1px 1px 1px 1px);clip: rect(1px, 1px, 1px, 1px);height: 1px;margin: -1px;overflow: hidden;padding: 0;position: absolute;width: 1px;}#sk-container-id-13 div.sk-estimator {font-family: monospace;background-color: #f0f8ff;border: 1px dotted black;border-radius: 0.25em;box-sizing: border-box;margin-bottom: 0.5em;}#sk-container-id-13 div.sk-estimator:hover {background-color: #d4ebff;}#sk-container-id-13 div.sk-parallel-item::after {content: \"\";width: 100%;border-bottom: 1px solid gray;flex-grow: 1;}#sk-container-id-13 div.sk-label:hover label.sk-toggleable__label {background-color: #d4ebff;}#sk-container-id-13 div.sk-serial::before {content: \"\";position: absolute;border-left: 1px solid gray;box-sizing: border-box;top: 0;bottom: 0;left: 50%;z-index: 0;}#sk-container-id-13 div.sk-serial {display: flex;flex-direction: column;align-items: center;background-color: white;padding-right: 0.2em;padding-left: 0.2em;position: relative;}#sk-container-id-13 div.sk-item {position: relative;z-index: 1;}#sk-container-id-13 div.sk-parallel {display: flex;align-items: stretch;justify-content: center;background-color: white;position: relative;}#sk-container-id-13 div.sk-item::before, #sk-container-id-13 div.sk-parallel-item::before {content: \"\";position: absolute;border-left: 1px solid gray;box-sizing: border-box;top: 0;bottom: 0;left: 50%;z-index: -1;}#sk-container-id-13 div.sk-parallel-item {display: flex;flex-direction: column;z-index: 1;position: relative;background-color: white;}#sk-container-id-13 div.sk-parallel-item:first-child::after {align-self: flex-end;width: 50%;}#sk-container-id-13 div.sk-parallel-item:last-child::after {align-self: flex-start;width: 50%;}#sk-container-id-13 div.sk-parallel-item:only-child::after {width: 0;}#sk-container-id-13 div.sk-dashed-wrapped {border: 1px dashed gray;margin: 0 0.4em 0.5em 0.4em;box-sizing: border-box;padding-bottom: 0.4em;background-color: white;}#sk-container-id-13 div.sk-label label {font-family: monospace;font-weight: bold;display: inline-block;line-height: 1.2em;}#sk-container-id-13 div.sk-label-container {text-align: center;}#sk-container-id-13 div.sk-container {/* jupyter's `normalize.less` sets `[hidden] { display: none; }` but bootstrap.min.css set `[hidden] { display: none !important; }` so we also need the `!important` here to be able to override the default hidden behavior on the sphinx rendered scikit-learn.org. See: https://github.com/scikit-learn/scikit-learn/issues/21755 */display: inline-block !important;position: relative;}#sk-container-id-13 div.sk-text-repr-fallback {display: none;}</style><div id=\"sk-container-id-13\" class=\"sk-top-container\"><div class=\"sk-text-repr-fallback\"><pre>MLPRegressor(hidden_layer_sizes=(50,), max_iter=2000)</pre><b>In a Jupyter environment, please rerun this cell to show the HTML representation or trust the notebook. <br />On GitHub, the HTML representation is unable to render, please try loading this page with nbviewer.org.</b></div><div class=\"sk-container\" hidden><div class=\"sk-item\"><div class=\"sk-estimator sk-toggleable\"><input class=\"sk-toggleable__control sk-hidden--visually\" id=\"sk-estimator-id-25\" type=\"checkbox\" checked><label for=\"sk-estimator-id-25\" class=\"sk-toggleable__label sk-toggleable__label-arrow\">MLPRegressor</label><div class=\"sk-toggleable__content\"><pre>MLPRegressor(hidden_layer_sizes=(50,), max_iter=2000)</pre></div></div></div></div></div>"
            ]
          },
          "metadata": {},
          "execution_count": 62
        }
      ],
      "source": [
        "best_mlp_model = best_model\n",
        "best_mlp_model.fit(X_train_scaled, y_train)"
      ]
    },
    {
      "cell_type": "code",
      "execution_count": null,
      "metadata": {
        "id": "wNPndQJ9ga7W",
        "colab": {
          "base_uri": "https://localhost:8080/"
        },
        "outputId": "9a8e9e79-abaf-47c1-8c0f-34015a3b010b"
      },
      "outputs": [
        {
          "output_type": "stream",
          "name": "stdout",
          "text": [
            "0.38586212994063696 0.271383436428425 163.3903341331938\n"
          ]
        }
      ],
      "source": [
        "from sklearn import metrics\n",
        "y_mlp_train_pred = best_mlp_model.predict(X_train_scaled)\n",
        "y_mlp_test_pred = best_mlp_model.predict(X_test_scaled)\n",
        "\n",
        "\n",
        "train_mlp_r2 = metrics.r2_score(y_train, y_mlp_train_pred)\n",
        "test_mlp_r2 = metrics.r2_score(y_test, y_mlp_test_pred)\n",
        "train_mlp_mse = metrics.mean_squared_error(y_train, y_mlp_train_pred)\n",
        "\n",
        "print(train_mlp_r2, test_mlp_r2, train_mlp_mse)"
      ]
    },
    {
      "cell_type": "code",
      "execution_count": null,
      "metadata": {
        "id": "6l8IzC_gfXkh"
      },
      "outputs": [],
      "source": [
        "# Save the trained model to disk\n",
        "import pickle\n",
        "with open('mlp_model_best.pkl', 'wb') as file:\n",
        "    pickle.dump(best_mlp_model, file)"
      ]
    },
    {
      "cell_type": "code",
      "execution_count": null,
      "metadata": {
        "id": "YmeQfISiirgz",
        "colab": {
          "base_uri": "https://localhost:8080/",
          "height": 238
        },
        "outputId": "3ca48cee-9b41-4b52-afdd-55927bfffbf6"
      },
      "outputs": [
        {
          "output_type": "execute_result",
          "data": {
            "text/plain": [
              "          Methods Dataset  R-square\n",
              "0   Decision Tree   Train  0.313045\n",
              "1   Random Forest   Train  0.462680\n",
              "2             KNN   Train  0.994998\n",
              "3   Gradiet Boost   Train  0.350354\n",
              "4       Ada boost   Train  0.261829\n",
              "5  Neural Network   Train  0.382726"
            ],
            "text/html": [
              "\n",
              "  <div id=\"df-d2afdc60-779c-434f-a325-c954a94052f0\">\n",
              "    <div class=\"colab-df-container\">\n",
              "      <div>\n",
              "<style scoped>\n",
              "    .dataframe tbody tr th:only-of-type {\n",
              "        vertical-align: middle;\n",
              "    }\n",
              "\n",
              "    .dataframe tbody tr th {\n",
              "        vertical-align: top;\n",
              "    }\n",
              "\n",
              "    .dataframe thead th {\n",
              "        text-align: right;\n",
              "    }\n",
              "</style>\n",
              "<table border=\"1\" class=\"dataframe\">\n",
              "  <thead>\n",
              "    <tr style=\"text-align: right;\">\n",
              "      <th></th>\n",
              "      <th>Methods</th>\n",
              "      <th>Dataset</th>\n",
              "      <th>R-square</th>\n",
              "    </tr>\n",
              "  </thead>\n",
              "  <tbody>\n",
              "    <tr>\n",
              "      <th>0</th>\n",
              "      <td>Decision Tree</td>\n",
              "      <td>Train</td>\n",
              "      <td>0.313045</td>\n",
              "    </tr>\n",
              "    <tr>\n",
              "      <th>1</th>\n",
              "      <td>Random Forest</td>\n",
              "      <td>Train</td>\n",
              "      <td>0.462680</td>\n",
              "    </tr>\n",
              "    <tr>\n",
              "      <th>2</th>\n",
              "      <td>KNN</td>\n",
              "      <td>Train</td>\n",
              "      <td>0.994998</td>\n",
              "    </tr>\n",
              "    <tr>\n",
              "      <th>3</th>\n",
              "      <td>Gradiet Boost</td>\n",
              "      <td>Train</td>\n",
              "      <td>0.350354</td>\n",
              "    </tr>\n",
              "    <tr>\n",
              "      <th>4</th>\n",
              "      <td>Ada boost</td>\n",
              "      <td>Train</td>\n",
              "      <td>0.261829</td>\n",
              "    </tr>\n",
              "    <tr>\n",
              "      <th>5</th>\n",
              "      <td>Neural Network</td>\n",
              "      <td>Train</td>\n",
              "      <td>0.382726</td>\n",
              "    </tr>\n",
              "  </tbody>\n",
              "</table>\n",
              "</div>\n",
              "      <button class=\"colab-df-convert\" onclick=\"convertToInteractive('df-d2afdc60-779c-434f-a325-c954a94052f0')\"\n",
              "              title=\"Convert this dataframe to an interactive table.\"\n",
              "              style=\"display:none;\">\n",
              "        \n",
              "  <svg xmlns=\"http://www.w3.org/2000/svg\" height=\"24px\"viewBox=\"0 0 24 24\"\n",
              "       width=\"24px\">\n",
              "    <path d=\"M0 0h24v24H0V0z\" fill=\"none\"/>\n",
              "    <path d=\"M18.56 5.44l.94 2.06.94-2.06 2.06-.94-2.06-.94-.94-2.06-.94 2.06-2.06.94zm-11 1L8.5 8.5l.94-2.06 2.06-.94-2.06-.94L8.5 2.5l-.94 2.06-2.06.94zm10 10l.94 2.06.94-2.06 2.06-.94-2.06-.94-.94-2.06-.94 2.06-2.06.94z\"/><path d=\"M17.41 7.96l-1.37-1.37c-.4-.4-.92-.59-1.43-.59-.52 0-1.04.2-1.43.59L10.3 9.45l-7.72 7.72c-.78.78-.78 2.05 0 2.83L4 21.41c.39.39.9.59 1.41.59.51 0 1.02-.2 1.41-.59l7.78-7.78 2.81-2.81c.8-.78.8-2.07 0-2.86zM5.41 20L4 18.59l7.72-7.72 1.47 1.35L5.41 20z\"/>\n",
              "  </svg>\n",
              "      </button>\n",
              "      \n",
              "  <style>\n",
              "    .colab-df-container {\n",
              "      display:flex;\n",
              "      flex-wrap:wrap;\n",
              "      gap: 12px;\n",
              "    }\n",
              "\n",
              "    .colab-df-convert {\n",
              "      background-color: #E8F0FE;\n",
              "      border: none;\n",
              "      border-radius: 50%;\n",
              "      cursor: pointer;\n",
              "      display: none;\n",
              "      fill: #1967D2;\n",
              "      height: 32px;\n",
              "      padding: 0 0 0 0;\n",
              "      width: 32px;\n",
              "    }\n",
              "\n",
              "    .colab-df-convert:hover {\n",
              "      background-color: #E2EBFA;\n",
              "      box-shadow: 0px 1px 2px rgba(60, 64, 67, 0.3), 0px 1px 3px 1px rgba(60, 64, 67, 0.15);\n",
              "      fill: #174EA6;\n",
              "    }\n",
              "\n",
              "    [theme=dark] .colab-df-convert {\n",
              "      background-color: #3B4455;\n",
              "      fill: #D2E3FC;\n",
              "    }\n",
              "\n",
              "    [theme=dark] .colab-df-convert:hover {\n",
              "      background-color: #434B5C;\n",
              "      box-shadow: 0px 1px 3px 1px rgba(0, 0, 0, 0.15);\n",
              "      filter: drop-shadow(0px 1px 2px rgba(0, 0, 0, 0.3));\n",
              "      fill: #FFFFFF;\n",
              "    }\n",
              "  </style>\n",
              "\n",
              "      <script>\n",
              "        const buttonEl =\n",
              "          document.querySelector('#df-d2afdc60-779c-434f-a325-c954a94052f0 button.colab-df-convert');\n",
              "        buttonEl.style.display =\n",
              "          google.colab.kernel.accessAllowed ? 'block' : 'none';\n",
              "\n",
              "        async function convertToInteractive(key) {\n",
              "          const element = document.querySelector('#df-d2afdc60-779c-434f-a325-c954a94052f0');\n",
              "          const dataTable =\n",
              "            await google.colab.kernel.invokeFunction('convertToInteractive',\n",
              "                                                     [key], {});\n",
              "          if (!dataTable) return;\n",
              "\n",
              "          const docLinkHtml = 'Like what you see? Visit the ' +\n",
              "            '<a target=\"_blank\" href=https://colab.research.google.com/notebooks/data_table.ipynb>data table notebook</a>'\n",
              "            + ' to learn more about interactive tables.';\n",
              "          element.innerHTML = '';\n",
              "          dataTable['output_type'] = 'display_data';\n",
              "          await google.colab.output.renderOutput(dataTable, element);\n",
              "          const docLink = document.createElement('div');\n",
              "          docLink.innerHTML = docLinkHtml;\n",
              "          element.appendChild(docLink);\n",
              "        }\n",
              "      </script>\n",
              "    </div>\n",
              "  </div>\n",
              "  "
            ]
          },
          "metadata": {},
          "execution_count": 65
        }
      ],
      "source": [
        "import pandas as pd \n",
        "train_summary = pd.DataFrame({'Methods':['Decision Tree', 'Random Forest','KNN','Gradiet Boost','Ada boost','Neural Network'], 'Dataset':'Train', \n",
        "                              'R-square':[train_dt_r2, train_rf_r2,train_knn_r2, train_gbr_r2,train_abr_r2,r2_train]})\n",
        "train_summary"
      ]
    },
    {
      "cell_type": "code",
      "execution_count": null,
      "metadata": {
        "id": "cXoX2VE71uki",
        "colab": {
          "base_uri": "https://localhost:8080/",
          "height": 238
        },
        "outputId": "90216170-6e30-4e5a-c86a-47acc71c7587"
      },
      "outputs": [
        {
          "output_type": "execute_result",
          "data": {
            "text/plain": [
              "          Methods Dataset  R-square\n",
              "0   Decision Tree    Test  0.230173\n",
              "1   Random Forest    Test  0.275687\n",
              "2             KNN    Test  0.212484\n",
              "3   Gradiet Boost    Test  0.277077\n",
              "4       Ada boost    Test  0.225878\n",
              "5  Neural Network    Test  0.275345"
            ],
            "text/html": [
              "\n",
              "  <div id=\"df-dc93aa9f-f8af-4cd9-9a68-1542f29d2f86\">\n",
              "    <div class=\"colab-df-container\">\n",
              "      <div>\n",
              "<style scoped>\n",
              "    .dataframe tbody tr th:only-of-type {\n",
              "        vertical-align: middle;\n",
              "    }\n",
              "\n",
              "    .dataframe tbody tr th {\n",
              "        vertical-align: top;\n",
              "    }\n",
              "\n",
              "    .dataframe thead th {\n",
              "        text-align: right;\n",
              "    }\n",
              "</style>\n",
              "<table border=\"1\" class=\"dataframe\">\n",
              "  <thead>\n",
              "    <tr style=\"text-align: right;\">\n",
              "      <th></th>\n",
              "      <th>Methods</th>\n",
              "      <th>Dataset</th>\n",
              "      <th>R-square</th>\n",
              "    </tr>\n",
              "  </thead>\n",
              "  <tbody>\n",
              "    <tr>\n",
              "      <th>0</th>\n",
              "      <td>Decision Tree</td>\n",
              "      <td>Test</td>\n",
              "      <td>0.230173</td>\n",
              "    </tr>\n",
              "    <tr>\n",
              "      <th>1</th>\n",
              "      <td>Random Forest</td>\n",
              "      <td>Test</td>\n",
              "      <td>0.275687</td>\n",
              "    </tr>\n",
              "    <tr>\n",
              "      <th>2</th>\n",
              "      <td>KNN</td>\n",
              "      <td>Test</td>\n",
              "      <td>0.212484</td>\n",
              "    </tr>\n",
              "    <tr>\n",
              "      <th>3</th>\n",
              "      <td>Gradiet Boost</td>\n",
              "      <td>Test</td>\n",
              "      <td>0.277077</td>\n",
              "    </tr>\n",
              "    <tr>\n",
              "      <th>4</th>\n",
              "      <td>Ada boost</td>\n",
              "      <td>Test</td>\n",
              "      <td>0.225878</td>\n",
              "    </tr>\n",
              "    <tr>\n",
              "      <th>5</th>\n",
              "      <td>Neural Network</td>\n",
              "      <td>Test</td>\n",
              "      <td>0.275345</td>\n",
              "    </tr>\n",
              "  </tbody>\n",
              "</table>\n",
              "</div>\n",
              "      <button class=\"colab-df-convert\" onclick=\"convertToInteractive('df-dc93aa9f-f8af-4cd9-9a68-1542f29d2f86')\"\n",
              "              title=\"Convert this dataframe to an interactive table.\"\n",
              "              style=\"display:none;\">\n",
              "        \n",
              "  <svg xmlns=\"http://www.w3.org/2000/svg\" height=\"24px\"viewBox=\"0 0 24 24\"\n",
              "       width=\"24px\">\n",
              "    <path d=\"M0 0h24v24H0V0z\" fill=\"none\"/>\n",
              "    <path d=\"M18.56 5.44l.94 2.06.94-2.06 2.06-.94-2.06-.94-.94-2.06-.94 2.06-2.06.94zm-11 1L8.5 8.5l.94-2.06 2.06-.94-2.06-.94L8.5 2.5l-.94 2.06-2.06.94zm10 10l.94 2.06.94-2.06 2.06-.94-2.06-.94-.94-2.06-.94 2.06-2.06.94z\"/><path d=\"M17.41 7.96l-1.37-1.37c-.4-.4-.92-.59-1.43-.59-.52 0-1.04.2-1.43.59L10.3 9.45l-7.72 7.72c-.78.78-.78 2.05 0 2.83L4 21.41c.39.39.9.59 1.41.59.51 0 1.02-.2 1.41-.59l7.78-7.78 2.81-2.81c.8-.78.8-2.07 0-2.86zM5.41 20L4 18.59l7.72-7.72 1.47 1.35L5.41 20z\"/>\n",
              "  </svg>\n",
              "      </button>\n",
              "      \n",
              "  <style>\n",
              "    .colab-df-container {\n",
              "      display:flex;\n",
              "      flex-wrap:wrap;\n",
              "      gap: 12px;\n",
              "    }\n",
              "\n",
              "    .colab-df-convert {\n",
              "      background-color: #E8F0FE;\n",
              "      border: none;\n",
              "      border-radius: 50%;\n",
              "      cursor: pointer;\n",
              "      display: none;\n",
              "      fill: #1967D2;\n",
              "      height: 32px;\n",
              "      padding: 0 0 0 0;\n",
              "      width: 32px;\n",
              "    }\n",
              "\n",
              "    .colab-df-convert:hover {\n",
              "      background-color: #E2EBFA;\n",
              "      box-shadow: 0px 1px 2px rgba(60, 64, 67, 0.3), 0px 1px 3px 1px rgba(60, 64, 67, 0.15);\n",
              "      fill: #174EA6;\n",
              "    }\n",
              "\n",
              "    [theme=dark] .colab-df-convert {\n",
              "      background-color: #3B4455;\n",
              "      fill: #D2E3FC;\n",
              "    }\n",
              "\n",
              "    [theme=dark] .colab-df-convert:hover {\n",
              "      background-color: #434B5C;\n",
              "      box-shadow: 0px 1px 3px 1px rgba(0, 0, 0, 0.15);\n",
              "      filter: drop-shadow(0px 1px 2px rgba(0, 0, 0, 0.3));\n",
              "      fill: #FFFFFF;\n",
              "    }\n",
              "  </style>\n",
              "\n",
              "      <script>\n",
              "        const buttonEl =\n",
              "          document.querySelector('#df-dc93aa9f-f8af-4cd9-9a68-1542f29d2f86 button.colab-df-convert');\n",
              "        buttonEl.style.display =\n",
              "          google.colab.kernel.accessAllowed ? 'block' : 'none';\n",
              "\n",
              "        async function convertToInteractive(key) {\n",
              "          const element = document.querySelector('#df-dc93aa9f-f8af-4cd9-9a68-1542f29d2f86');\n",
              "          const dataTable =\n",
              "            await google.colab.kernel.invokeFunction('convertToInteractive',\n",
              "                                                     [key], {});\n",
              "          if (!dataTable) return;\n",
              "\n",
              "          const docLinkHtml = 'Like what you see? Visit the ' +\n",
              "            '<a target=\"_blank\" href=https://colab.research.google.com/notebooks/data_table.ipynb>data table notebook</a>'\n",
              "            + ' to learn more about interactive tables.';\n",
              "          element.innerHTML = '';\n",
              "          dataTable['output_type'] = 'display_data';\n",
              "          await google.colab.output.renderOutput(dataTable, element);\n",
              "          const docLink = document.createElement('div');\n",
              "          docLink.innerHTML = docLinkHtml;\n",
              "          element.appendChild(docLink);\n",
              "        }\n",
              "      </script>\n",
              "    </div>\n",
              "  </div>\n",
              "  "
            ]
          },
          "metadata": {},
          "execution_count": 66
        }
      ],
      "source": [
        "import pandas as pd \n",
        "test_summary = pd.DataFrame({'Methods':['Decision Tree', 'Random Forest','KNN','Gradiet Boost','Ada boost','Neural Network'], 'Dataset':'Test', \n",
        "                              'R-square':[test_dt_r2, test_rf_r2,test_knn_r2, test_gbr_r2,test_abr_r2,r2_test]})\n",
        "test_summary"
      ]
    },
    {
      "cell_type": "code",
      "execution_count": 1,
      "metadata": {
        "id": "ygMyqKpHJAP1",
        "colab": {
          "base_uri": "https://localhost:8080/"
        },
        "outputId": "a6094247-3801-47af-f45e-0bcd677f97e2"
      },
      "outputs": [
        {
          "output_type": "stream",
          "name": "stdout",
          "text": [
            "Looking in indexes: https://pypi.org/simple, https://us-python.pkg.dev/colab-wheels/public/simple/\n",
            "Collecting gradio\n",
            "  Downloading gradio-3.30.0-py3-none-any.whl (17.3 MB)\n",
            "\u001b[2K     \u001b[90m━━━━━━━━━━━━━━━━━━━━━━━━━━━━━━━━━━━━━━━━\u001b[0m \u001b[32m17.3/17.3 MB\u001b[0m \u001b[31m32.2 MB/s\u001b[0m eta \u001b[36m0:00:00\u001b[0m\n",
            "\u001b[?25hCollecting aiofiles (from gradio)\n",
            "  Downloading aiofiles-23.1.0-py3-none-any.whl (14 kB)\n",
            "Collecting aiohttp (from gradio)\n",
            "  Downloading aiohttp-3.8.4-cp310-cp310-manylinux_2_17_x86_64.manylinux2014_x86_64.whl (1.0 MB)\n",
            "\u001b[2K     \u001b[90m━━━━━━━━━━━━━━━━━━━━━━━━━━━━━━━━━━━━━━━━\u001b[0m \u001b[32m1.0/1.0 MB\u001b[0m \u001b[31m12.6 MB/s\u001b[0m eta \u001b[36m0:00:00\u001b[0m\n",
            "\u001b[?25hRequirement already satisfied: altair>=4.2.0 in /usr/local/lib/python3.10/dist-packages (from gradio) (4.2.2)\n",
            "Collecting fastapi (from gradio)\n",
            "  Downloading fastapi-0.95.1-py3-none-any.whl (56 kB)\n",
            "\u001b[2K     \u001b[90m━━━━━━━━━━━━━━━━━━━━━━━━━━━━━━━━━━━━━━━━\u001b[0m \u001b[32m57.0/57.0 kB\u001b[0m \u001b[31m2.5 MB/s\u001b[0m eta \u001b[36m0:00:00\u001b[0m\n",
            "\u001b[?25hCollecting ffmpy (from gradio)\n",
            "  Downloading ffmpy-0.3.0.tar.gz (4.8 kB)\n",
            "  Preparing metadata (setup.py) ... \u001b[?25l\u001b[?25hdone\n",
            "Collecting gradio-client>=0.2.4 (from gradio)\n",
            "  Downloading gradio_client-0.2.4-py3-none-any.whl (287 kB)\n",
            "\u001b[2K     \u001b[90m━━━━━━━━━━━━━━━━━━━━━━━━━━━━━━━━━━━━━━\u001b[0m \u001b[32m287.9/287.9 kB\u001b[0m \u001b[31m10.8 MB/s\u001b[0m eta \u001b[36m0:00:00\u001b[0m\n",
            "\u001b[?25hCollecting httpx (from gradio)\n",
            "  Downloading httpx-0.24.0-py3-none-any.whl (75 kB)\n",
            "\u001b[2K     \u001b[90m━━━━━━━━━━━━━━━━━━━━━━━━━━━━━━━━━━━━━━━━\u001b[0m \u001b[32m75.3/75.3 kB\u001b[0m \u001b[31m5.5 MB/s\u001b[0m eta \u001b[36m0:00:00\u001b[0m\n",
            "\u001b[?25hCollecting huggingface-hub>=0.13.0 (from gradio)\n",
            "  Downloading huggingface_hub-0.14.1-py3-none-any.whl (224 kB)\n",
            "\u001b[2K     \u001b[90m━━━━━━━━━━━━━━━━━━━━━━━━━━━━━━━━━━━━━━\u001b[0m \u001b[32m224.5/224.5 kB\u001b[0m \u001b[31m10.4 MB/s\u001b[0m eta \u001b[36m0:00:00\u001b[0m\n",
            "\u001b[?25hRequirement already satisfied: jinja2 in /usr/local/lib/python3.10/dist-packages (from gradio) (3.1.2)\n",
            "Requirement already satisfied: markdown-it-py[linkify]>=2.0.0 in /usr/local/lib/python3.10/dist-packages (from gradio) (2.2.0)\n",
            "Requirement already satisfied: markupsafe in /usr/local/lib/python3.10/dist-packages (from gradio) (2.1.2)\n",
            "Requirement already satisfied: matplotlib in /usr/local/lib/python3.10/dist-packages (from gradio) (3.7.1)\n",
            "Collecting mdit-py-plugins<=0.3.3 (from gradio)\n",
            "  Downloading mdit_py_plugins-0.3.3-py3-none-any.whl (50 kB)\n",
            "\u001b[2K     \u001b[90m━━━━━━━━━━━━━━━━━━━━━━━━━━━━━━━━━━━━━━━━\u001b[0m \u001b[32m50.5/50.5 kB\u001b[0m \u001b[31m4.3 MB/s\u001b[0m eta \u001b[36m0:00:00\u001b[0m\n",
            "\u001b[?25hRequirement already satisfied: numpy in /usr/local/lib/python3.10/dist-packages (from gradio) (1.22.4)\n",
            "Collecting orjson (from gradio)\n",
            "  Downloading orjson-3.8.12-cp310-cp310-manylinux_2_17_x86_64.manylinux2014_x86_64.whl (137 kB)\n",
            "\u001b[2K     \u001b[90m━━━━━━━━━━━━━━━━━━━━━━━━━━━━━━━━━━━━━━━\u001b[0m \u001b[32m137.2/137.2 kB\u001b[0m \u001b[31m2.7 MB/s\u001b[0m eta \u001b[36m0:00:00\u001b[0m\n",
            "\u001b[?25hRequirement already satisfied: pandas in /usr/local/lib/python3.10/dist-packages (from gradio) (1.5.3)\n",
            "Requirement already satisfied: pillow in /usr/local/lib/python3.10/dist-packages (from gradio) (8.4.0)\n",
            "Requirement already satisfied: pydantic in /usr/local/lib/python3.10/dist-packages (from gradio) (1.10.7)\n",
            "Collecting pydub (from gradio)\n",
            "  Downloading pydub-0.25.1-py2.py3-none-any.whl (32 kB)\n",
            "Requirement already satisfied: pygments>=2.12.0 in /usr/local/lib/python3.10/dist-packages (from gradio) (2.14.0)\n",
            "Collecting python-multipart (from gradio)\n",
            "  Downloading python_multipart-0.0.6-py3-none-any.whl (45 kB)\n",
            "\u001b[2K     \u001b[90m━━━━━━━━━━━━━━━━━━━━━━━━━━━━━━━━━━━━━━━━\u001b[0m \u001b[32m45.7/45.7 kB\u001b[0m \u001b[31m3.0 MB/s\u001b[0m eta \u001b[36m0:00:00\u001b[0m\n",
            "\u001b[?25hRequirement already satisfied: pyyaml in /usr/local/lib/python3.10/dist-packages (from gradio) (6.0)\n",
            "Requirement already satisfied: requests in /usr/local/lib/python3.10/dist-packages (from gradio) (2.27.1)\n",
            "Collecting semantic-version (from gradio)\n",
            "  Downloading semantic_version-2.10.0-py2.py3-none-any.whl (15 kB)\n",
            "Requirement already satisfied: typing-extensions in /usr/local/lib/python3.10/dist-packages (from gradio) (4.5.0)\n",
            "Collecting uvicorn>=0.14.0 (from gradio)\n",
            "  Downloading uvicorn-0.22.0-py3-none-any.whl (58 kB)\n",
            "\u001b[2K     \u001b[90m━━━━━━━━━━━━━━━━━━━━━━━━━━━━━━━━━━━━━━━━\u001b[0m \u001b[32m58.3/58.3 kB\u001b[0m \u001b[31m3.2 MB/s\u001b[0m eta \u001b[36m0:00:00\u001b[0m\n",
            "\u001b[?25hCollecting websockets>=10.0 (from gradio)\n",
            "  Downloading websockets-11.0.3-cp310-cp310-manylinux_2_5_x86_64.manylinux1_x86_64.manylinux_2_17_x86_64.manylinux2014_x86_64.whl (129 kB)\n",
            "\u001b[2K     \u001b[90m━━━━━━━━━━━━━━━━━━━━━━━━━━━━━━━━━━━━━━━\u001b[0m \u001b[32m129.9/129.9 kB\u001b[0m \u001b[31m4.2 MB/s\u001b[0m eta \u001b[36m0:00:00\u001b[0m\n",
            "\u001b[?25hRequirement already satisfied: entrypoints in /usr/local/lib/python3.10/dist-packages (from altair>=4.2.0->gradio) (0.4)\n",
            "Requirement already satisfied: jsonschema>=3.0 in /usr/local/lib/python3.10/dist-packages (from altair>=4.2.0->gradio) (4.3.3)\n",
            "Requirement already satisfied: toolz in /usr/local/lib/python3.10/dist-packages (from altair>=4.2.0->gradio) (0.12.0)\n",
            "Requirement already satisfied: fsspec in /usr/local/lib/python3.10/dist-packages (from gradio-client>=0.2.4->gradio) (2023.4.0)\n",
            "Requirement already satisfied: packaging in /usr/local/lib/python3.10/dist-packages (from gradio-client>=0.2.4->gradio) (23.1)\n",
            "Requirement already satisfied: filelock in /usr/local/lib/python3.10/dist-packages (from huggingface-hub>=0.13.0->gradio) (3.12.0)\n",
            "Requirement already satisfied: tqdm>=4.42.1 in /usr/local/lib/python3.10/dist-packages (from huggingface-hub>=0.13.0->gradio) (4.65.0)\n",
            "Requirement already satisfied: mdurl~=0.1 in /usr/local/lib/python3.10/dist-packages (from markdown-it-py[linkify]>=2.0.0->gradio) (0.1.2)\n",
            "Collecting linkify-it-py<3,>=1 (from markdown-it-py[linkify]>=2.0.0->gradio)\n",
            "  Downloading linkify_it_py-2.0.2-py3-none-any.whl (19 kB)\n",
            "Requirement already satisfied: python-dateutil>=2.8.1 in /usr/local/lib/python3.10/dist-packages (from pandas->gradio) (2.8.2)\n",
            "Requirement already satisfied: pytz>=2020.1 in /usr/local/lib/python3.10/dist-packages (from pandas->gradio) (2022.7.1)\n",
            "Requirement already satisfied: click>=7.0 in /usr/local/lib/python3.10/dist-packages (from uvicorn>=0.14.0->gradio) (8.1.3)\n",
            "Collecting h11>=0.8 (from uvicorn>=0.14.0->gradio)\n",
            "  Downloading h11-0.14.0-py3-none-any.whl (58 kB)\n",
            "\u001b[2K     \u001b[90m━━━━━━━━━━━━━━━━━━━━━━━━━━━━━━━━━━━━━━━━\u001b[0m \u001b[32m58.3/58.3 kB\u001b[0m \u001b[31m6.2 MB/s\u001b[0m eta \u001b[36m0:00:00\u001b[0m\n",
            "\u001b[?25hRequirement already satisfied: attrs>=17.3.0 in /usr/local/lib/python3.10/dist-packages (from aiohttp->gradio) (23.1.0)\n",
            "Requirement already satisfied: charset-normalizer<4.0,>=2.0 in /usr/local/lib/python3.10/dist-packages (from aiohttp->gradio) (2.0.12)\n",
            "Collecting multidict<7.0,>=4.5 (from aiohttp->gradio)\n",
            "  Downloading multidict-6.0.4-cp310-cp310-manylinux_2_17_x86_64.manylinux2014_x86_64.whl (114 kB)\n",
            "\u001b[2K     \u001b[90m━━━━━━━━━━━━━━━━━━━━━━━━━━━━━━━━━━━━━━━\u001b[0m \u001b[32m114.5/114.5 kB\u001b[0m \u001b[31m2.2 MB/s\u001b[0m eta \u001b[36m0:00:00\u001b[0m\n",
            "\u001b[?25hCollecting async-timeout<5.0,>=4.0.0a3 (from aiohttp->gradio)\n",
            "  Downloading async_timeout-4.0.2-py3-none-any.whl (5.8 kB)\n",
            "Collecting yarl<2.0,>=1.0 (from aiohttp->gradio)\n",
            "  Downloading yarl-1.9.2-cp310-cp310-manylinux_2_17_x86_64.manylinux2014_x86_64.whl (268 kB)\n",
            "\u001b[2K     \u001b[90m━━━━━━━━━━━━━━━━━━━━━━━━━━━━━━━━━━━━━━\u001b[0m \u001b[32m268.8/268.8 kB\u001b[0m \u001b[31m10.5 MB/s\u001b[0m eta \u001b[36m0:00:00\u001b[0m\n",
            "\u001b[?25hCollecting frozenlist>=1.1.1 (from aiohttp->gradio)\n",
            "  Downloading frozenlist-1.3.3-cp310-cp310-manylinux_2_5_x86_64.manylinux1_x86_64.manylinux_2_17_x86_64.manylinux2014_x86_64.whl (149 kB)\n",
            "\u001b[2K     \u001b[90m━━━━━━━━━━━━━━━━━━━━━━━━━━━━━━━━━━━━━━\u001b[0m \u001b[32m149.6/149.6 kB\u001b[0m \u001b[31m18.4 MB/s\u001b[0m eta \u001b[36m0:00:00\u001b[0m\n",
            "\u001b[?25hCollecting aiosignal>=1.1.2 (from aiohttp->gradio)\n",
            "  Downloading aiosignal-1.3.1-py3-none-any.whl (7.6 kB)\n",
            "Collecting starlette<0.27.0,>=0.26.1 (from fastapi->gradio)\n",
            "  Downloading starlette-0.26.1-py3-none-any.whl (66 kB)\n",
            "\u001b[2K     \u001b[90m━━━━━━━━━━━━━━━━━━━━━━━━━━━━━━━━━━━━━━━━\u001b[0m \u001b[32m66.9/66.9 kB\u001b[0m \u001b[31m7.2 MB/s\u001b[0m eta \u001b[36m0:00:00\u001b[0m\n",
            "\u001b[?25hRequirement already satisfied: certifi in /usr/local/lib/python3.10/dist-packages (from httpx->gradio) (2022.12.7)\n",
            "Collecting httpcore<0.18.0,>=0.15.0 (from httpx->gradio)\n",
            "  Downloading httpcore-0.17.0-py3-none-any.whl (70 kB)\n",
            "\u001b[2K     \u001b[90m━━━━━━━━━━━━━━━━━━━━━━━━━━━━━━━━━━━━━━━━\u001b[0m \u001b[32m70.6/70.6 kB\u001b[0m \u001b[31m8.4 MB/s\u001b[0m eta \u001b[36m0:00:00\u001b[0m\n",
            "\u001b[?25hRequirement already satisfied: idna in /usr/local/lib/python3.10/dist-packages (from httpx->gradio) (3.4)\n",
            "Requirement already satisfied: sniffio in /usr/local/lib/python3.10/dist-packages (from httpx->gradio) (1.3.0)\n",
            "Requirement already satisfied: contourpy>=1.0.1 in /usr/local/lib/python3.10/dist-packages (from matplotlib->gradio) (1.0.7)\n",
            "Requirement already satisfied: cycler>=0.10 in /usr/local/lib/python3.10/dist-packages (from matplotlib->gradio) (0.11.0)\n",
            "Requirement already satisfied: fonttools>=4.22.0 in /usr/local/lib/python3.10/dist-packages (from matplotlib->gradio) (4.39.3)\n",
            "Requirement already satisfied: kiwisolver>=1.0.1 in /usr/local/lib/python3.10/dist-packages (from matplotlib->gradio) (1.4.4)\n",
            "Requirement already satisfied: pyparsing>=2.3.1 in /usr/local/lib/python3.10/dist-packages (from matplotlib->gradio) (3.0.9)\n",
            "Requirement already satisfied: urllib3<1.27,>=1.21.1 in /usr/local/lib/python3.10/dist-packages (from requests->gradio) (1.26.15)\n",
            "Requirement already satisfied: anyio<5.0,>=3.0 in /usr/local/lib/python3.10/dist-packages (from httpcore<0.18.0,>=0.15.0->httpx->gradio) (3.6.2)\n",
            "Requirement already satisfied: pyrsistent!=0.17.0,!=0.17.1,!=0.17.2,>=0.14.0 in /usr/local/lib/python3.10/dist-packages (from jsonschema>=3.0->altair>=4.2.0->gradio) (0.19.3)\n",
            "Collecting uc-micro-py (from linkify-it-py<3,>=1->markdown-it-py[linkify]>=2.0.0->gradio)\n",
            "  Downloading uc_micro_py-1.0.2-py3-none-any.whl (6.2 kB)\n",
            "Requirement already satisfied: six>=1.5 in /usr/local/lib/python3.10/dist-packages (from python-dateutil>=2.8.1->pandas->gradio) (1.16.0)\n",
            "Building wheels for collected packages: ffmpy\n",
            "  Building wheel for ffmpy (setup.py) ... \u001b[?25l\u001b[?25hdone\n",
            "  Created wheel for ffmpy: filename=ffmpy-0.3.0-py3-none-any.whl size=4694 sha256=dfb090bf468363a2ff05986c9cd1d8b71a44a38a32bede8d9c4837cd6b535bc2\n",
            "  Stored in directory: /root/.cache/pip/wheels/0c/c2/0e/3b9c6845c6a4e35beb90910cc70d9ac9ab5d47402bd62af0df\n",
            "Successfully built ffmpy\n",
            "Installing collected packages: pydub, ffmpy, websockets, uc-micro-py, semantic-version, python-multipart, orjson, multidict, h11, frozenlist, async-timeout, aiofiles, yarl, uvicorn, starlette, mdit-py-plugins, linkify-it-py, huggingface-hub, httpcore, aiosignal, httpx, fastapi, aiohttp, gradio-client, gradio\n",
            "Successfully installed aiofiles-23.1.0 aiohttp-3.8.4 aiosignal-1.3.1 async-timeout-4.0.2 fastapi-0.95.1 ffmpy-0.3.0 frozenlist-1.3.3 gradio-3.30.0 gradio-client-0.2.4 h11-0.14.0 httpcore-0.17.0 httpx-0.24.0 huggingface-hub-0.14.1 linkify-it-py-2.0.2 mdit-py-plugins-0.3.3 multidict-6.0.4 orjson-3.8.12 pydub-0.25.1 python-multipart-0.0.6 semantic-version-2.10.0 starlette-0.26.1 uc-micro-py-1.0.2 uvicorn-0.22.0 websockets-11.0.3 yarl-1.9.2\n",
            "3.30.0\n"
          ]
        }
      ],
      "source": [
        "!pip install gradio\n",
        "import gradio as gr\n",
        "print(gr.__version__)"
      ]
    },
    {
      "cell_type": "code",
      "execution_count": 3,
      "metadata": {
        "id": "V8H6tVipFl4X"
      },
      "outputs": [],
      "source": [
        "import gradio as gr\n",
        "import numpy as np\n",
        "# Define Inputs\n",
        "Gender = gr.inputs.Dropdown(choices=[0, 1], label = \"Gender\")\n",
        "Race = gr.inputs.Slider(0, 21, step=2, label = \"Race\")\n",
        "Age = gr.inputs.Slider(0, 9, step=1, label = \"Age\")\n",
        "Height = gr.inputs.Textbox(label = \"Height\")\n",
        "Weight\t = gr.inputs.Textbox(label = \"Weight\")\n",
        "Diabetes = gr.inputs.Dropdown(choices=[0, 1], label = \"Diabetes\")\n",
        "Simvastatin = gr.inputs.Dropdown(choices=[0, 1], label = \"Simvastatin\")\n",
        "Amiodarone = gr.inputs.Dropdown(choices=[0, 1], label =\"Amiodarone\")\n",
        "INR_on_ReportedDose = gr.inputs.Textbox(label = \"INR on ReportedDose\")\n",
        "genotype = gr.inputs.Dropdown(choices=[0, 1, 2], label = \"genotype\")\n",
        "model_type = gr.inputs.Dropdown(choices=[\"Decision Tree\", \"Random Forest\", \"AdaBoost\", \"KNN\", \"Gradient Boost\",\"Neural network\"], label = \"Model Dropdown\")"
      ]
    },
    {
      "cell_type": "code",
      "execution_count": 4,
      "metadata": {
        "id": "uA7LvjydJVLO",
        "colab": {
          "base_uri": "https://localhost:8080/"
        },
        "outputId": "62338773-8777-4641-fdb8-75c1cdd33be6"
      },
      "outputs": [
        {
          "output_type": "stream",
          "name": "stderr",
          "text": [
            "/usr/local/lib/python3.10/dist-packages/gradio/outputs.py:22: UserWarning: Usage of gradio.outputs is deprecated, and will not be supported in the future, please import your components from gradio.components\n",
            "  warnings.warn(\n"
          ]
        }
      ],
      "source": [
        "# Define output\n",
        "output1 = gr.outputs.Textbox(label = \"Therapeutic Dow\")"
      ]
    },
    {
      "cell_type": "code",
      "execution_count": 5,
      "metadata": {
        "id": "L9h8RFtKJapl"
      },
      "outputs": [],
      "source": [
        "def prediction(Gender, Race , Age, Height, Weight , Diabetes,\n",
        "       Simvastatin , Amiodarone , INR_on_ReportedDose, genotype, model_type):\n",
        "  output = 0\n",
        "  import numpy as np\n",
        "  input = np.array([[Gender, Race , Age, Height, Weight , Diabetes,\n",
        "       Simvastatin , Amiodarone ,INR_on_ReportedDose, genotype]])\n",
        "  normalizedtrain_features = scaler.transform(input)\n",
        "  if model_type == \"Decision Tree\":\n",
        "    output = best_dt_model.predict(normalizedtrain_features)\n",
        "  if model_type == \"Random Forest\":\n",
        "    output = best_rf_model.predict(normalizedtrain_features)\n",
        "  if model_type == \"KNN\":\n",
        "    output = best_knn_model.predict(normalizedtrain_features)\n",
        "  if model_type == \"AdaBoost\":\n",
        "    output = best_abr_model.predict(normalizedtrain_features)\n",
        "  if model_type == \"Gradient Boost\":\n",
        "    output = best_gbr_model.predict(normalizedtrain_features)\n",
        "  if model_type == \"Neural network\":\n",
        "    output = best_mlp_model.predict(normalizedtrain_features)\n",
        "  \n",
        "  return output"
      ]
    },
    {
      "cell_type": "code",
      "execution_count": 6,
      "metadata": {
        "id": "vmtGRQCkJbUW",
        "colab": {
          "base_uri": "https://localhost:8080/",
          "height": 616
        },
        "outputId": "74bc24ab-b493-4d4f-ff59-56d5860253a7"
      },
      "outputs": [
        {
          "output_type": "stream",
          "name": "stdout",
          "text": [
            "Colab notebook detected. To show errors in colab notebook, set debug=True in launch()\n",
            "Note: opening Chrome Inspector may crash demo inside Colab notebooks.\n",
            "\n",
            "To create a public link, set `share=True` in `launch()`.\n"
          ]
        },
        {
          "output_type": "display_data",
          "data": {
            "text/plain": [
              "<IPython.core.display.Javascript object>"
            ],
            "application/javascript": [
              "(async (port, path, width, height, cache, element) => {\n",
              "                        if (!google.colab.kernel.accessAllowed && !cache) {\n",
              "                            return;\n",
              "                        }\n",
              "                        element.appendChild(document.createTextNode(''));\n",
              "                        const url = await google.colab.kernel.proxyPort(port, {cache});\n",
              "\n",
              "                        const external_link = document.createElement('div');\n",
              "                        external_link.innerHTML = `\n",
              "                            <div style=\"font-family: monospace; margin-bottom: 0.5rem\">\n",
              "                                Running on <a href=${new URL(path, url).toString()} target=\"_blank\">\n",
              "                                    https://localhost:${port}${path}\n",
              "                                </a>\n",
              "                            </div>\n",
              "                        `;\n",
              "                        element.appendChild(external_link);\n",
              "\n",
              "                        const iframe = document.createElement('iframe');\n",
              "                        iframe.src = new URL(path, url).toString();\n",
              "                        iframe.height = height;\n",
              "                        iframe.allow = \"autoplay; camera; microphone; clipboard-read; clipboard-write;\"\n",
              "                        iframe.width = width;\n",
              "                        iframe.style.border = 0;\n",
              "                        element.appendChild(iframe);\n",
              "                    })(7860, \"/\", \"100%\", 500, false, window.element)"
            ]
          },
          "metadata": {}
        },
        {
          "output_type": "execute_result",
          "data": {
            "text/plain": []
          },
          "metadata": {},
          "execution_count": 6
        }
      ],
      "source": [
        "gr.Interface(fn=prediction,\n",
        "             inputs = [Gender, Race , Age, Height, Weight , Diabetes,\n",
        "       Simvastatin , Amiodarone , INR_on_ReportedDose, genotype, model_type],\n",
        "             outputs=[output1]).launch()"
      ]
    },
    {
      "cell_type": "code",
      "source": [],
      "metadata": {
        "id": "LQcRuNVolnSy"
      },
      "execution_count": null,
      "outputs": []
    }
  ],
  "metadata": {
    "accelerator": "GPU",
    "colab": {
      "provenance": []
    },
    "gpuClass": "standard",
    "kernelspec": {
      "display_name": "Python 3",
      "name": "python3"
    },
    "language_info": {
      "name": "python"
    }
  },
  "nbformat": 4,
  "nbformat_minor": 0
}